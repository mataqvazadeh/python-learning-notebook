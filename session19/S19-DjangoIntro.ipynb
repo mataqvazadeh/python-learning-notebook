{
 "cells": [
  {
   "cell_type": "markdown",
   "id": "72a3ccdc",
   "metadata": {},
   "source": [
    "# Introduction to Django Framework"
   ]
  },
  {
   "cell_type": "markdown",
   "id": "352ebf04",
   "metadata": {},
   "source": [
    "## What is a Framework?\n",
    "\n",
    "A **framework** is a collection of tools, libraries, and conventions that simplify and accelerate software development. In web development, frameworks help developers by providing a structured foundation to build applications more efficiently.\n",
    "\n",
    "Examples of popular frameworks:\n",
    "- **Django** (Python)\n",
    "- **Rails** (Ruby)\n",
    "- **Laravel** (PHP)\n",
    "\n",
    "Frameworks handle repetitive tasks like routing, form handling, and database access, so developers can focus on core functionality.\n"
   ]
  },
  {
   "cell_type": "markdown",
   "id": "0d2cdf45",
   "metadata": {},
   "source": [
    "## Why Choose Django?\n",
    "\n",
    "Django is a high-level Python web framework designed for rapid development and clean, pragmatic design.\n",
    "\n",
    "### Key Advantages:\n",
    "- **Fast Development** with built-in features like the admin panel.\n",
    "- **Secure**: Prevents common web vulnerabilities (e.g., SQL injection, XSS).\n",
    "- **Scalable** and **robust** for both small and large applications.\n",
    "- **Huge Community** with great documentation and support.\n"
   ]
  },
  {
   "cell_type": "markdown",
   "id": "bbe9b1e6",
   "metadata": {},
   "source": [
    "## Benefits of Using Django\n",
    "\n",
    "### 🔧 Development Speed\n",
    "- Built-in tools like:\n",
    "  - Admin interface\n",
    "  - Form handling\n",
    "  - URL routing\n",
    "\n",
    "### 🔒 Security\n",
    "- Django automatically protects against:\n",
    "  - SQL injection\n",
    "  - Cross-site scripting (XSS)\n",
    "  - Cross-site request forgery (CSRF)\n",
    "\n",
    "### 🧰 Integrated Capabilities\n",
    "- ORM (Object-Relational Mapping)\n",
    "- Authentication system\n",
    "- File uploads\n"
   ]
  },
  {
   "cell_type": "markdown",
   "id": "ec51baeb",
   "metadata": {},
   "source": [
    "## Django Architecture: MVC vs MVT\n",
    "\n",
    "### MVC (Model-View-Controller)\n",
    "- **Model**: Data structure and business logic\n",
    "- **View**: Presentation layer (UI)\n",
    "- **Controller**: Handles user input and updates model/view\n",
    "\n",
    "### MVT (Model-View-Template) – Django's Approach\n",
    "- **Model**: Defines database schema\n",
    "- **View**: Contains business logic\n",
    "- **Template**: Handles presentation layer (HTML rendering)\n",
    "\n",
    "> In Django, the **framework itself acts as the controller**, routing URLs to the appropriate views.\n"
   ]
  },
  {
   "cell_type": "markdown",
   "id": "95ca812f",
   "metadata": {},
   "source": [
    "## Frontend vs Backend\n",
    "\n",
    "### Frontend (Client-side)\n",
    "- HTML, CSS, JavaScript\n",
    "- What the user interacts with\n",
    "\n",
    "### Backend (Server-side)\n",
    "- Handles data processing, database access, and business logic\n",
    "\n",
    "### Django in the Backend\n",
    "- Processes requests\n",
    "- Handles authentication\n",
    "- Connects to databases and renders templates\n"
   ]
  },
  {
   "cell_type": "markdown",
   "id": "38132b53",
   "metadata": {},
   "source": [
    "## Setting Up Django\n",
    "\n",
    "Install Python (if not already installed). Then, install Django using pip:\n"
   ]
  },
  {
   "cell_type": "code",
   "execution_count": null,
   "id": "16933bf8",
   "metadata": {
    "vscode": {
     "languageId": "shellscript"
    }
   },
   "outputs": [],
   "source": [
    "!pip install django"
   ]
  },
  {
   "cell_type": "markdown",
   "id": "a5849d3c",
   "metadata": {},
   "source": [
    "Check Django version:"
   ]
  },
  {
   "cell_type": "code",
   "execution_count": null,
   "id": "d0c5346b",
   "metadata": {
    "vscode": {
     "languageId": "shellscript"
    }
   },
   "outputs": [],
   "source": [
    "!django-admin --version"
   ]
  },
  {
   "cell_type": "markdown",
   "id": "a70721d4",
   "metadata": {},
   "source": [
    "## Creating a Django Project\n",
    "\n",
    "Use the following command to start a new project:\n"
   ]
  },
  {
   "cell_type": "code",
   "execution_count": null,
   "id": "65c6ac48",
   "metadata": {
    "vscode": {
     "languageId": "shellscript"
    }
   },
   "outputs": [],
   "source": [
    "!django-admin startproject mysite"
   ]
  },
  {
   "cell_type": "markdown",
   "id": "538ed03b",
   "metadata": {},
   "source": [
    "### Folder Structure Explanation\n",
    "\n",
    "- `manage.py`: Command-line utility\n",
    "- `mysite/__init__.py`: Marks the folder as a Python package\n",
    "- `settings.py`: Project configuration\n",
    "- `urls.py`: URL declarations\n",
    "- `wsgi.py`: WSGI config for deployment\n"
   ]
  },
  {
   "cell_type": "markdown",
   "id": "3f62b98a",
   "metadata": {},
   "source": [
    "## Running the Django Development Server\n",
    "\n",
    "Navigate into your project directory and run:\n"
   ]
  },
  {
   "cell_type": "code",
   "execution_count": null,
   "id": "a3e9b30f",
   "metadata": {
    "vscode": {
     "languageId": "shellscript"
    }
   },
   "outputs": [],
   "source": [
    "!python mysite/manage.py runserver"
   ]
  },
  {
   "cell_type": "markdown",
   "id": "a3e756b7",
   "metadata": {},
   "source": [
    "Go to `http://127.0.0.1:8000/` in your browser to see the default Django welcome page."
   ]
  },
  {
   "cell_type": "markdown",
   "id": "c4f17530",
   "metadata": {},
   "source": [
    "## Demo: Blog Project Overview\n",
    "\n",
    "Explore a simple blog application built with Django.\n",
    "\n",
    "### Key Features:\n",
    "- Home Page\n",
    "- Post Detail View\n",
    "- Admin Panel\n",
    "- Authentication (Login/Logout)\n",
    "\n",
    "Use the following commands to navigate and explore:\n"
   ]
  },
  {
   "cell_type": "code",
   "execution_count": null,
   "id": "231c77c5",
   "metadata": {
    "vscode": {
     "languageId": "shellscript"
    }
   },
   "outputs": [],
   "source": [
    "!git clone https://github.com/TravelTimN/django-blog.git"
   ]
  },
  {
   "cell_type": "markdown",
   "id": "c8e637bc",
   "metadata": {},
   "source": [
    "Explore:\n",
    "- `post/models.py`: Data models\n",
    "- `post/views.py`: Business logic\n",
    "- `post/templates/`: HTML templates\n",
    "- Admin panel: `http://127.0.0.1:8000/admin`\n"
   ]
  },
  {
   "cell_type": "markdown",
   "id": "2fc564a4",
   "metadata": {},
   "source": [
    "## Summary\n",
    "\n",
    "- Django is a powerful framework for backend web development.\n",
    "- It simplifies development with built-in features and promotes clean code architecture.\n",
    "- We’ve seen how to install Django, start a project, and run a local server.\n",
    "\n",
    "### 🚧 Next Steps:\n",
    "- Build your first app with `python manage.py startapp app_name`\n",
    "- Create views, templates, and models\n",
    "- Dive deeper into Django ORM and admin customization\n"
   ]
  }
 ],
 "metadata": {
  "kernelspec": {
   "display_name": ".venv",
   "language": "python",
   "name": "python3"
  },
  "language_info": {
   "codemirror_mode": {
    "name": "ipython",
    "version": 3
   },
   "file_extension": ".py",
   "mimetype": "text/x-python",
   "name": "python",
   "nbconvert_exporter": "python",
   "pygments_lexer": "ipython3",
   "version": "3.12.3"
  }
 },
 "nbformat": 4,
 "nbformat_minor": 5
}
