{
 "cells": [
  {
   "cell_type": "markdown",
   "metadata": {},
   "source": [
    "# Character Encoding\n",
    "- We need to save characters into computers\n",
    "- References:\n",
    "    - [From Punchcard to Unicode: A Brief History of Character Encoding](https://studentwork.prattsi.org/infovis/visualization/from-punchcard-to-unicode-a-brief-history-of-character-encoding/)\n",
    "    - [The Evolution of Character Encoding](https://www.ascii-code.com/articles/Evolution-of-Character-Encoding)"
   ]
  },
  {
   "cell_type": "markdown",
   "metadata": {},
   "source": [
    "# ASCII‌ (American Standard Code for Information Interchange)\n",
    "![ASCII‌ Table](images/ascii.png)"
   ]
  },
  {
   "cell_type": "markdown",
   "metadata": {},
   "source": [
    "## Unicode\n",
    "- [Unicode Characters List](https://en.wikipedia.org/wiki/List_of_Unicode_characters)\n",
    "- UTF8\n",
    "- UTF16\n",
    "- UTF32\n",
    "- Python uses UTF8"
   ]
  },
  {
   "cell_type": "code",
   "execution_count": 6,
   "metadata": {},
   "outputs": [
    {
     "name": "stdout",
     "output_type": "stream",
     "text": [
      "97\n",
      "0b1100001\n",
      "0x61\n",
      "a\n"
     ]
    }
   ],
   "source": [
    "n = ord('a')\n",
    "print(n)\n",
    "print(bin(n))\n",
    "print(hex(n))\n",
    "\n",
    "print(chr(n))"
   ]
  }
 ],
 "metadata": {
  "kernelspec": {
   "display_name": ".venv",
   "language": "python",
   "name": "python3"
  },
  "language_info": {
   "codemirror_mode": {
    "name": "ipython",
    "version": 3
   },
   "file_extension": ".py",
   "mimetype": "text/x-python",
   "name": "python",
   "nbconvert_exporter": "python",
   "pygments_lexer": "ipython3",
   "version": "3.12.3"
  }
 },
 "nbformat": 4,
 "nbformat_minor": 2
}
