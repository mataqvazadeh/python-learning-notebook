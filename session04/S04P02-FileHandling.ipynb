{
 "cells": [
  {
   "cell_type": "markdown",
   "metadata": {},
   "source": [
    "# File Handling\n",
    "- We can stores data in files\n",
    "- Python text encoding is **UTF8**\n",
    "- You can work with:\n",
    "    - images and other non-text format as binary-mode\n",
    "    - text formats like json, csv and etx as text-mode"
   ]
  },
  {
   "cell_type": "markdown",
   "metadata": {},
   "source": [
    "## Reading file\n",
    "- **open** file in read mode\n",
    "    - r\n",
    "    - r+\n",
    "    - rb\n",
    "    - rb+\n",
    "- read file content\n",
    "    - **read** whole file\n",
    "    - **read** part by part\n",
    "    - read line by line\n",
    "        - **for**\n",
    "        - **readline**\n",
    "    - read all lines by **readlines**\n",
    "- **close** file\n",
    "- **with** keyword\n",
    "- read a file with specific encoding"
   ]
  },
  {
   "cell_type": "markdown",
   "metadata": {},
   "source": [
    "## Writing into file\n",
    "- **open** file in write mode\n",
    "    - w\n",
    "    - w+\n",
    "    - wb\n",
    "    - wb+\n",
    "- **open** file in append mode\n",
    "    - a\n",
    "    - a+\n",
    "    - ab\n",
    "    - ab+\n",
    "- **open** file in exclusive mode\n",
    "    - x\n",
    "    - x+\n",
    "    - xb\n",
    "    - xb+\n",
    "- write into file\n",
    "    - **write** string into files"
   ]
  },
  {
   "cell_type": "markdown",
   "metadata": {},
   "source": [
    "## Other file methods\n",
    "- **tell**\n",
    "- **seek**\n"
   ]
  }
 ],
 "metadata": {
  "language_info": {
   "name": "python"
  }
 },
 "nbformat": 4,
 "nbformat_minor": 2
}
