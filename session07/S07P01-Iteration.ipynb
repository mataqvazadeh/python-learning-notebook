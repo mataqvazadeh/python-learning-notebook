{
 "cells": [
  {
   "cell_type": "markdown",
   "metadata": {},
   "source": [
    "# Iteration"
   ]
  },
  {
   "cell_type": "markdown",
   "metadata": {},
   "source": [
    "## iterables and iterators\n",
    "- **iter**\n",
    "- **next**\n",
    "    - StopIteration\n",
    "    - default value\n",
    "- differed execution (lazy execution)\n",
    "    - **map**\n",
    "    - **filter**"
   ]
  },
  {
   "cell_type": "markdown",
   "metadata": {},
   "source": [
    "## Generators\n",
    "- Generator functions (**yield** instead **return**)\n",
    "- Generator expressions (We saw it before with Tuple Comprehension)\n",
    "- Generators user less memory"
   ]
  },
  {
   "cell_type": "markdown",
   "metadata": {},
   "source": [
    "## [**iterools**](https://docs.python.org/3/library/itertools.html) module\n",
    "- This module helps us to do some advanced iterations\n",
    "- There is 3 type functions:\n",
    "    - Infinite iterators\n",
    "        - **count**\n",
    "        - **cycle**\n",
    "        - **repeat**\n",
    "    - Iterators terminating\n",
    "        - **accumulate**\n",
    "        - **chain**\n",
    "    - Combinatoric iterators:\n",
    "        - **product**\n",
    "        - **combinations**\n",
    "        - **permutations**"
   ]
  },
  {
   "cell_type": "code",
   "execution_count": 1,
   "metadata": {},
   "outputs": [
    {
     "name": "stdout",
     "output_type": "stream",
     "text": [
      "lst[0] = hasan\n",
      "lst[1] = maryam\n",
      "lst[2] = reza\n",
      "lst[3] = sina\n",
      "\\/\\/\\/\\/\\/\\/\\/\\/\\/\\/\n",
      "lst[0] = hasan\n",
      "lst[1] = maryam\n",
      "lst[2] = reza\n",
      "lst[3] = sina\n"
     ]
    }
   ],
   "source": [
    "import itertools\n",
    "lst = ['hasan', 'maryam', 'reza', 'sina']\n",
    "\n",
    "for index, value in enumerate(lst):\n",
    "    print(f'lst[{index}] = {value}')\n",
    "\n",
    "print('\\\\/' * 10)\n",
    "\n",
    "for index, value in zip(itertools.count(), lst):\n",
    "    print(f'lst[{index}] = {value}')\n"
   ]
  }
 ],
 "metadata": {
  "kernelspec": {
   "display_name": ".venv",
   "language": "python",
   "name": "python3"
  },
  "language_info": {
   "codemirror_mode": {
    "name": "ipython",
    "version": 3
   },
   "file_extension": ".py",
   "mimetype": "text/x-python",
   "name": "python",
   "nbconvert_exporter": "python",
   "pygments_lexer": "ipython3",
   "version": "3.12.3"
  }
 },
 "nbformat": 4,
 "nbformat_minor": 2
}
