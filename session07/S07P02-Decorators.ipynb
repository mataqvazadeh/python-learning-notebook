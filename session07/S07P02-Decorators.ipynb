{
 "cells": [
  {
   "cell_type": "markdown",
   "metadata": {},
   "source": [
    "# Decorators\n",
    "- They are useful for adding functionality\n",
    "- Decorator is a Design Pattern\n",
    "- Decorator is a wrapper\n",
    "- Measure time of fibonacci\n",
    "- Simple Decorators\n",
    "- Parametrized Decorators\n",
    "- Chain decorators (Advance)\n",
    "- **wraps** (Advance)"
   ]
  }
 ],
 "metadata": {
  "language_info": {
   "name": "python"
  }
 },
 "nbformat": 4,
 "nbformat_minor": 2
}
