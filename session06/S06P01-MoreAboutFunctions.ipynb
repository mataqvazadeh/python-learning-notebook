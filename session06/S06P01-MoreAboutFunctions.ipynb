{
 "cells": [
  {
   "cell_type": "markdown",
   "metadata": {},
   "source": [
    "# More about Functions"
   ]
  },
  {
   "cell_type": "markdown",
   "metadata": {},
   "source": [
    "## Functional Programming Paradigm\n",
    "- Procedural\n",
    "- Object Oriented\n",
    "- Functional\n",
    "- Logical\n",
    "- Reactive"
   ]
  },
  {
   "cell_type": "markdown",
   "metadata": {},
   "source": [
    "## Functions are object\n",
    "- assign function into an variable\n",
    "- use **type** on functions\n",
    "- pass function as argument"
   ]
  },
  {
   "cell_type": "markdown",
   "metadata": {},
   "source": [
    "## Method and Functions that accept functions\n",
    "- **map**\n",
    "- **filter**\n",
    "- **functools.reduce**\n",
    "- key argument of **sorted**\n",
    "- mix functions\n"
   ]
  },
  {
   "cell_type": "markdown",
   "metadata": {},
   "source": [
    "# Anonymous Functions by *lambda*\n",
    "- What is lambda function (expression)?\n",
    "- Expression vs Statement\n",
    "- Repeat last examples with lambda expression\n",
    "- Use lambda expression inside list comprehension"
   ]
  },
  {
   "cell_type": "code",
   "execution_count": 2,
   "metadata": {},
   "outputs": [
    {
     "data": {
      "text/plain": [
       "[1, 8, 27, 64, 125, 216, 343, 512, 729]"
      ]
     },
     "execution_count": 2,
     "metadata": {},
     "output_type": "execute_result"
    }
   ],
   "source": [
    "[(lambda x: x ** 3)(i) for i in range(1, 10)]"
   ]
  },
  {
   "cell_type": "markdown",
   "metadata": {},
   "source": [
    "## Returning functions as function result\n",
    "- Nested functions\n",
    "- Lambda expressions\n",
    "- *Closure* or *variable catching*\n",
    "- Make adder"
   ]
  },
  {
   "cell_type": "markdown",
   "metadata": {},
   "source": [
    "## Recursion\n",
    "- Functions can call ourselves\n",
    "- Some mathematics serries are recursive like fibonacci or factorial\n",
    "- How define a good recursive function?\n",
    "- Stack Over Flow (We can't make infinitive loop with recursion)\n",
    "- Merge Sort if possible"
   ]
  }
 ],
 "metadata": {
  "kernelspec": {
   "display_name": ".venv",
   "language": "python",
   "name": "python3"
  },
  "language_info": {
   "codemirror_mode": {
    "name": "ipython",
    "version": 3
   },
   "file_extension": ".py",
   "mimetype": "text/x-python",
   "name": "python",
   "nbconvert_exporter": "python",
   "pygments_lexer": "ipython3",
   "version": "3.12.3"
  }
 },
 "nbformat": 4,
 "nbformat_minor": 2
}
