{
 "cells": [
  {
   "cell_type": "markdown",
   "metadata": {},
   "source": [
    "# More about Functions"
   ]
  },
  {
   "cell_type": "markdown",
   "metadata": {},
   "source": [
    "## Functional Programming Paradigm\n",
    "- Procedural\n",
    "- Object Oriented\n",
    "- Functional\n",
    "- Logical\n",
    "- Reactive"
   ]
  },
  {
   "cell_type": "markdown",
   "metadata": {},
   "source": [
    "## Functions are object\n",
    "- assign function into an variable\n",
    "- use **type** on functions\n",
    "- pass function as argument"
   ]
  },
  {
   "cell_type": "markdown",
   "metadata": {},
   "source": [
    "## Method and Functions that accept functions\n",
    "- **map**\n",
    "- **filter**\n",
    "- **reduce**\n",
    "- **accumulate**\n",
    "- key argument of **sorted**\n",
    "- mix functions\n"
   ]
  },
  {
   "cell_type": "markdown",
   "metadata": {},
   "source": [
    "# Anonymous Functions by *lambda*\n",
    "- What is lambda function (expression)?\n",
    "- Expression vs Statement\n",
    "- Repeat last examples with lambda expression\n",
    "- Can be used also inside List Comprehension"
   ]
  },
  {
   "cell_type": "markdown",
   "metadata": {},
   "source": [
    "## Returning functions as function result\n",
    "- Nested functions\n",
    "- Lambda expressions\n",
    "- *Closure* or *variable catching*\n",
    "- Make adder"
   ]
  },
  {
   "cell_type": "markdown",
   "metadata": {},
   "source": [
    "## Recursion\n",
    "- Functions can call ourselves\n",
    "- Some mathematics serries are recursive like fibonacci or factorial\n",
    "- How define a good recursive function?\n",
    "- Stack Over Flow (We can't make infinitive loop with recursion)\n",
    "- Merge Sort if possible"
   ]
  }
 ],
 "metadata": {
  "language_info": {
   "name": "python"
  }
 },
 "nbformat": 4,
 "nbformat_minor": 2
}
