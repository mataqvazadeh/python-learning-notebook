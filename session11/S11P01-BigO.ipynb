{
 "cells": [
  {
   "cell_type": "markdown",
   "id": "ef8ad29d",
   "metadata": {},
   "source": [
    "# Big O Notation"
   ]
  },
  {
   "cell_type": "markdown",
   "id": "8c6ff388",
   "metadata": {},
   "source": [
    "## Computability\n",
    "- Computability means if we can solve a problem or not.\n",
    "    - Example: Halting Problem"
   ]
  },
  {
   "cell_type": "markdown",
   "id": "0168ab1b",
   "metadata": {},
   "source": [
    "## Complexity\n",
    "- Every problem may have a lot of solutions, which algorithm is better?\n",
    "- We compare algorithm with two aspects:\n",
    "    - Time (number of CPU instructions)\n",
    "    - Space (memory usage)\n",
    "- We have 3 notations:\n",
    "    - Omega (**Ω**) for the best-case scenario\n",
    "    - Theta (**Θ**) for the average-case scenario\n",
    "    - O (**O**) for the worst-case scenario\n",
    "- We compare algorithm complexity based on size of input (**n**)"
   ]
  },
  {
   "cell_type": "markdown",
   "id": "f605a0a3",
   "metadata": {},
   "source": [
    "![Complexities](images/complexity.png)"
   ]
  },
  {
   "cell_type": "markdown",
   "id": "b0d8148c",
   "metadata": {},
   "source": [
    "- Examples:\n",
    "\n",
    "\n",
    "| Time Complexity | Description                      | Example                                            |\n",
    "|-----------------|----------------------------------|----------------------------------------------------|\n",
    "| **O(1)**        | Constant Time                   | Accessing an element in a list by index.           |\n",
    "| **O(log n)**    | Logarithmic Time                | Binary Search.                                     |\n",
    "| **O(n)**        | Linear Time                     | Iterating through a list to find a max value.      |\n",
    "| **O(n log n)**  | Linearithmic Time               | Merge Sort.                                        |\n",
    "| **O(n²)**       | Quadratic Time                  | Bubble Sort.                                       |\n",
    "| **O(n³)**       | Cubic Time                      | Brute-force 3-sum problem.                         |\n",
    "| **O(2^n)**      | Exponential Time                | Brute-force Traveling Salesman Problem.            |\n",
    "| **O(n!)**       | Factorial Time                  | Generating all permutations of a set.             |\n"
   ]
  },
  {
   "cell_type": "markdown",
   "id": "8cddd89d",
   "metadata": {},
   "source": [
    "### Two Sum Problem ([LeetCode](https://leetcode.com/problems/two-sum)) ([GeeksForGeeks](https://www.geeksforgeeks.org/check-if-pair-with-given-sum-exists-in-array/))\n",
    "\n",
    "- Solve by two loop (**O(n^2)**)\n",
    "- Solve By set (**O(n)**)"
   ]
  }
 ],
 "metadata": {
  "language_info": {
   "name": "python"
  }
 },
 "nbformat": 4,
 "nbformat_minor": 5
}
