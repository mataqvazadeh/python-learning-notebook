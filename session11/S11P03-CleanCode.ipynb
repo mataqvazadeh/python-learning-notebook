{
 "cells": [
  {
   "cell_type": "markdown",
   "id": "a18d8c18",
   "metadata": {},
   "source": [
    "# Software Engineering & Clean Code"
   ]
  },
  {
   "cell_type": "markdown",
   "id": "0763e803",
   "metadata": {},
   "source": [
    "## Personal Project vs Product\n",
    "- Product should live longer than personal project\n",
    "- Product has real users\n",
    "- Teams work on Products\n",
    "- Products will be grow up"
   ]
  },
  {
   "cell_type": "markdown",
   "id": "32948a67",
   "metadata": {},
   "source": [
    "## Engineering in Software\n",
    "- We should solve users problem\n",
    "- We should design scalable softwares\n",
    "    - Scale to support new features\n",
    "    - Scale to support more users\n",
    "- We should design reliable software\n",
    "    - Writing Unit Tests, Functional Tests\n",
    "    - Manual QC\n",
    "- We should design maintainable softwares\n",
    "    - A software maybe live for years and a lot of people will work on it\n",
    "- A team should can work on the project"
   ]
  },
  {
   "cell_type": "markdown",
   "id": "ec75cc3b",
   "metadata": {},
   "source": [
    "## Some of Clean Code Rules\n",
    "- Naming Conventions\n",
    "    - Use meaningful names\n",
    "    - Use verbs for functions\n",
    "    - Use question format for functions or variables with boolean response type\n",
    "    - Use ```snake_case``` for _variables_ and _functions_\n",
    "    - User ```PascalCase``` for _classes_\n",
    "- Avoid Magic Numbers\n",
    "    - Use meaningful ```CONSTANT_VARIABLE``` for numbers\n",
    "- Avoid multiple nesting\n",
    "    - If you need more than 2 step of nested code, you should change your code\n",
    "- Comment Correctly\n",
    "    - Use comments to explain **why**, not **what**\n",
    "    - Code should answer **what** questions\n",
    "- Use Docstring\n",
    "    - Use docstring to explain function or class responsibility\n",
    "- Consider Single Responsibility Principle (SRP)\n",
    "    - Keep your functions small, with single responsibility\n",
    "    - It helps better maintenance and test\n",
    "    - If your function has more than 20 line, you should think about it\n",
    "- Consider Don't Repeat Yourself Principle (DRY)\n",
    "    - Try avoid duplication but don't overdo it\n",
    "- Keep your line length between 80 - 100 characters\n",
    "- If your function has more than 3 parameter, think about it\n",
    "    - Use a **dataclass** as parameter\n",
    "    - Chop-up your function\n",
    "\n",
    "- Read [Clean Code](https://rasanika.com/posts/learn/1/7e/%D8%AF%D8%A7%D9%86%D9%84%D9%88%D8%AF-%DA%A9%D8%AA%D8%A7%D8%A8-clean-code-%DA%A9%D8%AF-%D8%AA%D9%85%DB%8C%D8%B2-%D9%86%D8%B3%D8%AE%D9%87-pdf) book for more information"
   ]
  },
  {
   "cell_type": "markdown",
   "id": "4bdb1a68",
   "metadata": {},
   "source": [
    "## Better Coding in Python"
   ]
  },
  {
   "cell_type": "code",
   "execution_count": null,
   "id": "97098fb6",
   "metadata": {},
   "outputs": [],
   "source": [
    "import this"
   ]
  },
  {
   "cell_type": "markdown",
   "id": "b47a6d1a",
   "metadata": {},
   "source": [
    "- Use Pythonic Code\n",
    "    - Use _list comprehension_ instead of _for_ loop\n",
    "    - Use **enumerate** instead of **range(len())**\n",
    "- Use exception handling\n",
    "    - Use **try**, **except** block if need\n",
    "    - Handle or Log errors\n",
    "- Follow [PEP8](https://peps.python.org/pep-0008/)\n",
    "    - Use a linter:\n",
    "        - pylint\n",
    "        - flake8\n",
    "        - ruff\n",
    "    - Use a code formatter\n",
    "        - black\n",
    "        - darker (like black only on changed lines)\n",
    "        - ruff\n",
    "    - Other Tools:\n",
    "        - isort (sort imports)\n",
    "        - mypy (check type hints)\n",
    "- Organize imports\n",
    "    - Put all imports at first\n",
    "    - Separate built-in modules, third-party module and your modules by one empty line\n",
    "    - Sort imports alphabetical\n",
    "    - Avoid **import \\***"
   ]
  }
 ],
 "metadata": {
  "kernelspec": {
   "display_name": ".venv",
   "language": "python",
   "name": "python3"
  },
  "language_info": {
   "codemirror_mode": {
    "name": "ipython",
    "version": 3
   },
   "file_extension": ".py",
   "mimetype": "text/x-python",
   "name": "python",
   "nbconvert_exporter": "python",
   "pygments_lexer": "ipython3",
   "version": "3.12.3"
  }
 },
 "nbformat": 4,
 "nbformat_minor": 5
}
