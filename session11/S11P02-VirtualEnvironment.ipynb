{
 "cells": [
  {
   "cell_type": "markdown",
   "id": "67f2dee3",
   "metadata": {},
   "source": [
    "# Virtual Environment\n",
    "- Python Package manager system is global\n",
    "- What happened if we have two project of with same package but with different version?\n",
    "- Virtual Environments solve our problem"
   ]
  },
  {
   "cell_type": "markdown",
   "id": "2bd8eea3",
   "metadata": {},
   "source": [
    "## Create a Virtual Environment\n",
    "- ```python -m venv [virtual-environment-name]```\n",
    "- Explore virtual environment directory\n",
    "    - It consist two part:\n",
    "        1. Python Interpreter and PIP\n",
    "        2. ThirdParty Packages"
   ]
  },
  {
   "cell_type": "markdown",
   "id": "1b9a1d90",
   "metadata": {},
   "source": [
    "## Activating & Deactivating the Virtual Environment\n",
    "- You should activate virtual environment before use.\n",
    "    - Windows: ```PS> venv\\Scripts\\activate```\n",
    "    - Linux & maxOS: ```$ source venv\\bin\\activate```\n",
    "- You can exit from virtual environment with ```deactivate```\n",
    "- Compare something between virtual environment and global\n",
    "    - ```which python```\n",
    "    - ```pip list```"
   ]
  },
  {
   "cell_type": "markdown",
   "id": "024d5572",
   "metadata": {},
   "source": [
    "## Installing Packages in the Virtual Environment\n",
    "- use ```pip install```\n",
    "- use ```pip freeze``` to save requirements into a file"
   ]
  },
  {
   "cell_type": "markdown",
   "id": "d0732305",
   "metadata": {},
   "source": [
    "## Ignoring Virtual Environment\n",
    "- Add the virtual environment folder into **.gitignore**\n",
    "- Add **requirements.txt** file into **git**"
   ]
  },
  {
   "cell_type": "markdown",
   "id": "8ff69be3",
   "metadata": {},
   "source": [
    "## Example\n",
    "- Create a project that requests to _google.com_"
   ]
  },
  {
   "cell_type": "markdown",
   "id": "4b64f876",
   "metadata": {},
   "source": [
    "## Advance Topics:\n",
    "- You can have only one python interpreter, to solve it use **pyenv**\n",
    "- How can manage complicated dependencies?\n",
    "    - **pipenv**\n",
    "    - **poetry**"
   ]
  },
  {
   "cell_type": "markdown",
   "id": "1291e064",
   "metadata": {},
   "source": [
    "More About Virtual Environments: [Python Virtual Environments: A Primer](https://realpython.com/python-virtual-environments-a-primer/)"
   ]
  }
 ],
 "metadata": {
  "language_info": {
   "name": "python"
  }
 },
 "nbformat": 4,
 "nbformat_minor": 5
}
