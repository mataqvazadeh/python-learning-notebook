{
 "cells": [
  {
   "cell_type": "markdown",
   "metadata": {},
   "source": [
    "# Object Oriented Programming (OOP)\n",
    "- What is OOP?\n",
    "    - model real world\n",
    "- Benefits of OOP:\n",
    "    - Organization\n",
    "    - Reusability\n",
    "    - Readability\n",
    "    - Modularity\n",
    "- Key Concepts:\n",
    "    - Classes\n",
    "    - Objects\n",
    "    - Methods\n",
    "    - Attributes\n",
    "    - Inheritance\n",
    "    - Polymorphism\n",
    "    - Encapsulation"
   ]
  },
  {
   "cell_type": "markdown",
   "metadata": {},
   "source": [
    "# OOP in Python\n",
    "## Defining Classes\n",
    "- Classes are blueprints\n",
    "- Instance of classes are Objects"
   ]
  },
  {
   "cell_type": "code",
   "execution_count": null,
   "metadata": {},
   "outputs": [],
   "source": [
    "class MyClass:\n",
    "    pass\n",
    "\n",
    "my_object = MyClass() # We don't have new keyword in python\n",
    "\n",
    "print(type(my_object))"
   ]
  },
  {
   "cell_type": "markdown",
   "metadata": {},
   "source": [
    "## Define Instance Methods"
   ]
  },
  {
   "cell_type": "code",
   "execution_count": null,
   "metadata": {},
   "outputs": [],
   "source": [
    "class Car:\n",
    "    car_counter = 0\n",
    "\n",
    "    def __init__(self):\n",
    "        self.car_counter += 1\n",
    "    def beep(self):\n",
    "        print('Beeeeeeeeeeeeeeep!')\n",
    "\n",
    "    def move(self, km):\n",
    "        self.gas_tank -= (km / 100) * 5 # This car consumes 5 litter of gas per 100 km\n",
    "        print(f'I moved {km} kilometers')\n",
    "\n",
    "    def fill_gas(self, gas_litter):\n",
    "        self.gas_tank += gas_litter\n",
    "        print(f'Now you have {self.gas_tank} litter of gas')\n",
    "\n",
    "    def show_gas(self):\n",
    "        print(f'Now you have {self.gas_tank} litter of gas')\n",
    "\n",
    "bmw = Car()\n",
    "bmw.beep()\n",
    "bmw.show_gas()\n",
    "bmw.fill_gas(10)\n",
    "bmw.move(20)\n",
    "bmw.show_gas()\n",
    "bmw.move(20)\n",
    "bmw.show_gas()\n",
    "bmw.fill_gas(10)"
   ]
  },
  {
   "cell_type": "markdown",
   "metadata": {},
   "source": [
    "## *\\_\\_init\\_\\_* method as constructor\n",
    "- Solve previous example problem with init\n",
    "- Get some other information for car"
   ]
  },
  {
   "cell_type": "markdown",
   "metadata": {},
   "source": [
    "## Class Attributes\n",
    "- Class attribute is class variable and share between objects\n",
    "- Add _wheels_ attribute as class attribute\n",
    "- Add _car\\_counter_ attribute"
   ]
  },
  {
   "cell_type": "markdown",
   "metadata": {},
   "source": [
    "## Class & Static Methods\n",
    "- Define class method to show _car\\_counter_\n",
    "    - **@classmethod** decorator\n",
    "    - It can use only class attributes\n",
    "- Define static method for convert speed\n",
    "    - **@staticmethod** decorator\n",
    "    - It can't use any class or instance attributes or methods"
   ]
  },
  {
   "cell_type": "markdown",
   "metadata": {},
   "source": [
    "## Inheritance\n",
    "- Create _Animal_ class\n",
    "- Create two other class derived from _Animal_ like _Dog_ and _Cat_\n",
    "- Give examples of inheritance\n",
    "- Override Methods\n",
    "    - **super()** method\n",
    "- **isinstance()** function\n",
    "- **issubclass()** function"
   ]
  }
 ],
 "metadata": {
  "kernelspec": {
   "display_name": ".venv",
   "language": "python",
   "name": "python3"
  },
  "language_info": {
   "codemirror_mode": {
    "name": "ipython",
    "version": 3
   },
   "file_extension": ".py",
   "mimetype": "text/x-python",
   "name": "python",
   "nbconvert_exporter": "python",
   "pygments_lexer": "ipython3",
   "version": "3.12.3"
  }
 },
 "nbformat": 4,
 "nbformat_minor": 2
}
