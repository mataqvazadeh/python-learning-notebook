{
 "cells": [
  {
   "cell_type": "markdown",
   "id": "3ab5df8e",
   "metadata": {},
   "source": [
    "# Bash Scripting"
   ]
  },
  {
   "cell_type": "markdown",
   "id": "2ef0856a",
   "metadata": {},
   "source": [
    "## What is Bash Scripting?\n",
    "A Bash script automates tasks by running a sequence of commands from a file with a .sh extension."
   ]
  },
  {
   "cell_type": "markdown",
   "id": "62228327",
   "metadata": {},
   "source": [
    "## Shebang\n",
    "\\`\\`\\`bash\n",
    "#!/bin/bash\n",
    "\\`\\`\\`"
   ]
  },
  {
   "cell_type": "markdown",
   "id": "d24c0873",
   "metadata": {},
   "source": [
    "## Variables and Syntax\n",
    "\\`\\`\\`bash\n",
    "#!/bin/bash\n",
    "NAME=\"User\"\n",
    "echo \"Hello, $NAME!\"\n",
    "\\`\\`\\`"
   ]
  },
  {
   "cell_type": "markdown",
   "id": "0789ef2e",
   "metadata": {},
   "source": [
    "## Conditionals\n",
    "\\`\\`\\`bash\n",
    "#!/bin/bash\n",
    "if [ $1 -gt 10 ]; then\n",
    "  echo \"Greater than 10\"\n",
    "else\n",
    "  echo \"10 or less\"\n",
    "fi\n",
    "\\`\\`\\`"
   ]
  },
  {
   "cell_type": "markdown",
   "id": "468176cb",
   "metadata": {},
   "source": [
    "## Loops\n",
    "\\`\\`\\`bash\n",
    "#!/bin/bash\n",
    "for i in 1 2 3; do\n",
    "  echo \"Number: $i\"\n",
    "done\n",
    "\\`\\`\\`"
   ]
  },
  {
   "cell_type": "markdown",
   "id": "e94a56cf",
   "metadata": {},
   "source": [
    "## Input and Output\n",
    "\\`\\`\\`bash\n",
    "#!/bin/bash\n",
    "echo \"Enter your name:\"\n",
    "read NAME\n",
    "echo \"Hello, $NAME!\"\n",
    "\\`\\`\\`"
   ]
  },
  {
   "cell_type": "markdown",
   "id": "f6d497e5",
   "metadata": {},
   "source": [
    "## case\n",
    "\\`\\`\\`bash\n",
    "#!/bin/bash\n",
    "case $1 in\n",
    "  start)\n",
    "    echo \"Starting...\"\n",
    "    ;;\n",
    "  stop)\n",
    "    echo \"Stopping...\"\n",
    "    ;;\n",
    "  *)\n",
    "    echo \"Usage: $0 {start|stop}\"\n",
    "    ;;\n",
    "esac\n",
    "\\`\\`\\`"
   ]
  },
  {
   "cell_type": "markdown",
   "id": "b02b0688",
   "metadata": {},
   "source": [
    "## Sample Script: Directory and File Automation\n",
    "\\`\\`\\`bash\n",
    "#!/bin/bash\n",
    "read -p \"Enter directory name: \" DIR\n",
    "mkdir -p \"$DIR\"\n",
    "touch \"$DIR/sample.txt\"\n",
    "echo \"File created in $DIR/sample.txt\"\n",
    "\\`\\`\\`"
   ]
  },
  {
   "cell_type": "markdown",
   "id": "693640fc",
   "metadata": {},
   "source": [
    "## Additional Bash Script Examples"
   ]
  },
  {
   "cell_type": "markdown",
   "id": "39ecb41b",
   "metadata": {},
   "source": [
    "### Script: Sum of Numbers\n",
    "\\`\\`\\`bash\n",
    "#!/bin/bash\n",
    "sum=0\n",
    "for num in \"$@\"; do\n",
    "  sum=$((sum + num))\n",
    "done\n",
    "echo \"Sum: $sum\"\n",
    "\\`\\`\\`"
   ]
  },
  {
   "cell_type": "markdown",
   "id": "b70a7cb0",
   "metadata": {},
   "source": [
    "### Script: Average of Numbers\n",
    "\\`\\`\\`bash\n",
    "#!/bin/bash\n",
    "if [ $# -eq 0 ]; then\n",
    "  echo \"No numbers provided.\"\n",
    "  exit 1\n",
    "fi\n",
    "sum=0\n",
    "for num in \"$@\"; do\n",
    "  sum=$((sum + num))\n",
    "done\n",
    "average=$(echo \"$sum / $#\" | bc -l)\n",
    "printf \"Average: %.2f\\n\" \"$average\"\n",
    "\\`\\`\\`"
   ]
  },
  {
   "cell_type": "markdown",
   "id": "e361f759",
   "metadata": {},
   "source": [
    "### Script: File Backup\n",
    "\\`\\`\\`bash\n",
    "#!/bin/bash\n",
    "read -p \"Enter the file to backup: \" FILE\n",
    "cp \"$FILE\" \"$FILE.bak\"\n",
    "echo \"Backup created as $FILE.bak\"\n",
    "\\`\\`\\`"
   ]
  },
  {
   "cell_type": "markdown",
   "id": "55832f39",
   "metadata": {},
   "source": [
    "### Script: Check File Existence\n",
    "\\`\\`\\`bash\n",
    "#!/bin/bash\n",
    "read -p \"Enter filename: \" FILE\n",
    "if [ -e \"$FILE\" ]; then\n",
    "  echo \"$FILE exists.\"\n",
    "else\n",
    "  echo \"$FILE does not exist.\"\n",
    "fi\n",
    "\\`\\`\\`"
   ]
  }
 ],
 "metadata": {
  "language_info": {
   "name": "python"
  }
 },
 "nbformat": 4,
 "nbformat_minor": 5
}
