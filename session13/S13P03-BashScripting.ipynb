{
 "cells": [
  {
   "cell_type": "markdown",
   "id": "3ab5df8e",
   "metadata": {},
   "source": [
    "# Bash Scripting"
   ]
  },
  {
   "cell_type": "markdown",
   "id": "2ef0856a",
   "metadata": {},
   "source": [
    "## What is Bash Scripting?\n",
    "A Bash script automates tasks by running a sequence of commands from a file with a .sh extension."
   ]
  },
  {
   "cell_type": "markdown",
   "id": "62228327",
   "metadata": {},
   "source": [
    "## Shebang\n",
    "```bash\n",
    "#!/bin/bash\n",
    "```"
   ]
  },
  {
   "cell_type": "markdown",
   "id": "d24c0873",
   "metadata": {},
   "source": [
    "## Variables and Syntax\n",
    "```bash\n",
    "#!/bin/bash\n",
    "NAME=\"User\"\n",
    "echo \"Hello, $NAME!\"\n",
    "```"
   ]
  },
  {
   "cell_type": "markdown",
   "id": "0789ef2e",
   "metadata": {},
   "source": [
    "## Conditionals\n",
    "```bash\n",
    "#!/bin/bash\n",
    "if [ $1 -gt 10 ]; then\n",
    "  echo \"Greater than 10\"\n",
    "else\n",
    "  echo \"10 or less\"\n",
    "fi\n",
    "```"
   ]
  },
  {
   "cell_type": "markdown",
   "id": "468176cb",
   "metadata": {},
   "source": [
    "## Loops\n",
    "### for\n",
    "```bash\n",
    "#!/bin/bash\n",
    "for i in 1 2 3; do\n",
    "  echo \"Number: $i\"\n",
    "done\n",
    "```\n",
    "### while\n",
    "```bash\n",
    "#!/bin/bash\n",
    "i=1\n",
    "while [ $i -le 3 ]; do\n",
    "  echo \"Number: $i\"\n",
    "  i=$(($i + 1))\n",
    "done\n",
    "\n",
    "```"
   ]
  },
  {
   "cell_type": "markdown",
   "id": "e94a56cf",
   "metadata": {},
   "source": [
    "## Input and Output\n",
    "\n",
    "```bash\n",
    "#!/bin/bash\n",
    "echo \"Enter your name:\"\n",
    "read NAME\n",
    "echo \"Hello, $NAME!\"\n",
    "```"
   ]
  },
  {
   "cell_type": "markdown",
   "id": "f33eadb1",
   "metadata": {},
   "source": [
    "## Samples"
   ]
  },
  {
   "cell_type": "markdown",
   "id": "b02b0688",
   "metadata": {},
   "source": [
    "### Directory and File Automation\n",
    "\n",
    "```bash\n",
    "#!/bin/bash\n",
    "read -p \"Enter directory name: \" DIR\n",
    "mkdir -p \"$DIR\"\n",
    "touch \"$DIR/sample.txt\"\n",
    "echo \"File created in $DIR/sample.txt\"\n",
    "```"
   ]
  },
  {
   "cell_type": "markdown",
   "id": "39ecb41b",
   "metadata": {},
   "source": [
    "### Sum of Numbers\n",
    "\n",
    "```bash\n",
    "#!/bin/bash\n",
    "sum=0\n",
    "for num in \"$@\"; do\n",
    "  sum=$((sum + num))\n",
    "done\n",
    "echo \"Sum: $sum\"\n",
    "```"
   ]
  },
  {
   "cell_type": "markdown",
   "id": "b70a7cb0",
   "metadata": {},
   "source": [
    "### Average of Numbers\n",
    "\n",
    "```bash\n",
    "#!/bin/bash\n",
    "if [ $# -eq 0 ]; then\n",
    "  echo \"No numbers provided.\"\n",
    "  exit 1\n",
    "fi\n",
    "sum=0\n",
    "for num in \"$@\"; do\n",
    "  sum=$((sum + num))\n",
    "done\n",
    "average=$(echo \"$sum / $#\" | bc -l)\n",
    "printf \"Average: %.2f\\n\" \"$average\"\n",
    "```"
   ]
  },
  {
   "cell_type": "markdown",
   "id": "e361f759",
   "metadata": {},
   "source": [
    "### File Backup\n",
    "\n",
    "```bash\n",
    "#!/bin/bash\n",
    "read -p \"Enter the file to backup: \" FILE\n",
    "cp \"$FILE\" \"$FILE.bak\"\n",
    "echo \"Backup created as $FILE.bak\"\n",
    "```"
   ]
  },
  {
   "cell_type": "markdown",
   "id": "55832f39",
   "metadata": {},
   "source": [
    "### Check File Existence\n",
    "```bash\n",
    "#!/bin/bash\n",
    "read -p \"Enter filename: \" FILE\n",
    "if [ -e \"$FILE\" ]; then\n",
    "  echo \"$FILE exists.\"\n",
    "else\n",
    "  echo \"$FILE does not exist.\"\n",
    "fi\n",
    "```"
   ]
  },
  {
   "cell_type": "markdown",
   "id": "9d95797e",
   "metadata": {},
   "source": [
    "### Use curl in Bash Scripts\n",
    "```bash\n",
    "#!/bin/bash\n",
    "URL=\"https://api.github.com\"\n",
    "echo \"Fetching GitHub API Root...\"\n",
    "curl -s $URL | tee github_api_root.json\n",
    "```"
   ]
  },
  {
   "cell_type": "markdown",
   "id": "85e113de",
   "metadata": {},
   "source": [
    "### Use tee in scripts for logging\n",
    "```bash\n",
    "#!/bin/bash\n",
    "{ \n",
    "  echo \"Script started on $(date)\"\n",
    "  echo \"Running updates...\"\n",
    "  sudo apt update\n",
    "  echo \"Done.\"\n",
    "} | tee script_log.txt\n",
    "```"
   ]
  }
 ],
 "metadata": {
  "language_info": {
   "name": "python"
  }
 },
 "nbformat": 4,
 "nbformat_minor": 5
}
