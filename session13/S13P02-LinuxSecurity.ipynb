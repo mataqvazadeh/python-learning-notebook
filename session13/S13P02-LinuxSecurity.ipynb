{
 "cells": [
  {
   "cell_type": "markdown",
   "id": "3ab5df8e",
   "metadata": {},
   "source": [
    "# Linux Security"
   ]
  },
  {
   "cell_type": "markdown",
   "id": "8c8ff200",
   "metadata": {},
   "source": [
    "## User Management"
   ]
  },
  {
   "cell_type": "markdown",
   "id": "1cf3e747",
   "metadata": {},
   "source": [
    "### chmod: Change permissions\n",
    "- **chmod**: Sets file or directory permissions.\n",
    "!touch secure_file.txt\n",
    "!chmod 400 secure_file.txt\n",
    "!ls -l secure_file.txt"
   ]
  },
  {
   "cell_type": "markdown",
   "id": "2639303f",
   "metadata": {},
   "source": [
    "### chown: Change ownership (needs sudo)\n",
    "- **chown**: Changes file ownership to a different user or group.\n",
    "# !sudo chown newuser:newgroup secure_file.txt"
   ]
  },
  {
   "cell_type": "markdown",
   "id": "8ae5f7fb",
   "metadata": {},
   "source": [
    "### umask: Default permission mask\n",
    "- **umask**: Defines default permission settings for new files.\n",
    "!umask"
   ]
  },
  {
   "cell_type": "markdown",
   "id": "dd870602",
   "metadata": {},
   "source": [
    "### Permission Numbers\n",
    "- r = 4, w = 2, x = 1\n",
    "- rwx = 7, rw- = 6, r-- = 4, etc.\n",
    "- Format: `chmod 754 file`\n",
    "  - 7 (owner) = rwx\n",
    "  - 5 (group) = r-x\n",
    "  - 4 (others) = r--"
   ]
  },
  {
   "cell_type": "markdown",
   "id": "64a4e9fb",
   "metadata": {},
   "source": [
    "### Create User and Set Password\n",
    "\\`\\`\\`bash\n",
    "# Create a new user (sudo needed)\n",
    "sudo useradd newuser"
   ]
  },
  {
   "cell_type": "markdown",
   "id": "95252a95",
   "metadata": {},
   "source": [
    "# Set a password for the new user\n",
    "sudo passwd newuser\n",
    "\\`\\`\\`"
   ]
  },
  {
   "cell_type": "markdown",
   "id": "c0ccbecb",
   "metadata": {},
   "source": [
    "### User and Group Data Files\n",
    "- `/etc/passwd`: Stores user account details.\n",
    "- `/etc/shadow`: Stores encrypted passwords.\n",
    "- `/etc/group`: Contains group information.\n",
    "- `/etc/gshadow`: Stores secure group information."
   ]
  },
  {
   "cell_type": "markdown",
   "id": "c4628f69",
   "metadata": {},
   "source": [
    "### Add User to a Group\n",
    "\\`\\`\\`bash\n",
    "# Add existing user to a group\n",
    "sudo usermod -aG groupname username\n",
    "\\`\\`\\`"
   ]
  }
 ],
 "metadata": {
  "language_info": {
   "name": "python"
  }
 },
 "nbformat": 4,
 "nbformat_minor": 5
}
