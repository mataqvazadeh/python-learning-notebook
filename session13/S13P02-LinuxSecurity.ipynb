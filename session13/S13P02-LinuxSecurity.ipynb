{
 "cells": [
  {
   "cell_type": "markdown",
   "id": "3ab5df8e",
   "metadata": {},
   "source": [
    "# Linux Security"
   ]
  },
  {
   "cell_type": "markdown",
   "id": "8c8ff200",
   "metadata": {},
   "source": [
    "## User Management"
   ]
  },
  {
   "cell_type": "markdown",
   "id": "64a4e9fb",
   "metadata": {},
   "source": [
    "### Create User and Set Password\n",
    "```bash\n",
    "$ sudo useradd newuser # Create a new user (sudo needed)\n",
    "$ sudo passwd newuser # Set a password for the new user\n",
    "$ groups # show user groups\n",
    "```"
   ]
  },
  {
   "cell_type": "markdown",
   "id": "c0ccbecb",
   "metadata": {},
   "source": [
    "### User and Group Data Files\n",
    "- `/etc/passwd`: Stores user account details.\n",
    "- `/etc/shadow`: Stores encrypted passwords.\n",
    "- `/etc/group`: Contains group information.\n",
    "- `/etc/gshadow`: Stores secure group information."
   ]
  },
  {
   "cell_type": "markdown",
   "id": "a3787b7b",
   "metadata": {},
   "source": [
    "## Permissions Management"
   ]
  },
  {
   "cell_type": "markdown",
   "id": "dd870602",
   "metadata": {},
   "source": [
    "### Permission Numbers\n",
    "![LS Permission Meaning](images/ls-permissions.png)\n",
    "\n",
    "![Linux File Permissions](images/permissions.png)"
   ]
  },
  {
   "cell_type": "markdown",
   "id": "1cf3e747",
   "metadata": {},
   "source": [
    "### chmod: Change permissions\n",
    "```bash\n",
    "$ touch secure_file.txt\n",
    "$ chmod 400 secure_file.txt # Sets file or directory permissions.\n",
    "$ ls -l secure_file.txt\n",
    "```"
   ]
  },
  {
   "cell_type": "markdown",
   "id": "2639303f",
   "metadata": {},
   "source": [
    "### Change ownership andd group\n",
    "```bash\n",
    "$ sudo chown newuser:newgroup secure_file.txt # Changes file ownership to a different user or group.\n",
    "$ sudo chgrp newgroup secure_file.txt # Changes file group ownership\n",
    "```"
   ]
  },
  {
   "cell_type": "markdown",
   "id": "8ae5f7fb",
   "metadata": {},
   "source": [
    "### umask: Default permission mask\n",
    "```bash\n",
    "$ umask # Defines default permission settings for new files.\n",
    "```"
   ]
  }
 ],
 "metadata": {
  "language_info": {
   "name": "python"
  }
 },
 "nbformat": 4,
 "nbformat_minor": 5
}
