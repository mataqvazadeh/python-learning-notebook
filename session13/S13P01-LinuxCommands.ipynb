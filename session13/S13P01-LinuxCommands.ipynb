{
 "cells": [
  {
   "cell_type": "markdown",
   "id": "3ab5df8e",
   "metadata": {},
   "source": [
    "# More Advance Commands"
   ]
  },
  {
   "cell_type": "markdown",
   "id": "78207f8e",
   "metadata": {},
   "source": [
    "## Pipes and Redirection"
   ]
  },
  {
   "cell_type": "markdown",
   "id": "170b518a",
   "metadata": {},
   "source": [
    "### Redirection\n",
    "- **>**: Redirects output to a file, overwriting it.\n",
    "- **>>**: Appends output to a file.\n",
    "\n",
    "\n",
    "```bash\n",
    "$ echo \"This is some text\" > file1.txt\n",
    "$ echo \"Another line\" >> file1.txt\n",
    "$ cat file1.txt\n",
    "```"
   ]
  },
  {
   "cell_type": "markdown",
   "id": "f826d804",
   "metadata": {},
   "source": [
    "### Pipes (|)\n",
    "- **| (pipe)**: Passes the output of one command as input to another.\n",
    "\n",
    "\n",
    "```bash\n",
    "$ echo -e \"apple\\nbanana\\napple\" | sort | uniq\n",
    "```"
   ]
  },
  {
   "cell_type": "markdown",
   "id": "fd21d96e",
   "metadata": {},
   "source": [
    "## Basic Filters"
   ]
  },
  {
   "cell_type": "markdown",
   "id": "13211cfa",
   "metadata": {},
   "source": [
    "\n",
    "```bash\n",
    "$ ls -l | tee tee_output.txt # Reads from standard input and writes to standard output and files.\n",
    "$ echo \"hello world\" | tr 'a-z' 'A-Z' # Translates or deletes characters from input.\n",
    "$ sort fruits.txt | uniq # Removes duplicate lines from sorted input\n",
    "$ wc fruits.txt # Counts lines, words and characters\n",
    "```"
   ]
  },
  {
   "cell_type": "markdown",
   "id": "e6959c21",
   "metadata": {},
   "source": [
    "## File Compression"
   ]
  },
  {
   "cell_type": "markdown",
   "id": "f227a65e",
   "metadata": {},
   "source": [
    "### gzip / gunzip\n",
    "- **gzip**: Compresses files.\n",
    "- **gunzip**: Decompresses gzip-compressed files.\n",
    "\n",
    "\n",
    "```bash\n",
    "$ echo \"This is a test\" > sample.txt\n",
    "$ gzip sample.txt\n",
    "$ ls -lh sample.txt.gz\n",
    "$ gunzip sample.txt.gz\n",
    "```"
   ]
  },
  {
   "cell_type": "markdown",
   "id": "20c16dd9",
   "metadata": {},
   "source": [
    "### tar\n",
    "- **tar**: Archives multiple files or directories.\n",
    "\n",
    "```bash\n",
    "$ mkdir test_dir && echo \"File 1\" > test_dir/file1.txt && echo \"File 2\" > test_dir/file2.txt\n",
    "$ tar -cvf archive.tar test_dir\n",
    "$ tar -xvf archive.tar\n",
    "$ tar -cvzf archive.tar.gz test_dir\n",
    "$ tar -xvzf archive.tar.gz\n",
    "```"
   ]
  },
  {
   "cell_type": "markdown",
   "id": "8ab45f6d",
   "metadata": {},
   "source": [
    "### zip / unzip\n",
    "- **zip**: Compresses files into a .zip archive.\n",
    "- **unzip**: Extracts .zip archive files.\n",
    "\n",
    "```bash\n",
    "$ zip -r archive.zip test_dir\n",
    "$ unzip archive.zip\n",
    "```"
   ]
  }
 ],
 "metadata": {
  "language_info": {
   "name": "python"
  }
 },
 "nbformat": 4,
 "nbformat_minor": 5
}
