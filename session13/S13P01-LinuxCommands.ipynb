{
 "cells": [
  {
   "cell_type": "markdown",
   "id": "3ab5df8e",
   "metadata": {},
   "source": [
    "# Linux More Commands"
   ]
  },
  {
   "cell_type": "markdown",
   "id": "6cfdbf38",
   "metadata": {},
   "source": [
    "# Part 1: Advanced Linux Commands"
   ]
  },
  {
   "cell_type": "markdown",
   "id": "96132200",
   "metadata": {},
   "source": [
    "## System and User Commands"
   ]
  },
  {
   "cell_type": "markdown",
   "id": "1972f99e",
   "metadata": {},
   "source": [
    "### 1. ping\n",
    "- **ping**: Checks the network connectivity to a specific host.\n",
    "!ping -c 4 google.com  # Test network connectivity"
   ]
  },
  {
   "cell_type": "markdown",
   "id": "1c1a36e4",
   "metadata": {},
   "source": [
    "### 2. cal and jcal\n",
    "- **cal**: Displays the standard calendar.\n",
    "- **jcal**: Displays the Julian calendar (may need installation).\n",
    "!cal  # Standard calendar\n",
    "!jcal  # Julian calendar"
   ]
  },
  {
   "cell_type": "markdown",
   "id": "8d8cc118",
   "metadata": {},
   "source": [
    "## Practice"
   ]
  },
  {
   "cell_type": "markdown",
   "id": "2e6f467f",
   "metadata": {},
   "source": [
    "### Ping a specific website\n",
    "!ping -c 3 example.com"
   ]
  },
  {
   "cell_type": "markdown",
   "id": "61180f9c",
   "metadata": {},
   "source": [
    "### Compare cal and jcal\n",
    "!cal\n",
    "!jcal"
   ]
  },
  {
   "cell_type": "markdown",
   "id": "fd21d96e",
   "metadata": {},
   "source": [
    "# Basic Filters"
   ]
  },
  {
   "cell_type": "markdown",
   "id": "13211cfa",
   "metadata": {},
   "source": [
    "### tee\n",
    "- **tee**: Reads from standard input and writes to standard output and files.\n",
    "!echo \"This is a line\" | tee tee_output.txt"
   ]
  },
  {
   "cell_type": "markdown",
   "id": "c746a750",
   "metadata": {},
   "source": [
    "#### Practical Examples with tee"
   ]
  },
  {
   "cell_type": "markdown",
   "id": "c34ecf20",
   "metadata": {},
   "source": [
    "##### 1. Log Output of a Command to a File and Display\n",
    "!ls -l | tee file_listing.txt"
   ]
  },
  {
   "cell_type": "markdown",
   "id": "59293e43",
   "metadata": {},
   "source": [
    "##### 2. Combine tee with sudo to write to restricted files\n",
    "!echo \"export PATH=\\\"$PATH:/custom/path\\\"\" | sudo tee -a /etc/profile"
   ]
  },
  {
   "cell_type": "markdown",
   "id": "e66c1740",
   "metadata": {},
   "source": [
    "##### 3. Write to multiple files\n",
    "!echo \"Backup started on $(date)\" | tee log1.txt log2.txt"
   ]
  },
  {
   "cell_type": "markdown",
   "id": "8bd095ce",
   "metadata": {},
   "source": [
    "##### 4. Use tee in scripts for logging\n",
    "\\`\\`\\`bash\n",
    "#!/bin/bash\n",
    "{ \n",
    "  echo \"Script started on $(date)\"\n",
    "  echo \"Running updates...\"\n",
    "  sudo apt update\n",
    "  echo \"Done.\"\n",
    "} | tee script_log.txt\n",
    "\\`\\`\\`"
   ]
  },
  {
   "cell_type": "markdown",
   "id": "d35fe1bc",
   "metadata": {},
   "source": [
    "### tr\n",
    "- **tr**: Translates or deletes characters from input.\n",
    "!echo \"hello world\" | tr 'a-z' 'A-Z'"
   ]
  },
  {
   "cell_type": "markdown",
   "id": "cda5e61e",
   "metadata": {},
   "source": [
    "### uniq\n",
    "- **uniq**: Removes duplicate lines from sorted input.\n",
    "!echo -e \"apple\\nbanana\\napple\" > fruits.txt\n",
    "!sort fruits.txt | uniq"
   ]
  },
  {
   "cell_type": "markdown",
   "id": "f3d02515",
   "metadata": {},
   "source": [
    "### sort\n",
    "- **sort**: Sorts lines in text files.\n",
    "!sort fruits.txt"
   ]
  },
  {
   "cell_type": "markdown",
   "id": "3ec5ba18",
   "metadata": {},
   "source": [
    "### wc\n",
    "- **wc**: Counts lines, words, and characters.\n",
    "!wc fruits.txt"
   ]
  },
  {
   "cell_type": "markdown",
   "id": "5075a653",
   "metadata": {},
   "source": [
    "## Practice"
   ]
  },
  {
   "cell_type": "markdown",
   "id": "3bf643a6",
   "metadata": {},
   "source": [
    "### sort and uniq\n",
    "!sort fruits.txt | uniq"
   ]
  },
  {
   "cell_type": "markdown",
   "id": "a7e276ec",
   "metadata": {},
   "source": [
    "### tr: lowercase to uppercase\n",
    "!cat fruits.txt | tr 'a-z' 'A-Z'"
   ]
  },
  {
   "cell_type": "markdown",
   "id": "8a47aee6",
   "metadata": {},
   "source": [
    "### wc: count words\n",
    "!wc -w fruits.txt"
   ]
  },
  {
   "cell_type": "markdown",
   "id": "689de84e",
   "metadata": {},
   "source": [
    "## Pipes and Redirection"
   ]
  },
  {
   "cell_type": "markdown",
   "id": "9157ca94",
   "metadata": {},
   "source": [
    "### Pipes (|)\n",
    "- **| (pipe)**: Passes the output of one command as input to another.\n",
    "!echo -e \"apple\\nbanana\\napple\" | sort | uniq"
   ]
  },
  {
   "cell_type": "markdown",
   "id": "6f3886f4",
   "metadata": {},
   "source": [
    "### Redirection\n",
    "- **>**: Redirects output to a file, overwriting it.\n",
    "- **>>**: Appends output to a file.\n",
    "!echo \"This is some text\" > file1.txt\n",
    "!echo \"Another line\" >> file1.txt\n",
    "!cat file1.txt"
   ]
  },
  {
   "cell_type": "markdown",
   "id": "8c8ff200",
   "metadata": {},
   "source": [
    "# Part 2: File Compression and Security"
   ]
  },
  {
   "cell_type": "markdown",
   "id": "e6959c21",
   "metadata": {},
   "source": [
    "## File Compression"
   ]
  },
  {
   "cell_type": "markdown",
   "id": "f227a65e",
   "metadata": {},
   "source": [
    "### gzip / gunzip\n",
    "- **gzip**: Compresses files.\n",
    "- **gunzip**: Decompresses gzip-compressed files.\n",
    "!echo \"This is a test\" > sample.txt\n",
    "!gzip sample.txt\n",
    "!ls -lh sample.txt.gz\n",
    "!gunzip sample.txt.gz"
   ]
  },
  {
   "cell_type": "markdown",
   "id": "20c16dd9",
   "metadata": {},
   "source": [
    "### tar\n",
    "- **tar**: Archives multiple files or directories.\n",
    "!mkdir test_dir && echo \"File 1\" > test_dir/file1.txt && echo \"File 2\" > test_dir/file2.txt\n",
    "!tar -cvf archive.tar test_dir\n",
    "!tar -xvf archive.tar"
   ]
  },
  {
   "cell_type": "markdown",
   "id": "8ab45f6d",
   "metadata": {},
   "source": [
    "### zip / unzip\n",
    "- **zip**: Compresses files into a .zip archive.\n",
    "- **unzip**: Extracts .zip archive files.\n",
    "!zip -r archive.zip test_dir\n",
    "!unzip archive.zip"
   ]
  }
 ],
 "metadata": {
  "language_info": {
   "name": "python"
  }
 },
 "nbformat": 4,
 "nbformat_minor": 5
}
