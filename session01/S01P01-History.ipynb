{
 "cells": [
  {
   "cell_type": "markdown",
   "metadata": {
    "slideshow": {
     "slide_type": "slide"
    }
   },
   "source": [
    "# The history of Computer Science"
   ]
  },
  {
   "cell_type": "markdown",
   "metadata": {
    "slideshow": {
     "slide_type": "notes"
    }
   },
   "source": [
    "- Computer Science born from Algebra and new Mathematics to solve business problems\n",
    "- In academic side it has many branches like Computability Theory, Complexity Theory and ...\n",
    "- Computer Science + Electronics (Physics) make nowadays computers\n",
    "- A lot of scientists and heroes help to improve computer science until now\n",
    "  - Blaise Pascal (Creator of mechanical Calculator)\n",
    "  - George Boole (Founder of Boolean Algebra)\n",
    "  - Ada Lovelace (The first computer programmer)\n",
    "  - John von Neumann (The designer of our generation computers)\n",
    "  - Dennis Ritchie (Creator of C programming language)\n",
    "  - Richard Stallman (Founder of GNU)\n",
    "  - etc"
   ]
  },
  {
   "cell_type": "markdown",
   "metadata": {
    "slideshow": {
     "slide_type": "slide"
    }
   },
   "source": [
    "## Alan Turing\n",
    "![alt text](images/AlanTuring.png)"
   ]
  },
  {
   "cell_type": "markdown",
   "metadata": {
    "slideshow": {
     "slide_type": "notes"
    }
   },
   "source": [
    "- He is regarded as **Father of Computer Science**\n",
    "- He died in age of 41st, but his works was very important to Computer Science Improvement"
   ]
  },
  {
   "cell_type": "markdown",
   "metadata": {
    "slideshow": {
     "slide_type": "subslide"
    }
   },
   "source": [
    "## The Imitation Game\n",
    "\n",
    "<img src=\"images/TheImitationGamePoster.png\" alt=\"The Imitation Game Movie Poster\" style=\"height: 200px\">\n",
    "<img src=\"images/Bomba.png\" alt=\"Bomba\" style=\"height: 200px\">"
   ]
  },
  {
   "cell_type": "markdown",
   "metadata": {
    "slideshow": {
     "slide_type": "subslide"
    }
   },
   "source": [
    "## Inventions\n",
    "- Turing Machine \n",
    "\n",
    "<img src=\"images/TuringMachine.png\" alt=\"Turing Machine Model Davey 2012\" style=\"height: 200px\">\n",
    "\n",
    "- Turing test"
   ]
  },
  {
   "cell_type": "markdown",
   "metadata": {
    "slideshow": {
     "slide_type": "notes"
    }
   },
   "source": [
    "- Turing Machine was an idea of a universal machine that do everything we say to it (today's programmable devices as we know)\n",
    "- Turing test is a test to evaluate that how an artificial intelligent agent is real\n",
    "    - This idea creates today AI basic concepts and branches"
   ]
  },
  {
   "cell_type": "markdown",
   "metadata": {
    "slideshow": {
     "slide_type": "slide"
    }
   },
   "source": [
    "## Problem-Solving with Algorithm"
   ]
  },
  {
   "cell_type": "markdown",
   "metadata": {
    "slideshow": {
     "slide_type": "notes"
    }
   },
   "source": [
    "- On the other side, when we have programmable computers, we should give instruction to them, to solve our problems\n",
    "- The algorithm help us to do this, the idea is solving the problem step by step.\n",
    "- Who knows that where the root of algorithm is?"
   ]
  },
  {
   "cell_type": "markdown",
   "metadata": {
    "slideshow": {
     "slide_type": "subslide"
    }
   },
   "source": [
    "## Khwarizmi\n",
    "![Khwarizmi](images/Khawrazmi.png)"
   ]
  },
  {
   "cell_type": "markdown",
   "metadata": {
    "slideshow": {
     "slide_type": "notes"
    }
   },
   "source": [
    "- He knowns as **Father of Algebra**\n",
    "- The idea of solving problems step by step gave from him and his articles in _al-Kitāb al-mukhtaṣar fī ḥisāb al-jabr wal-muqābala_\n",
    "- The 'Algorithm' word came from his name\n",
    "- His works was very important to Mathematics and Algebra improvements"
   ]
  },
  {
   "cell_type": "markdown",
   "metadata": {
    "slideshow": {
     "slide_type": "slide"
    }
   },
   "source": [
    "## Important Notes\n",
    "- It's good to read and know about history of everything we work with it.\n",
    "  - It help us to understand the philosophy of what we do.\n",
    "- Computer Science improved very fast, we should read a lot if we want to be update."
   ]
  },
  {
   "cell_type": "markdown",
   "metadata": {
    "slideshow": {
     "slide_type": "subslide"
    }
   },
   "source": [
    "- Computer Science has a lot of branches nowadays, but most of them need programming knowledge\n",
    "  - **Web Development (Backend)**\n",
    "  - Web Development (Frontend)\n",
    "  - Application Development (Android, iOS, Windows, Linux, macOS, ...)\n",
    "  - Game Development\n",
    "  - Embedded-System Development\n",
    "  - AI (NLP, Image Processing, ...)\n",
    "  - Blockchain (Web3, Cryptocurrency, Smart Contract)\n",
    "  - Data Science\n",
    "  - Hardware Development\n",
    "  - Network\n",
    "  - Product Management\n",
    "  - Quality Assurance\n",
    "  - etc ..."
   ]
  },
  {
   "cell_type": "markdown",
   "metadata": {
    "slideshow": {
     "slide_type": "subslide"
    }
   },
   "source": [
    "- As a Programmer or Software Engineer, We should solve the problems\n",
    "  - Programming languages and other technologies are just our tools\n",
    "  - We should know our tools very well to can solver problems correctly\n",
    "  - Like a plumber or electrician"
   ]
  }
 ],
 "metadata": {
  "kernelspec": {
   "display_name": ".venv",
   "language": "python",
   "name": "python3"
  },
  "language_info": {
   "name": "python",
   "version": "3.12.3"
  }
 },
 "nbformat": 4,
 "nbformat_minor": 2
}
