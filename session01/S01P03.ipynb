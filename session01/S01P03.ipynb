{
 "cells": [
  {
   "cell_type": "markdown",
   "metadata": {},
   "source": [
    "# Simple Calculations"
   ]
  },
  {
   "cell_type": "code",
   "execution_count": null,
   "metadata": {},
   "outputs": [
    {
     "data": {
      "text/plain": [
       "1"
      ]
     },
     "execution_count": 2,
     "metadata": {},
     "output_type": "execute_result"
    }
   ],
   "source": [
    "1 + 3\n",
    "2 * 3\n",
    "2 ** 3\n",
    "1 - 5\n",
    "1 / 3\n",
    "1 // 3\n",
    "5 / 2\n",
    "5 // 2\n",
    "5 % 2\n",
    "-5.5\n",
    "- (-6)\n"
   ]
  },
  {
   "cell_type": "markdown",
   "metadata": {},
   "source": [
    "# Operator Precedence\n",
    "## PEMDAS\n",
    "<img src=\"images/pemdas.png\" alt=\"PEMDAS\" style=\"height: 300px\">"
   ]
  },
  {
   "cell_type": "markdown",
   "metadata": {},
   "source": [
    "# Variables\n",
    "- What is variable?\n",
    "- Assignment Operator\n",
    "## Naming Rules\n",
    "- Variable names can contain letters (a-z, A-Z), numbers (0-9), and underscores (_).\n",
    "- They must begin with a letter or an underscore, not a number.\n",
    "- Python distinguishes between uppercase and lowercase letters in variable names (e.g., myVar and myvar are different).\n",
    "- The recommended style is snake_case (lowercase words separated by underscores), for example: user_name, total_count.\n",
    "- Avoid using Python keywords (e.g., for, if, while, True, False) as variable names.\n",
    "- Names with leading and trailing double underscores (e.g., \\_\\_name\\_\\_) have special meanings in Python."
   ]
  },
  {
   "cell_type": "markdown",
   "metadata": {},
   "source": [
    "# Data Types and Basic Variables\n",
    "- What is data type?\n",
    "- Numbers\n",
    "  - Integers (**int**)\n",
    "  - Float (**float**)\n",
    "    - Python has not **double**\n",
    "    - We have **Decimal** and **Fraction** in Python (for future)\n",
    "  - Complex (**complex**)\n",
    "    - 1+2j\n",
    "- Boolean (**bool**)\n",
    "  - Logical Operators\n",
    "  - Comparison Operators\n",
    "  - Bitwise Operators (Self Study)\n",
    "- Strings (**str**)\n",
    "  - String Operators (**concat**, **repetition**)\n",
    "  - No difference between 'ali' and \"ali\"\n",
    "  - Special characters (**newline**, **tab**)\n",
    "- Get type with **type()**\n",
    "  - Identity Operators (**is**, **is not**)\n",
    "  - Membership Operators in future"
   ]
  },
  {
   "cell_type": "markdown",
   "metadata": {},
   "source": [
    "# Input & Output\n",
    "- Use **print()** for print something on terminal\n",
    "- Use **input()** to get data from user\n",
    "    - Use **input('?')** to prompt for input\n",
    "    - **input()** always return string"
   ]
  },
  {
   "cell_type": "markdown",
   "metadata": {},
   "source": [
    "# Lets stick them together\n",
    "- Ask name and say hello\n",
    "- Ask age and say birth year\n",
    "- Find sum of user inputs\n",
    "- Do all arithmetic operations on user input"
   ]
  },
  {
   "cell_type": "markdown",
   "metadata": {},
   "source": [
    "# More Operators\n",
    "- Compound Operators (Assignment with arithmetic)\n",
    "- We can reassign variables"
   ]
  },
  {
   "cell_type": "markdown",
   "metadata": {},
   "source": [
    "# Formatted String (String Interpolation)\n",
    "```python\n",
    "f\"{name} is {age} years old\"\n",
    "```"
   ]
  }
 ],
 "metadata": {
  "kernelspec": {
   "display_name": ".venv",
   "language": "python",
   "name": "python3"
  },
  "language_info": {
   "codemirror_mode": {
    "name": "ipython",
    "version": 3
   },
   "file_extension": ".py",
   "mimetype": "text/x-python",
   "name": "python",
   "nbconvert_exporter": "python",
   "pygments_lexer": "ipython3",
   "version": "3.12.3"
  }
 },
 "nbformat": 4,
 "nbformat_minor": 2
}
