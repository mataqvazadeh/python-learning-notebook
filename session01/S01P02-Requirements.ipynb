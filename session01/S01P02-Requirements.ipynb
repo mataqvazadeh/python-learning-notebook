{
 "cells": [
  {
   "cell_type": "markdown",
   "metadata": {
    "slideshow": {
     "slide_type": "slide"
    }
   },
   "source": [
    "# What we need?"
   ]
  },
  {
   "cell_type": "markdown",
   "metadata": {
    "slideshow": {
     "slide_type": "notes"
    }
   },
   "source": [
    "- At first, for give instructions to machines, programmers use machine codes, it means 0 and 1\n",
    "  - Memorizing and Writing these programs was hard, So a new generation of programming languages born\n",
    "- Assembly was a language like programming language with some simple keywords to help memorizing\n",
    "  - But again writing complicated programs was hard again\n",
    "  - And keep in mind that machines can only understands 0s and 1s, So **Assembler** translate programs into machine codes\n",
    "- Finally scientists and programmers decide to create new programming languages to be similar human language\n",
    "  - It was easy to learn syntax but we need translators again\n",
    "  - The two basic translators are ???? **Compilers** and **Interpreters**\n",
    "- Nowadays in new languages, we have both of them for some reasons, who knows?"
   ]
  },
  {
   "cell_type": "markdown",
   "metadata": {
    "slideshow": {
     "slide_type": "subslide"
    }
   },
   "source": [
    "## Python\n",
    "- Download and Install Python from [www.python.org](https://www.python.org/downloads/)\n",
    "\n",
    "<img src=\"images/python-website.png\" alt=\"Python Website\" style=\"height: 500px\">"
   ]
  },
  {
   "cell_type": "markdown",
   "metadata": {
    "slideshow": {
     "slide_type": "notes"
    }
   },
   "source": [
    "- Python has interpreter\n",
    "- So we need to download it from Python website\n",
    "- Downloaded package has another things that we talk about them in future\n",
    "    - Standard Library\n",
    "    - IDLE (Windows)"
   ]
  },
  {
   "cell_type": "markdown",
   "metadata": {
    "slideshow": {
     "slide_type": "subslide"
    }
   },
   "source": [
    "## IDE (Integrated Development Environment)\n",
    "![Famous Python IDEs](images/ides.png)"
   ]
  }
 ],
 "metadata": {
  "language_info": {
   "name": "python"
  }
 },
 "nbformat": 4,
 "nbformat_minor": 2
}
