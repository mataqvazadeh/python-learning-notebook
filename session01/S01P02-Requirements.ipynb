{
 "cells": [
  {
   "cell_type": "markdown",
   "metadata": {
    "slideshow": {
     "slide_type": "slide"
    }
   },
   "source": [
    "# What we need?"
   ]
  },
  {
   "cell_type": "markdown",
   "metadata": {
    "slideshow": {
     "slide_type": "notes"
    }
   },
   "source": [
    "- At first, for give instructions to machines, programmers use machine codes, it means 0 and 1\n",
    "  - Memorizing and Writing these programs was hard, So a new generation of programming languages born\n",
    "- Assembly was a language like programming language with some simple keywords to help memorizing\n",
    "  - But again writing complicated programs was hard again\n",
    "  - And keep in mind that machines can only understands 0s and 1s, So **Assembler** translate programs into machine codes\n",
    "- Finally scientists and programmers decide to create new programming languages to be similar human language\n",
    "  - It was easy to learn syntax but we need translators again\n",
    "  - The two basic translators are ???? **Compilers** and **Interpreters**\n",
    "- Nowadays in new languages, we have both of them for some reasons, who knows?"
   ]
  },
  {
   "cell_type": "markdown",
   "metadata": {
    "slideshow": {
     "slide_type": "subslide"
    }
   },
   "source": [
    "## Python\n",
    "- Download and Install Python from [www.python.org](https://www.python.org/downloads/)\n",
    "\n",
    "<img src=\"images/python-website.png\" alt=\"Python Website\" style=\"height: 500px\">"
   ]
  },
  {
   "cell_type": "markdown",
   "metadata": {
    "slideshow": {
     "slide_type": "notes"
    }
   },
   "source": [
    "- Python has interpreter\n",
    "- So we need to download it from Python website\n",
    "- Downloaded package has another things that we talk about them in future\n",
    "    - Standard Library\n",
    "    - IDLE (Windows)\n",
    "    - PIP (Package Manager)"
   ]
  },
  {
   "cell_type": "markdown",
   "metadata": {
    "slideshow": {
     "slide_type": "subslide"
    }
   },
   "source": [
    "## IDE (Integrated Development Environment)\n",
    "![Famous Python IDEs](images/ides.png)"
   ]
  },
  {
   "cell_type": "markdown",
   "metadata": {
    "slideshow": {
     "slide_type": "notes"
    }
   },
   "source": [
    "- You can your program (python script) in a simple text editor like Notepad\n",
    "  - I will show you\n",
    "- IDEs have more feature for developers\n",
    "  - Code highlighting\n",
    "  - Code suggestion\n",
    "  - Formatter\n",
    "  - Linter (Syntax corrector)\n",
    "  - Debugger\n",
    "  - DB Connection\n",
    "  - Terminal\n",
    "  - Test studio\n",
    "- _Pycharm_ is a very reach IDE for python, created by JetBrain\n",
    "  - It's not free\n",
    "  - Use lots of memory\n",
    "- _VS Code_ is a lite IDE by Microsoft, that you can use with a wide range of programming languages\n",
    "  - It's free\n",
    "  - It's very lite\n",
    "  - You should install Python extension on it\n",
    "- _Jupyter Notebook_ is current file, mostly it is used for presentation or educational purposes\n",
    "  - It was designed basically for python as _Python Notebook_ but nowadays you can use with other languages\n",
    "- _Sublime_ is like _VS Code_, there is another famous IDE named _Atom_\n",
    "- I don't know _PyDev_\n",
    "- I prefer to use _VS Code_, In our company most people use _PyCharm_"
   ]
  },
  {
   "cell_type": "markdown",
   "metadata": {
    "slideshow": {
     "slide_type": "subslide"
    }
   },
   "source": [
    "## REPL (Read, Eval, Print, Loop)\n",
    "### Python & IPython"
   ]
  },
  {
   "cell_type": "markdown",
   "metadata": {
    "slideshow": {
     "slide_type": "notes"
    }
   },
   "source": [
    "- As Python is a interpreter language, we can write codes line by line like a terminal\n",
    "- This method of coding called REPL\n",
    "- In this session we use this type of coding without using any editor\n",
    "- _IPython_ (Interactive Python) is a rich shell that Jupyter Notebook works based on it\n",
    "  - It has colorful shell\n",
    "  - It can be run on web\n",
    "  - It has text completion\n",
    "  - etc\n",
    "- We will use both Python and IPython today"
   ]
  }
 ],
 "metadata": {
  "language_info": {
   "name": "python"
  }
 },
 "nbformat": 4,
 "nbformat_minor": 2
}
