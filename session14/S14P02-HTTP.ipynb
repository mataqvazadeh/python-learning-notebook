{
 "cells": [
  {
   "cell_type": "markdown",
   "id": "bce86479",
   "metadata": {},
   "source": [
    "# 🌐 HTTP Basics with `curl`"
   ]
  },
  {
   "cell_type": "markdown",
   "id": "7ff84557",
   "metadata": {},
   "source": [
    "## 🧾 What is HTTP?\n",
    "HTTP (HyperText Transfer Protocol) is how clients (like browsers or `curl`) communicate with servers. Each request has:\n",
    "\n",
    "- **Verb (Method)**: Defines the action (GET, POST, etc.)\n",
    "- **URL**: Where the request goes\n",
    "- **Headers**: Metadata about the request/response\n",
    "- **Body**: The actual content (for POST, PUT)\n",
    "\n",
    "![HTTP Request](images/http_req.png)\n",
    "\n",
    "![HTTP Response](images/http_res.png)"
   ]
  },
  {
   "cell_type": "markdown",
   "id": "2c497a60",
   "metadata": {},
   "source": [
    "## 📬 HTTP Verbs (Methods)"
   ]
  },
  {
   "cell_type": "markdown",
   "id": "b51ce6a2",
   "metadata": {},
   "source": [
    "### 1. **GET** – Retrieve data\n",
    "```bash\n",
    "curl -X GET https://jsonplaceholder.typicode.com/posts/1\n",
    "```"
   ]
  },
  {
   "cell_type": "markdown",
   "id": "85bf3ce7",
   "metadata": {},
   "source": [
    "### 2. **POST** – Send new data\n",
    "```bash\n",
    "curl -X POST https://jsonplaceholder.typicode.com/posts \\\n",
    "  -H \"Content-Type: application/json\" \\\n",
    "  -d '{\"title\": \"foo\", \"body\": \"bar\", \"userId\": 1}'\n",
    "```"
   ]
  },
  {
   "cell_type": "markdown",
   "id": "9734a96a",
   "metadata": {},
   "source": [
    "### 3. **PUT** – Update entire resource\n",
    "```bash\n",
    "curl -X PUT https://jsonplaceholder.typicode.com/posts/1 \\\n",
    "  -H \"Content-Type: application/json\" \\\n",
    "  -d '{\"id\": 1, \"title\": \"updated\", \"body\": \"updated\", \"userId\": 1}'\n",
    "```"
   ]
  },
  {
   "cell_type": "markdown",
   "id": "629c9808",
   "metadata": {},
   "source": [
    "### 4. **PATCH** – Update part of a resource\n",
    "```bash\n",
    "curl -X PATCH https://jsonplaceholder.typicode.com/posts/1 \\\n",
    "  -H \"Content-Type: application/json\" \\\n",
    "  -d '{\"title\": \"patched title\"}'\n",
    "```"
   ]
  },
  {
   "cell_type": "markdown",
   "id": "bc867a89",
   "metadata": {},
   "source": [
    "### 5. **DELETE** – Remove a resource\n",
    "```bash\n",
    "curl -X DELETE https://jsonplaceholder.typicode.com/posts/1\n",
    "```"
   ]
  },
  {
   "cell_type": "markdown",
   "id": "00a4df08",
   "metadata": {},
   "source": [
    "## 📡 HTTP Headers\n",
    "\n",
    "### Custom Headers with `curl`\n",
    "```bash\n",
    "curl -H \"Authorization: Bearer <token>\" https://api.example.com/data\n",
    "```\n",
    "\n",
    "**Common Headers:**\n",
    "- `Content-Type`: Tells the server what kind of data is being sent\n",
    "- `Authorization`: Used for API tokens or credentials\n",
    "- `Accept`: What response format the client wants"
   ]
  },
  {
   "cell_type": "markdown",
   "id": "fee7f81d",
   "metadata": {},
   "source": [
    "## 📦 HTTP Body\n",
    "\n",
    "Only used with POST, PUT, PATCH. Must match `Content-Type`.\n",
    "\n",
    "```bash\n",
    "-d '{\"name\":\"Alice\",\"email\":\"alice@example.com\"}'\n",
    "```\n",
    "\n",
    "Use `@file.json` to send body from a file:\n",
    "```bash\n",
    "curl -X POST -H \"Content-Type: application/json\" \\\n",
    "  -d @data.json https://api.example.com/users\n",
    "```"
   ]
  },
  {
   "cell_type": "markdown",
   "id": "04fbb52e",
   "metadata": {},
   "source": [
    "## 📊 HTTP Status Codes\n",
    "\n",
    "| Code | Meaning                | Description                         |\n",
    "|------|------------------------|-------------------------------------|\n",
    "| 200  | OK                     | Request succeeded                   |\n",
    "| 201  | Created                | Resource successfully created       |\n",
    "| 204  | No Content             | Success, no body returned           |\n",
    "| 400  | Bad Request            | Malformed request                   |\n",
    "| 401  | Unauthorized           | Authentication required             |\n",
    "| 403  | Forbidden              | No permission                       |\n",
    "| 404  | Not Found              | Resource doesn't exist              |\n",
    "| 500  | Internal Server Error  | Server failed to fulfill request    |"
   ]
  },
  {
   "cell_type": "markdown",
   "id": "35e30d26",
   "metadata": {},
   "source": [
    "## ✅ Inspecting Full Response with `curl`\n",
    "\n",
    "Use `-i` to include headers in response:\n",
    "```bash\n",
    "curl -i https://jsonplaceholder.typicode.com/posts/1\n",
    "```\n",
    "\n",
    "Use `-v` for verbose output (debugging):\n",
    "```bash\n",
    "curl -v https://jsonplaceholder.typicode.com/posts/1\n",
    "```"
   ]
  },
  {
   "cell_type": "markdown",
   "id": "31fbec7c",
   "metadata": {},
   "source": [
    "## 🌱 RESTful APIs & CRUD"
   ]
  },
  {
   "cell_type": "markdown",
   "id": "f52dcadb",
   "metadata": {},
   "source": [
    "### What is REST?\n",
    "\n",
    "**REST** (Representational State Transfer) is a set of principles for designing networked applications. A **RESTful API** uses standard HTTP methods to perform operations on resources, which are represented as URLs.\n",
    "\n",
    "- Resources are often represented in JSON\n",
    "- URLs represent objects (e.g., `/users/1`)\n",
    "- Stateless communication (each request is independent)"
   ]
  },
  {
   "cell_type": "markdown",
   "id": "e9271299",
   "metadata": {},
   "source": [
    "### CRUD with HTTP\n",
    "\n",
    "CRUD = Create, Read, Update, Delete — common operations on data.\n",
    "\n",
    "| CRUD Operation | HTTP Verb | Example Endpoint                  |\n",
    "|----------------|-----------|-----------------------------------|\n",
    "| Create         | POST      | `POST /posts`                     |\n",
    "| Read           | GET       | `GET /posts/1`                    |\n",
    "| Update         | PUT/PATCH | `PUT /posts/1` or `PATCH /posts/1`|\n",
    "| Delete         | DELETE    | `DELETE /posts/1`                 |\n",
    "\n",
    "With `curl`, you can easily experiment with these operations to learn how RESTful APIs work in practice."
   ]
  }
 ],
 "metadata": {
  "language_info": {
   "name": "python"
  }
 },
 "nbformat": 4,
 "nbformat_minor": 5
}
