{
 "cells": [
  {
   "cell_type": "markdown",
   "id": "e98b3ce6",
   "metadata": {},
   "source": [
    "# Introduction to PostgreSQL"
   ]
  },
  {
   "cell_type": "markdown",
   "id": "93767faa",
   "metadata": {},
   "source": [
    "PostgreSQL is a popular **open-source** relational database management system (RDBMS), renowned for its reliability, flexibility, and compliance with SQL standards.\n",
    "\n",
    "### Key differences between PostgreSQL and other RDBMS:\n",
    "\n",
    "| Feature                    | PostgreSQL                          | MySQL                                | SQL Server                          | Oracle                               | SQLite                         |\n",
    "|----------------------------|-------------------------------------|--------------------------------------|-------------------------------------|--------------------------------------|--------------------------------|\n",
    "| **Open Source**            | ✅ Fully Open Source                 | ✅ Open Source (Owned by Oracle)     | ❌ Proprietary (Microsoft)          | ❌ Proprietary (Oracle)              | ✅ Fully Open Source           |\n",
    "| **Advanced Data Types**    | ✅ Arrays, JSON, UUID, Custom types  | ⚠️ JSON (limited), UUID             | ⚠️ JSON (limited), UUID             | ⚠️ JSON (limited), UUID              | ⚠️ Limited data types          |\n",
    "| **Extensibility**          | ✅ Highly extensible                 | ⚠️ Moderate                          | ⚠️ Moderate                         | ⚠️ Moderate                          | ❌ Limited extensibility       |\n",
    "| **ACID Compliance**        | ✅ Fully ACID-compliant              | ✅ Fully ACID-compliant              | ✅ Fully ACID-compliant             | ✅ Fully ACID-compliant              | ✅ Fully ACID-compliant        |\n",
    "| **Performance**            | ✅ Robust & scalable                 | ✅ High-speed (optimized reads)      | ✅ High performance for enterprise  | ✅ High performance, enterprise-grade| ✅ Fast for embedded/desktop   |\n",
    "| **Community & Support**    | ✅ Active community, good docs       | ✅ Large community                   | ✅ Enterprise-focused support       | ✅ Enterprise-focused support        | ✅ Small community, limited    |\n",
    "| **Use cases**              | Enterprise, web apps, geospatial, analytics | Web apps, CMS, blogs                 | Enterprise applications             | Large-scale enterprise systems       | Embedded apps, mobile apps     |\n",
    "\n",
    "### Why choose PostgreSQL?\n",
    "\n",
    "- 🌍 **Open-source**: Free to use and modify, community-driven development.\n",
    "- 🎯 **Standards Compliance**: Strong adherence to SQL standards.\n",
    "- ⚙️ **Extensibility**: Custom data types and extensions (e.g., PostGIS for geospatial data).\n",
    "- 📦 **JSON support**: Efficient storage, indexing, and querying of JSON.\n",
    "- 🚀 **Robust & Scalable**: Great for large-scale enterprise applications.\n",
    "- 🔐 **Advanced Security**: Strong role-based permissions and security mechanisms.\n",
    "\n",
    "Due to these advantages, PostgreSQL is an excellent choice for learning relational databases and SQL, especially in an academic or open-source friendly environment."
   ]
  },
  {
   "cell_type": "markdown",
   "id": "86d5368e",
   "metadata": {},
   "source": [
    "## Installing PostgreSQL & Connecting"
   ]
  },
  {
   "cell_type": "markdown",
   "id": "7d102433",
   "metadata": {},
   "source": [
    "### Installation\n",
    "- Official download: [PostgreSQL.org](https://www.postgresql.org/download/)"
   ]
  },
  {
   "cell_type": "markdown",
   "id": "e2ccdae4",
   "metadata": {},
   "source": [
    "### Create user and database\n",
    "\n",
    "```bash\n",
    "createuser student_user --interactive --pwprompt\n",
    "createdb bankdb -O student_user\n",
    "```\n",
    "\n",
    "### Connect using psql\n",
    "\n",
    "```bash\n",
    "psql -U student_user -d bankdb\n",
    "```\n",
    "\n",
    "### Check postgresql service status\n",
    "\n",
    "```bash\n",
    "sudo service postgresql status\n",
    "```\n"
   ]
  },
  {
   "cell_type": "markdown",
   "id": "ca9d1003",
   "metadata": {},
   "source": [
    "## GUI Tools for PostgreSQL"
   ]
  },
  {
   "cell_type": "markdown",
   "id": "378d9839",
   "metadata": {},
   "source": [
    "- 🧭 [pgAdmin](https://www.pgadmin.org)\n",
    "- 🛠️ [DBeaver](https://dbeaver.io)"
   ]
  },
  {
   "cell_type": "markdown",
   "id": "b24302ca",
   "metadata": {},
   "source": [
    "## Sample database setup for practices\n",
    "- Download [dvdrental database](https://github.com/gordonkwokkwok/DVD-Rental-PostgreSQL-Project)\n",
    "- Restore:\n",
    "\n",
    "```bash\n",
    "createdb dvdrental\n",
    "pg_restore -U postgres -d dvdrental /path/to/dvdrental.tar\n",
    "```"
   ]
  },
  {
   "cell_type": "markdown",
   "id": "243297fc",
   "metadata": {},
   "source": [
    "## psql Command Line Interface"
   ]
  },
  {
   "cell_type": "markdown",
   "id": "364bc30f",
   "metadata": {},
   "source": [
    "### Basic psql commands\n",
    "\n",
    "```bash\n",
    "psql dvdrental\n",
    "```\n",
    "\n",
    "### Meta-commands inside psql\n",
    "\n",
    "```sql\n",
    "\\l        -- List all databases\n",
    "\\dt       -- List all tables\n",
    "\\d table  -- Describe table schema\n",
    "\\?        -- Display help menu\n",
    "\\q        -- Quit psql\n",
    "```\n"
   ]
  }
 ],
 "metadata": {
  "language_info": {
   "name": "python"
  }
 },
 "nbformat": 4,
 "nbformat_minor": 5
}
