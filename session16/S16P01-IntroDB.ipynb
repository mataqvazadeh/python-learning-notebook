{
 "cells": [
  {
   "cell_type": "markdown",
   "id": "e98b3ce6",
   "metadata": {},
   "source": [
    "# Introduction to SQL and Databases"
   ]
  },
  {
   "cell_type": "markdown",
   "id": "1860664a",
   "metadata": {},
   "source": [
    "## Introduction to Databases"
   ]
  },
  {
   "cell_type": "markdown",
   "id": "39374909",
   "metadata": {},
   "source": [
    "### What is a Database?\n",
    "A structured collection of data enabling efficient management and retrieval.\n",
    "\n",
    "**Real-world examples:**\n",
    "- 🏦 Banking system\n",
    "- 🛒 Online store (e.g., Amazon)\n",
    "- 🏥 Hospital system\n",
    "- 🎬 Streaming platform (e.g., Netflix)\n",
    "- 🚌 Ticket booking system"
   ]
  },
  {
   "cell_type": "markdown",
   "id": "31475612",
   "metadata": {},
   "source": [
    "### Why use a DBMS instead of raw files?\n",
    "- ✅ Structured validation\n",
    "- ✅ Powerful querying (SQL)\n",
    "- ✅ Multi-user concurrency\n",
    "- ✅ Backup & recovery\n",
    "- ✅ Security & permissions\n",
    "- ✅ Scalable and reliable"
   ]
  },
  {
   "cell_type": "markdown",
   "id": "9c0fc035",
   "metadata": {},
   "source": [
    "### DB vs DBMS vs RDBMS\n",
    "- **Database (DB)**: Data storage\n",
    "- **DBMS**: Software managing data (e.g., PostgreSQL)\n",
    "- **RDBMS**: Table-based relational DBMS (SQL, schemas)"
   ]
  },
  {
   "cell_type": "markdown",
   "id": "49f24fbd",
   "metadata": {},
   "source": [
    "### Relational vs NoSQL Databases\n",
    "- **Relational Databases (RDBMS)**: Structured, table-based (PostgreSQL)\n",
    "- **NoSQL (\"Not Only SQL\")**: Flexible schema, designed for scalability\n",
    "  - 📄 Document-based: MongoDB (e.g., store JSON docs for a blog)\n",
    "  - 🔑 Key-Value: Redis (e.g., caching session data)\n",
    "  - 🌐 Graph-based: Neo4j (e.g., social networks, recommendations)\n",
    "  - 📊 Wide-column: Cassandra (e.g., analytics data at scale)\n",
    "\n",
    "\n",
    "#### Why \"NoSQL\"?\n",
    "Originally \"No SQL\", now known as **\"Not Only SQL\"**, highlighting flexibility and non-tabular storage."
   ]
  },
  {
   "cell_type": "markdown",
   "id": "16d84862",
   "metadata": {},
   "source": [
    "### ER Diagram: Bank Example\n",
    "\n",
    "<img alt=\"ERD\" src=\"images/erd.png\" style=\"width: 700px\" />"
   ]
  }
 ],
 "metadata": {
  "language_info": {
   "name": "python"
  }
 },
 "nbformat": 4,
 "nbformat_minor": 5
}
