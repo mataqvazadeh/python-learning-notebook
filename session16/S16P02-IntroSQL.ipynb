{
 "cells": [
  {
   "cell_type": "markdown",
   "id": "e98b3ce6",
   "metadata": {},
   "source": [
    "# Introduction to SQL (Structured Query Language)"
   ]
  },
  {
   "cell_type": "markdown",
   "id": "5baa7a82",
   "metadata": {},
   "source": [
    "## SQL Basics (DDL, DML, DCL)"
   ]
  },
  {
   "cell_type": "markdown",
   "id": "14baf51c",
   "metadata": {},
   "source": [
    "- 🏗️ **DDL**: Define database schema \n",
    "  - `CREATE`\n",
    "  - `ALTER`\n",
    "  - `DROP`\n",
    "- ✍️ **DML**: Manipulate data \n",
    "  - `SELECT`\n",
    "  - `INSERT`\n",
    "  - `UPDATE`\n",
    "  - `DELETE`\n",
    "- 🔐 **DCL**: Manage permissions \n",
    "  - `GRANT`\n",
    "  - `REVOKE`"
   ]
  },
  {
   "cell_type": "markdown",
   "id": "28a58068",
   "metadata": {},
   "source": [
    "## Working with Data (SELECT Queries)"
   ]
  },
  {
   "cell_type": "markdown",
   "id": "266d705c",
   "metadata": {},
   "source": [
    "### Selecting & Sorting Data"
   ]
  },
  {
   "cell_type": "markdown",
   "id": "803d031a",
   "metadata": {},
   "source": [
    "**How can we show all customers?**"
   ]
  },
  {
   "cell_type": "code",
   "execution_count": null,
   "id": "83cf8768",
   "metadata": {
    "vscode": {
     "languageId": "sql"
    }
   },
   "outputs": [],
   "source": [
    "SELECT * FROM customer;"
   ]
  },
  {
   "cell_type": "markdown",
   "id": "781aca8b",
   "metadata": {},
   "source": [
    "**How to show only the first and last names of customers?**"
   ]
  },
  {
   "cell_type": "code",
   "execution_count": null,
   "id": "2e012bd0",
   "metadata": {
    "vscode": {
     "languageId": "sql"
    }
   },
   "outputs": [],
   "source": [
    "SELECT first_name, last_name FROM customer;"
   ]
  },
  {
   "cell_type": "markdown",
   "id": "dbb39b6f",
   "metadata": {},
   "source": [
    "**How can we find unique cities from addresses?**"
   ]
  },
  {
   "cell_type": "code",
   "execution_count": null,
   "id": "bf9a0d4a",
   "metadata": {
    "vscode": {
     "languageId": "sql"
    }
   },
   "outputs": [],
   "source": [
    "SELECT DISTINCT district FROM address;"
   ]
  },
  {
   "cell_type": "markdown",
   "id": "0b0157b5",
   "metadata": {},
   "source": [
    "**How to display only the first 5 films?**"
   ]
  },
  {
   "cell_type": "code",
   "execution_count": null,
   "id": "778b398a",
   "metadata": {
    "vscode": {
     "languageId": "sql"
    }
   },
   "outputs": [],
   "source": [
    "SELECT * FROM film LIMIT 5;"
   ]
  },
  {
   "cell_type": "markdown",
   "id": "ef1afa5a",
   "metadata": {},
   "source": [
    "**How to paginate results to show the next 5 films after the initial 5?**"
   ]
  },
  {
   "cell_type": "code",
   "execution_count": null,
   "id": "2cd4ab22",
   "metadata": {
    "vscode": {
     "languageId": "sql"
    }
   },
   "outputs": [],
   "source": [
    "SELECT * FROM film LIMIT 5 OFFSET 5;"
   ]
  },
  {
   "cell_type": "markdown",
   "id": "f5e3a4f8",
   "metadata": {},
   "source": [
    "**How do we sort film titles in descending order?**"
   ]
  },
  {
   "cell_type": "code",
   "execution_count": null,
   "id": "804a3441",
   "metadata": {
    "vscode": {
     "languageId": "sql"
    }
   },
   "outputs": [],
   "source": [
    "SELECT title FROM film ORDER BY title DESC;"
   ]
  },
  {
   "cell_type": "markdown",
   "id": "a08ca245",
   "metadata": {},
   "source": [
    "### Filtering Data"
   ]
  },
  {
   "cell_type": "markdown",
   "id": "e63878eb",
   "metadata": {},
   "source": [
    "**How to find customers belonging only to store number 1?**"
   ]
  },
  {
   "cell_type": "code",
   "execution_count": null,
   "id": "3d57a787",
   "metadata": {
    "vscode": {
     "languageId": "sql"
    }
   },
   "outputs": [],
   "source": [
    "SELECT * FROM customer WHERE store_id = 1;"
   ]
  },
  {
   "cell_type": "markdown",
   "id": "f97d5a5f",
   "metadata": {},
   "source": [
    "**How can we find films rated 'PG' that cost less than $3?**"
   ]
  },
  {
   "cell_type": "code",
   "execution_count": null,
   "id": "e112e3bd",
   "metadata": {
    "vscode": {
     "languageId": "sql"
    }
   },
   "outputs": [],
   "source": [
    "SELECT title FROM film WHERE rating = 'PG' AND rental_rate < 3;"
   ]
  },
  {
   "cell_type": "markdown",
   "id": "b24d90a5",
   "metadata": {},
   "source": [
    "**How to list all films whose titles start with the letter 'A'?**"
   ]
  },
  {
   "cell_type": "code",
   "execution_count": null,
   "id": "da284290",
   "metadata": {
    "vscode": {
     "languageId": "sql"
    }
   },
   "outputs": [],
   "source": [
    "SELECT title FROM film WHERE title LIKE 'A%';"
   ]
  },
  {
   "cell_type": "markdown",
   "id": "31443ab1",
   "metadata": {},
   "source": [
    "**How to find all customers excluding those belonging to store number 2?**"
   ]
  },
  {
   "cell_type": "code",
   "execution_count": null,
   "id": "68a5e413",
   "metadata": {
    "vscode": {
     "languageId": "sql"
    }
   },
   "outputs": [],
   "source": [
    "SELECT * FROM customer WHERE store_id NOT IN (2);"
   ]
  },
  {
   "cell_type": "markdown",
   "id": "cbfa63f8",
   "metadata": {},
   "source": [
    "### Aggregating Data & Custom Output"
   ]
  },
  {
   "cell_type": "markdown",
   "id": "9a20074f",
   "metadata": {},
   "source": [
    "**How can we calculate the total rental cost for each film?**"
   ]
  },
  {
   "cell_type": "code",
   "execution_count": null,
   "id": "ca4c3910",
   "metadata": {
    "vscode": {
     "languageId": "sql"
    }
   },
   "outputs": [],
   "source": [
    "SELECT title, rental_rate * rental_duration AS total_cost FROM film;"
   ]
  },
  {
   "cell_type": "markdown",
   "id": "9569c915",
   "metadata": {},
   "source": [
    "**What is the average rental price of all films?**"
   ]
  },
  {
   "cell_type": "code",
   "execution_count": null,
   "id": "dc567abf",
   "metadata": {
    "vscode": {
     "languageId": "sql"
    }
   },
   "outputs": [],
   "source": [
    "SELECT AVG(rental_rate) FROM film;"
   ]
  },
  {
   "cell_type": "markdown",
   "id": "cc576c68",
   "metadata": {},
   "source": [
    "**How many films are there per rating category?**"
   ]
  },
  {
   "cell_type": "code",
   "execution_count": null,
   "id": "c2ed2741",
   "metadata": {
    "vscode": {
     "languageId": "sql"
    }
   },
   "outputs": [],
   "source": [
    "SELECT rating, COUNT(*) FROM film GROUP BY rating;"
   ]
  },
  {
   "cell_type": "markdown",
   "id": "6a42a63a",
   "metadata": {},
   "source": [
    "**How to show only rating categories that contain more than 200 films?**"
   ]
  },
  {
   "cell_type": "code",
   "execution_count": null,
   "id": "51e64393",
   "metadata": {
    "vscode": {
     "languageId": "sql"
    }
   },
   "outputs": [],
   "source": [
    "SELECT rating, COUNT(*) FROM film GROUP BY rating HAVING COUNT(*) > 200;"
   ]
  },
  {
   "cell_type": "markdown",
   "id": "902c9457",
   "metadata": {},
   "source": [
    "### Subqueries (Extra Topic)"
   ]
  },
  {
   "cell_type": "markdown",
   "id": "598941ec",
   "metadata": {},
   "source": [
    "**How to find films with rental rates above the average rental rate?**"
   ]
  },
  {
   "cell_type": "code",
   "execution_count": null,
   "id": "09531e79",
   "metadata": {
    "vscode": {
     "languageId": "sql"
    }
   },
   "outputs": [],
   "source": [
    "SELECT title, rental_rate\n",
    "FROM film\n",
    "WHERE rental_rate > (\n",
    "  SELECT AVG(rental_rate) FROM film\n",
    ");"
   ]
  },
  {
   "cell_type": "markdown",
   "id": "eae22bbf",
   "metadata": {},
   "source": [
    "**How to find the customer(s) with the highest number of rentals?**"
   ]
  },
  {
   "cell_type": "code",
   "execution_count": null,
   "id": "667bc287",
   "metadata": {
    "vscode": {
     "languageId": "sql"
    }
   },
   "outputs": [],
   "source": [
    "SELECT customer_id, COUNT(*) AS total_rentals\n",
    "FROM rental\n",
    "GROUP BY customer_id\n",
    "HAVING COUNT(*) = (\n",
    "  SELECT MAX(rental_count)\n",
    "  FROM (\n",
    "    SELECT customer_id, COUNT(*) AS rental_count\n",
    "    FROM rental\n",
    "    GROUP BY customer_id\n",
    "  ) AS rental_counts\n",
    ");"
   ]
  }
 ],
 "metadata": {
  "language_info": {
   "name": "python"
  }
 },
 "nbformat": 4,
 "nbformat_minor": 5
}
