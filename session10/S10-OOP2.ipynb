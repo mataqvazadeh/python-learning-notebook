{
 "cells": [
  {
   "cell_type": "markdown",
   "id": "50bf371d",
   "metadata": {},
   "source": [
    "# OOP 2"
   ]
  },
  {
   "cell_type": "markdown",
   "id": "056605df",
   "metadata": {},
   "source": [
    "## Object Lifecycle\n",
    "- Introduce object lifecycle\n",
    "- GC (Garbage Collector)\n",
    "- Show *\\_\\_init\\_\\_* and *\\_\\_del\\_\\_* methods by example\n",
    "- Usage:\n",
    "    - closing a file on *\\_\\_del\\_\\_*"
   ]
  },
  {
   "cell_type": "markdown",
   "id": "e17a18d3",
   "metadata": {},
   "source": [
    "## Encapsulation\n",
    "- Use **_** for protected\n",
    "    - You can use but you can set warning\n",
    "- Use **\\_\\_** for private\n",
    "    - You can't use and you will get error\n",
    "- Encapsulation means hide implementation from user"
   ]
  },
  {
   "cell_type": "markdown",
   "id": "0db62d3a",
   "metadata": {},
   "source": [
    "## Properties\n",
    "- We need Getters and Setters to hide attributes from users\n",
    "    - Write example with Setter and Getter methods\n",
    "- We can use **@property** instead of Getter and Setter methods\n",
    "    - Rewrite example"
   ]
  },
  {
   "cell_type": "markdown",
   "id": "14fb322f",
   "metadata": {},
   "source": [
    "## Magic Methods (Dunder or Double UNDERscore)\n",
    "- They are magic methods because python used to do its magic.\n",
    "- We can override them to implement our needs.\n",
    "- We can see magic methods by **dir**\n",
    "- Common Magic Methods:\n",
    "    - \\_\\_init\\_\\_\n",
    "    - \\_\\_del\\_\\_\n",
    "    - \\_\\_str\\_\\_\n",
    "    - \\_\\_repr\\_\\_\n",
    "    - \\_\\_dir\\_\\_\n",
    "    - \\_\\_len\\_\\_\n",
    "- Operator Overloading\n",
    "    - \\_\\_add\\_\\_\n",
    "    - \\_\\_iadd\\_\\_\n",
    "    - \\_\\_sub\\_\\_\n",
    "    - \\_\\_lt\\_\\_\n",
    "    - \\_\\_eq\\_\\_\n",
    "    - \\_\\_ne\\_\\_\n",
    "    - \\_\\_ge\\_\\_\n",
    "- Write a ToDo list example\n",
    "- Advance Magic Methods:\n",
    "    - \\_\\_call\\_\\_\n",
    "    - \\_\\_getitem\\_\\_\n",
    "\n"
   ]
  },
  {
   "cell_type": "markdown",
   "id": "9a3b5abb",
   "metadata": {},
   "source": [
    "## Composition vs. Inheritance\n",
    "- _has-a_ relation in todo list example\n",
    "- _is-a_ relation in animal example\n",
    "- Composition over inheritance"
   ]
  },
  {
   "cell_type": "markdown",
   "id": "8281fb51",
   "metadata": {},
   "source": [
    "## Multiple Inheritance\n",
    "- You can Inherit from multiple classes\n",
    "- Method Resolution Order (MRO)\n",
    "- Diamond Problem"
   ]
  }
 ],
 "metadata": {
  "language_info": {
   "name": "python"
  }
 },
 "nbformat": 4,
 "nbformat_minor": 5
}
