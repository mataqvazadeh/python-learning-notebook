{
 "cells": [
  {
   "cell_type": "markdown",
   "id": "3328e72d",
   "metadata": {},
   "source": [
    "# Data Definition Language"
   ]
  },
  {
   "cell_type": "markdown",
   "id": "297aa326",
   "metadata": {},
   "source": [
    "## Table Management"
   ]
  },
  {
   "cell_type": "markdown",
   "id": "64d9d70e",
   "metadata": {},
   "source": [
    "### 🔸 PostgreSQL Data Types"
   ]
  },
  {
   "cell_type": "markdown",
   "id": "5eb1f0e3",
   "metadata": {},
   "source": [
    "| Type          | Description                                  | Example                         |\n",
    "|---------------|----------------------------------------------|----------------------------------|\n",
    "| `SMALLINT`    | Small integers (-32k to 32k)                 | `age SMALLINT`                  |\n",
    "| `INTEGER`     | Standard integers                            | `count INTEGER`                 |\n",
    "| `SERIAL`      | Auto-incrementing integer                    | `id SERIAL PRIMARY KEY`         |\n",
    "| `VARCHAR(n)`  | Variable-length string with limit            | `email VARCHAR(100)`            |\n",
    "| `CHAR(n)`     | Fixed-length string                          | `country_code CHAR(2)`          |\n",
    "| `TEXT`        | Unlimited-length string                      | `description TEXT`              |\n",
    "| `BOOLEAN`     | TRUE, FALSE, NULL                            | `is_active BOOLEAN`             |\n",
    "| `NUMERIC(p,s)`| Exact decimal (e.g. money)                   | `price NUMERIC(10, 2)`          |\n",
    "| `DATE`        | Calendar date                                | `birth_date DATE`               |\n",
    "| `TIMESTAMP`   | Date and time                                | `created_at TIMESTAMP`          |\n",
    "| `UUID`        | Unique identifier                            | `token UUID`                    |\n",
    "| `JSONB`       | Binary JSON storage                          | `settings JSONB`                |\n",
    "| `ARRAY`       | PostgreSQL arrays                            | `tags TEXT[]`                   |"
   ]
  },
  {
   "cell_type": "code",
   "execution_count": null,
   "id": "1e176c4e",
   "metadata": {
    "vscode": {
     "languageId": "sql"
    }
   },
   "outputs": [],
   "source": [
    "CREATE TYPE status AS ENUM ('active', 'inactive', 'banned');"
   ]
  },
  {
   "cell_type": "markdown",
   "id": "160d7d6a",
   "metadata": {},
   "source": [
    "### 🔸 Creating Tables with Constraints"
   ]
  },
  {
   "cell_type": "code",
   "execution_count": null,
   "id": "0c405d89",
   "metadata": {
    "vscode": {
     "languageId": "sql"
    }
   },
   "outputs": [],
   "source": [
    "CREATE TABLE employee (\n",
    "  id SERIAL PRIMARY KEY,\n",
    "  name VARCHAR(100) NOT NULL,\n",
    "  email TEXT UNIQUE,\n",
    "  department_id INT REFERENCES department(id)\n",
    ");"
   ]
  },
  {
   "cell_type": "markdown",
   "id": "c85cb9ba",
   "metadata": {},
   "source": [
    "### 🔸 NULL vs NOT NULL\n",
    "- `NOT NULL`: must be filled (e.g., critical fields like `email`).\n",
    "- `NULL`: optional (e.g., `comment`)."
   ]
  },
  {
   "cell_type": "markdown",
   "id": "2ffc2ca3",
   "metadata": {},
   "source": [
    "### 🔸 ALTER TABLE"
   ]
  },
  {
   "cell_type": "code",
   "execution_count": null,
   "id": "8b1c63fd",
   "metadata": {
    "vscode": {
     "languageId": "sql"
    }
   },
   "outputs": [],
   "source": [
    "ALTER TABLE employee ADD COLUMN salary NUMERIC;"
   ]
  },
  {
   "cell_type": "code",
   "execution_count": null,
   "id": "571bae66",
   "metadata": {
    "vscode": {
     "languageId": "sql"
    }
   },
   "outputs": [],
   "source": [
    "ALTER TABLE employee ALTER COLUMN salary TYPE INTEGER;"
   ]
  },
  {
   "cell_type": "code",
   "execution_count": null,
   "id": "b6f23c9a",
   "metadata": {
    "vscode": {
     "languageId": "sql"
    }
   },
   "outputs": [],
   "source": [
    "ALTER TABLE employee DROP COLUMN salary;"
   ]
  },
  {
   "cell_type": "markdown",
   "id": "5833d87a",
   "metadata": {},
   "source": [
    "### 🔸 RENAME TABLE / COLUMN"
   ]
  },
  {
   "cell_type": "code",
   "execution_count": null,
   "id": "1232612f",
   "metadata": {
    "vscode": {
     "languageId": "javascript"
    }
   },
   "outputs": [],
   "source": [
    "ALTER TABLE employee RENAME TO staff;"
   ]
  },
  {
   "cell_type": "code",
   "execution_count": null,
   "id": "290209fd",
   "metadata": {
    "vscode": {
     "languageId": "sql"
    }
   },
   "outputs": [],
   "source": [
    "ALTER TABLE staff RENAME COLUMN name TO full_name;"
   ]
  },
  {
   "cell_type": "markdown",
   "id": "48533001",
   "metadata": {},
   "source": [
    "## Views and Virtual Tables"
   ]
  },
  {
   "cell_type": "markdown",
   "id": "c9726c59",
   "metadata": {},
   "source": [
    "**Why use views?**\n",
    "- 🧩 Abstract complexity\n",
    "- 🔐 Enforce access control\n",
    "- 🔄 Reusability for reporting or repeated queries"
   ]
  },
  {
   "cell_type": "code",
   "execution_count": null,
   "id": "7ac1cb6c",
   "metadata": {
    "vscode": {
     "languageId": "sql"
    }
   },
   "outputs": [],
   "source": [
    "CREATE VIEW active_customers AS\n",
    "SELECT customer_id, first_name, last_name\n",
    "FROM customer\n",
    "WHERE active = TRUE;"
   ]
  },
  {
   "cell_type": "code",
   "execution_count": null,
   "id": "feb21b82",
   "metadata": {
    "vscode": {
     "languageId": "sql"
    }
   },
   "outputs": [],
   "source": [
    "SELECT * FROM active_customers;"
   ]
  },
  {
   "cell_type": "code",
   "execution_count": null,
   "id": "84cee5cf",
   "metadata": {
    "vscode": {
     "languageId": "sql"
    }
   },
   "outputs": [],
   "source": [
    "DROP VIEW active_customers;"
   ]
  }
 ],
 "metadata": {
  "kernelspec": {
   "display_name": ".venv",
   "language": "python",
   "name": "python3"
  },
  "language_info": {
   "codemirror_mode": {
    "name": "ipython",
    "version": 3
   },
   "file_extension": ".py",
   "mimetype": "text/x-python",
   "name": "python",
   "nbconvert_exporter": "python",
   "pygments_lexer": "ipython3",
   "version": "3.12.3"
  }
 },
 "nbformat": 4,
 "nbformat_minor": 5
}
