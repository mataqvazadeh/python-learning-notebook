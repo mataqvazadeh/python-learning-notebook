{
 "cells": [
  {
   "cell_type": "markdown",
   "id": "3328e72d",
   "metadata": {},
   "source": [
    "# Data Definition Language"
   ]
  },
  {
   "cell_type": "markdown",
   "id": "297aa326",
   "metadata": {},
   "source": [
    "## Table Management"
   ]
  },
  {
   "cell_type": "markdown",
   "id": "64d9d70e",
   "metadata": {},
   "source": [
    "### 🔸 PostgreSQL Data Types"
   ]
  },
  {
   "cell_type": "markdown",
   "id": "5eb1f0e3",
   "metadata": {},
   "source": [
    "| Type          | Description                                  | Example                         |\n",
    "|---------------|----------------------------------------------|----------------------------------|\n",
    "| `SMALLINT`    | Small integers (-32k to 32k)                 | `age SMALLINT`                  |\n",
    "| `INTEGER`     | Standard integers                            | `count INTEGER`                 |\n",
    "| `SERIAL`      | Auto-incrementing integer                    | `id SERIAL PRIMARY KEY`         |\n",
    "| `VARCHAR(n)`  | Variable-length string with limit            | `email VARCHAR(100)`            |\n",
    "| `CHAR(n)`     | Fixed-length string                          | `country_code CHAR(2)`          |\n",
    "| `TEXT`        | Unlimited-length string                      | `description TEXT`              |\n",
    "| `BOOLEAN`     | TRUE, FALSE, NULL                            | `is_active BOOLEAN`             |\n",
    "| `NUMERIC(p,s)`| Exact decimal (e.g. money)                   | `price NUMERIC(10, 2)`          |\n",
    "| `DATE`        | Calendar date                                | `birth_date DATE`               |\n",
    "| `TIMESTAMP`   | Date and time                                | `created_at TIMESTAMP`          |\n",
    "| `UUID`        | Unique identifier                            | `token UUID`                    |\n",
    "| `JSONB`       | Binary JSON storage                          | `settings JSONB`                |\n",
    "| `ARRAY`       | PostgreSQL arrays                            | `tags TEXT[]`                   |"
   ]
  },
  {
   "cell_type": "code",
   "execution_count": null,
   "id": "1e176c4e",
   "metadata": {
    "vscode": {
     "languageId": "sql"
    }
   },
   "outputs": [],
   "source": [
    "CREATE TYPE status AS ENUM ('active', 'inactive', 'banned');"
   ]
  },
  {
   "cell_type": "markdown",
   "id": "160d7d6a",
   "metadata": {},
   "source": [
    "### 🔸 Creating Tables with Constraints"
   ]
  },
  {
   "cell_type": "code",
   "execution_count": null,
   "id": "0c405d89",
   "metadata": {
    "vscode": {
     "languageId": "sql"
    }
   },
   "outputs": [],
   "source": [
    "CREATE TABLE employee (\n",
    "  id SERIAL PRIMARY KEY,\n",
    "  name VARCHAR(100) NOT NULL,\n",
    "  email TEXT UNIQUE,\n",
    "  department_id INT REFERENCES department(id)\n",
    ");"
   ]
  },
  {
   "cell_type": "markdown",
   "id": "c85cb9ba",
   "metadata": {},
   "source": [
    "### 🔸 NULL vs NOT NULL\n",
    "- `NOT NULL`: must be filled (e.g., critical fields like `email`).\n",
    "- `NULL`: optional (e.g., `comment`)."
   ]
  },
  {
   "cell_type": "markdown",
   "id": "2ffc2ca3",
   "metadata": {},
   "source": [
    "### 🔸 ALTER TABLE"
   ]
  },
  {
   "cell_type": "code",
   "execution_count": null,
   "id": "8b1c63fd",
   "metadata": {
    "vscode": {
     "languageId": "sql"
    }
   },
   "outputs": [],
   "source": [
    "ALTER TABLE employee ADD COLUMN salary NUMERIC;"
   ]
  },
  {
   "cell_type": "code",
   "execution_count": null,
   "id": "571bae66",
   "metadata": {
    "vscode": {
     "languageId": "sql"
    }
   },
   "outputs": [],
   "source": [
    "ALTER TABLE employee ALTER COLUMN salary TYPE INTEGER;"
   ]
  },
  {
   "cell_type": "code",
   "execution_count": null,
   "id": "b6f23c9a",
   "metadata": {
    "vscode": {
     "languageId": "sql"
    }
   },
   "outputs": [],
   "source": [
    "ALTER TABLE employee DROP COLUMN salary;"
   ]
  },
  {
   "cell_type": "markdown",
   "id": "5833d87a",
   "metadata": {},
   "source": [
    "### 🔸 RENAME TABLE / COLUMN"
   ]
  },
  {
   "cell_type": "code",
   "execution_count": null,
   "id": "1232612f",
   "metadata": {
    "vscode": {
     "languageId": "javascript"
    }
   },
   "outputs": [],
   "source": [
    "ALTER TABLE employee RENAME TO staff;"
   ]
  },
  {
   "cell_type": "code",
   "execution_count": null,
   "id": "290209fd",
   "metadata": {
    "vscode": {
     "languageId": "sql"
    }
   },
   "outputs": [],
   "source": [
    "ALTER TABLE staff RENAME COLUMN name TO full_name;"
   ]
  },
  {
   "cell_type": "markdown",
   "id": "48533001",
   "metadata": {},
   "source": [
    "## Views and Virtual Tables"
   ]
  },
  {
   "cell_type": "markdown",
   "id": "c9726c59",
   "metadata": {},
   "source": [
    "**Why use views?**\n",
    "- 🧩 Abstract complexity\n",
    "- 🔐 Enforce access control\n",
    "- 🔄 Reusability for reporting or repeated queries"
   ]
  },
  {
   "cell_type": "code",
   "execution_count": null,
   "id": "7ac1cb6c",
   "metadata": {
    "vscode": {
     "languageId": "sql"
    }
   },
   "outputs": [],
   "source": [
    "CREATE VIEW active_customers AS\n",
    "SELECT customer_id, first_name, last_name\n",
    "FROM customer\n",
    "WHERE active = TRUE;"
   ]
  },
  {
   "cell_type": "code",
   "execution_count": null,
   "id": "feb21b82",
   "metadata": {
    "vscode": {
     "languageId": "sql"
    }
   },
   "outputs": [],
   "source": [
    "SELECT * FROM active_customers;"
   ]
  },
  {
   "cell_type": "code",
   "execution_count": null,
   "id": "84cee5cf",
   "metadata": {
    "vscode": {
     "languageId": "sql"
    }
   },
   "outputs": [],
   "source": [
    "DROP VIEW active_customers;"
   ]
  },
  {
   "cell_type": "markdown",
   "id": "8c78c1dd",
   "metadata": {},
   "source": [
    "## Logical Delete (Soft Delete)\n",
    "Instead of physically removing data, mark it as deleted using a flag column like `is_deleted`."
   ]
  },
  {
   "cell_type": "code",
   "execution_count": null,
   "id": "b074995b",
   "metadata": {
    "vscode": {
     "languageId": "sql"
    }
   },
   "outputs": [],
   "source": [
    "ALTER TABLE customer ADD COLUMN is_deleted BOOLEAN DEFAULT FALSE;"
   ]
  },
  {
   "cell_type": "code",
   "execution_count": null,
   "id": "c5fc5fb5",
   "metadata": {
    "vscode": {
     "languageId": "sql"
    }
   },
   "outputs": [],
   "source": [
    "UPDATE customer SET is_deleted = TRUE WHERE customer_id = 12;"
   ]
  },
  {
   "cell_type": "markdown",
   "id": "6a2cb73c",
   "metadata": {},
   "source": [
    "## Self-Relations: Hierarchies and Recursion\n",
    "A self-relation is when a row relates to another row in the **same table**, like employees and their managers."
   ]
  },
  {
   "cell_type": "code",
   "execution_count": null,
   "id": "ee61d11b",
   "metadata": {
    "vscode": {
     "languageId": "sql"
    }
   },
   "outputs": [],
   "source": [
    "CREATE TABLE employee (\n",
    "  id SERIAL PRIMARY KEY,\n",
    "  name TEXT,\n",
    "  manager_id INT REFERENCES employee(id)\n",
    ");"
   ]
  },
  {
   "cell_type": "markdown",
   "id": "2af1d3b3",
   "metadata": {},
   "source": [
    "### 🔸 Recursive Query (WITH RECURSIVE)\n",
    "Query a chain of management hierarchy using Common Table Expressions."
   ]
  },
  {
   "cell_type": "code",
   "execution_count": null,
   "id": "93a6ca9c",
   "metadata": {
    "vscode": {
     "languageId": "sql"
    }
   },
   "outputs": [],
   "source": [
    "WITH RECURSIVE management_chain AS (\n",
    "  SELECT id, name, manager_id FROM employee WHERE manager_id IS NULL\n",
    "  UNION ALL\n",
    "  SELECT e.id, e.name, e.manager_id\n",
    "  FROM employee e\n",
    "  JOIN management_chain mc ON e.manager_id = mc.id\n",
    ")\n",
    "SELECT * FROM management_chain;"
   ]
  },
  {
   "cell_type": "markdown",
   "id": "2f71830f",
   "metadata": {},
   "source": [
    "## Indexes"
   ]
  },
  {
   "cell_type": "markdown",
   "id": "7dac9834",
   "metadata": {},
   "source": [
    "### 🔸 Why Use Indexes?\n",
    "- Speed up search & joins\n",
    "- Reduce full table scans"
   ]
  },
  {
   "cell_type": "code",
   "execution_count": null,
   "id": "27b51605",
   "metadata": {
    "vscode": {
     "languageId": "sql"
    }
   },
   "outputs": [],
   "source": [
    "CREATE INDEX idx_customer_email ON customer(email);"
   ]
  },
  {
   "cell_type": "code",
   "execution_count": null,
   "id": "3b5a5de7",
   "metadata": {
    "vscode": {
     "languageId": "sql"
    }
   },
   "outputs": [],
   "source": [
    "EXPLAIN ANALYZE SELECT * FROM customer WHERE email = 'x@x.com';"
   ]
  },
  {
   "cell_type": "markdown",
   "id": "031dbb9e",
   "metadata": {},
   "source": [
    "## Trigger: Run logic automatically when data changes"
   ]
  },
  {
   "cell_type": "code",
   "execution_count": null,
   "id": "a1510231",
   "metadata": {
    "vscode": {
     "languageId": "sql"
    }
   },
   "outputs": [],
   "source": [
    "CREATE OR REPLACE FUNCTION update_timestamp()\n",
    "RETURNS TRIGGER AS $$\n",
    "BEGIN\n",
    "  NEW.updated_at = NOW();\n",
    "  RETURN NEW;\n",
    "END;\n",
    "$$ LANGUAGE plpgsql;\n",
    "\n",
    "CREATE TRIGGER set_updated_at\n",
    "BEFORE UPDATE ON customer\n",
    "FOR EACH ROW\n",
    "EXECUTE FUNCTION update_timestamp();"
   ]
  },
  {
   "cell_type": "markdown",
   "id": "0770e81c",
   "metadata": {},
   "source": [
    "## Function: Reusable SQL logic that returns a result"
   ]
  },
  {
   "cell_type": "code",
   "execution_count": null,
   "id": "5af96c5d",
   "metadata": {
    "vscode": {
     "languageId": "sql"
    }
   },
   "outputs": [],
   "source": [
    "CREATE OR REPLACE FUNCTION active_customer_count()\n",
    "RETURNS INTEGER AS $$\n",
    "BEGIN\n",
    "  RETURN (SELECT COUNT(*) FROM customer WHERE active = TRUE);\n",
    "END;\n",
    "$$ LANGUAGE plpgsql;"
   ]
  },
  {
   "cell_type": "markdown",
   "id": "4359c0af",
   "metadata": {},
   "source": [
    "## Procedure: Executes a sequence of steps, often without returning a value"
   ]
  },
  {
   "cell_type": "code",
   "execution_count": null,
   "id": "7f7d0136",
   "metadata": {
    "vscode": {
     "languageId": "sql"
    }
   },
   "outputs": [],
   "source": [
    "CREATE PROCEDURE cleanup_logs()\n",
    "LANGUAGE SQL\n",
    "AS $$\n",
    "  DELETE FROM logs WHERE created_at < NOW() - INTERVAL '30 days';\n",
    "$$;\n",
    "\n",
    "CALL cleanup_logs();"
   ]
  },
  {
   "cell_type": "markdown",
   "id": "4ce59c43",
   "metadata": {},
   "source": [
    "### Comparison Table\n",
    "| Feature     | Trigger                         | Function                      | Procedure                     |\n",
    "|-------------|----------------------------------|-------------------------------|-------------------------------|\n",
    "| **When**    | Auto-run on INSERT/UPDATE/DELETE| Called in SQL (`SELECT`)     | Called with `CALL`            |\n",
    "| **Returns** | VOID or `NEW`/`OLD` row         | Scalar or Table               | Usually VOID                  |\n",
    "| **Use case**| Auto-maintenance                | Calculations, reuse logic     | Batch updates, cleanup jobs   |"
   ]
  },
  {
   "cell_type": "markdown",
   "id": "a03e2283",
   "metadata": {},
   "source": [
    "## Normalization"
   ]
  },
  {
   "cell_type": "markdown",
   "id": "6b24c11a",
   "metadata": {},
   "source": [
    "### 🔸 Step-by-step Normalization Example\n",
    "**Unnormalized Table:**"
   ]
  },
  {
   "cell_type": "code",
   "execution_count": null,
   "id": "b42e1ee0",
   "metadata": {
    "vscode": {
     "languageId": "sql"
    }
   },
   "outputs": [],
   "source": [
    "CREATE TABLE orders (\n",
    "  order_id INT,\n",
    "  customer_name TEXT,\n",
    "  items TEXT -- 'pen, paper, notebook'\n",
    ");"
   ]
  },
  {
   "cell_type": "markdown",
   "id": "0cc5d169",
   "metadata": {},
   "source": [
    "**1NF:** Remove repeated items"
   ]
  },
  {
   "cell_type": "code",
   "execution_count": null,
   "id": "3baffb8c",
   "metadata": {
    "vscode": {
     "languageId": "sql"
    }
   },
   "outputs": [],
   "source": [
    "CREATE TABLE order_item (\n",
    "  order_id INT,\n",
    "  item TEXT\n",
    ");"
   ]
  },
  {
   "cell_type": "markdown",
   "id": "93b60eb1",
   "metadata": {},
   "source": [
    "**2NF:** Remove partial dependencies"
   ]
  },
  {
   "cell_type": "code",
   "execution_count": null,
   "id": "26244f09",
   "metadata": {
    "vscode": {
     "languageId": "sql"
    }
   },
   "outputs": [],
   "source": [
    "CREATE TABLE customer (\n",
    "  id SERIAL PRIMARY KEY,\n",
    "  name TEXT\n",
    ");\n",
    "ALTER TABLE orders ADD COLUMN customer_id INT REFERENCES customer(id);"
   ]
  },
  {
   "cell_type": "markdown",
   "id": "dca6cc5c",
   "metadata": {},
   "source": [
    "**3NF:** Remove transitive dependencies"
   ]
  },
  {
   "cell_type": "code",
   "execution_count": null,
   "id": "275e3d37",
   "metadata": {
    "vscode": {
     "languageId": "sql"
    }
   },
   "outputs": [],
   "source": [
    "CREATE TABLE item (\n",
    "  id SERIAL PRIMARY KEY,\n",
    "  name TEXT,\n",
    "  price NUMERIC\n",
    ");\n",
    "CREATE TABLE order_item (\n",
    "  order_id INT,\n",
    "  item_id INT REFERENCES item(id)\n",
    ");"
   ]
  },
  {
   "cell_type": "markdown",
   "id": "a4c243af",
   "metadata": {},
   "source": [
    "## Python psycopg2 and ORMs"
   ]
  },
  {
   "cell_type": "code",
   "execution_count": null,
   "id": "9a15d338",
   "metadata": {},
   "outputs": [],
   "source": [
    "import psycopg2\n",
    "conn = psycopg2.connect(\n",
    "  dbname='dvdrental', user='postgres', password='yourpass', host='localhost')\n",
    "cur = conn.cursor()\n",
    "cur.execute('SELECT * FROM customer LIMIT 5;')\n",
    "for row in cur.fetchall():\n",
    "    print(row)\n",
    "cur.close()\n",
    "conn.close()"
   ]
  }
 ],
 "metadata": {
  "kernelspec": {
   "display_name": ".venv",
   "language": "python",
   "name": "python3"
  },
  "language_info": {
   "codemirror_mode": {
    "name": "ipython",
    "version": 3
   },
   "file_extension": ".py",
   "mimetype": "text/x-python",
   "name": "python",
   "nbconvert_exporter": "python",
   "pygments_lexer": "ipython3",
   "version": "3.12.3"
  }
 },
 "nbformat": 4,
 "nbformat_minor": 5
}
