{
 "cells": [
  {
   "cell_type": "markdown",
   "id": "3328e72d",
   "metadata": {},
   "source": [
    "# Advance SQL"
   ]
  },
  {
   "cell_type": "markdown",
   "id": "e61d0851",
   "metadata": {},
   "source": [
    "## Table Relationships & Keys"
   ]
  },
  {
   "cell_type": "markdown",
   "id": "754b528e",
   "metadata": {},
   "source": [
    "### 🔸 What is a Primary Key?\n",
    "- Uniquely identifies each row.\n",
    "- Cannot be NULL.\n",
    "- Ensures each row is independently addressable."
   ]
  },
  {
   "cell_type": "code",
   "execution_count": null,
   "id": "9e6268a4",
   "metadata": {
    "vscode": {
     "languageId": "sql"
    }
   },
   "outputs": [],
   "source": [
    "CREATE TABLE customer (\n",
    "  customer_id SERIAL PRIMARY KEY,\n",
    "  name TEXT NOT NULL\n",
    ");"
   ]
  },
  {
   "cell_type": "markdown",
   "id": "ee37e432",
   "metadata": {},
   "source": [
    "### 🔸 What is a Foreign Key?\n",
    "- A column that references another table’s primary key.\n",
    "- Ensures relational integrity between tables."
   ]
  },
  {
   "cell_type": "code",
   "execution_count": null,
   "id": "bd20c470",
   "metadata": {
    "vscode": {
     "languageId": "sql"
    }
   },
   "outputs": [],
   "source": [
    "CREATE TABLE rental (\n",
    "  rental_id SERIAL PRIMARY KEY,\n",
    "  customer_id INT REFERENCES customer(customer_id)\n",
    ");"
   ]
  },
  {
   "cell_type": "markdown",
   "id": "92c91442",
   "metadata": {},
   "source": [
    "### 🔸 Types of Relationships\n",
    "| Type             | Example                                | Use Case                              |\n",
    "|------------------|----------------------------------------|----------------------------------------|\n",
    "| One-to-One       | user → profile                         | Each user has one profile              |\n",
    "| One-to-Many      | customer → rental                      | A customer can have many rentals       |\n",
    "| Many-to-Many     | film ↔ actor (via film_actor)          | A film has many actors, actors in many films |"
   ]
  },
  {
   "cell_type": "code",
   "execution_count": null,
   "id": "278450a6",
   "metadata": {
    "vscode": {
     "languageId": "sql"
    }
   },
   "outputs": [],
   "source": [
    "CREATE TABLE film_actor (\n",
    "  film_id INT REFERENCES film(film_id),\n",
    "  actor_id INT REFERENCES actor(actor_id),\n",
    "  PRIMARY KEY (film_id, actor_id)\n",
    ");"
   ]
  },
  {
   "cell_type": "markdown",
   "id": "99d3fbe3",
   "metadata": {},
   "source": [
    "## Joining Tables"
   ]
  },
  {
   "cell_type": "markdown",
   "id": "76851df3",
   "metadata": {},
   "source": [
    "### 🔸 Sample Tables"
   ]
  },
  {
   "cell_type": "markdown",
   "id": "73a96f3b",
   "metadata": {},
   "source": [
    "#### Table A: `customers`"
   ]
  },
  {
   "cell_type": "code",
   "execution_count": null,
   "id": "c4d85e61",
   "metadata": {
    "vscode": {
     "languageId": "sql"
    }
   },
   "outputs": [],
   "source": [
    "CREATE TABLE customers (\n",
    "  id INT,\n",
    "  name TEXT\n",
    ");\n",
    "\n",
    "INSERT INTO customers (id, name) VALUES\n",
    "(1, 'Alice'),\n",
    "(2, 'Bob'),\n",
    "(3, 'Charlie');"
   ]
  },
  {
   "cell_type": "markdown",
   "id": "f5347e33",
   "metadata": {},
   "source": [
    "#### Table B: `orders`"
   ]
  },
  {
   "cell_type": "code",
   "execution_count": null,
   "id": "017d5cd0",
   "metadata": {
    "vscode": {
     "languageId": "sql"
    }
   },
   "outputs": [],
   "source": [
    "CREATE TABLE orders (\n",
    "  id INT,\n",
    "  customer_id INT,\n",
    "  product TEXT\n",
    ");\n",
    "\n",
    "INSERT INTO orders (id, customer_id, product) VALUES\n",
    "(101, 1, 'Book'),\n",
    "(102, 2, 'Pen'),\n",
    "(103, 4, 'Notebook');"
   ]
  },
  {
   "cell_type": "markdown",
   "id": "fb1d8396",
   "metadata": {},
   "source": [
    "### 🔸 INNER JOIN\n",
    "**Only matching rows in both tables (customer exists and made order)**\n",
    "\n",
    "![Inner Join Diagram](images/inner.png)"
   ]
  },
  {
   "cell_type": "code",
   "execution_count": null,
   "id": "bac2fbba",
   "metadata": {
    "vscode": {
     "languageId": "sql"
    }
   },
   "outputs": [],
   "source": [
    "SELECT c.id, c.name, o.product\n",
    "FROM customers AS c\n",
    "INNER JOIN orders o ON c.id = o.customer_id;"
   ]
  },
  {
   "cell_type": "markdown",
   "id": "033b8eea",
   "metadata": {},
   "source": [
    "### 🔸 LEFT JOIN\n",
    "**All customers, with orders if they exist**\n",
    "\n",
    "![Left Join Diagram](images/left.png)"
   ]
  },
  {
   "cell_type": "code",
   "execution_count": null,
   "id": "7a7f026d",
   "metadata": {
    "vscode": {
     "languageId": "sql"
    }
   },
   "outputs": [],
   "source": [
    "SELECT c.id, c.name, o.product\n",
    "FROM customers c\n",
    "LEFT JOIN orders o ON c.id = o.customer_id;"
   ]
  },
  {
   "cell_type": "markdown",
   "id": "2f6ad047",
   "metadata": {},
   "source": [
    "### 🔸 RIGHT JOIN\n",
    "**All orders, with customers if they exist**\n",
    "\n",
    "![Right Join Diagram](images/right.png)"
   ]
  },
  {
   "cell_type": "code",
   "execution_count": null,
   "id": "18306f94",
   "metadata": {
    "vscode": {
     "languageId": "sql"
    }
   },
   "outputs": [],
   "source": [
    "SELECT c.id, c.name, o.product\n",
    "FROM customers c\n",
    "RIGHT JOIN orders o ON c.id = o.customer_id;"
   ]
  },
  {
   "cell_type": "markdown",
   "id": "d3fe1f9a",
   "metadata": {},
   "source": [
    "### 🔸 FULL OUTER JOIN\n",
    "**All customers and all orders, match when possible**\n",
    "\n",
    "![Full Outer Join Diagram](images/full.png)"
   ]
  },
  {
   "cell_type": "code",
   "execution_count": null,
   "id": "15e5091a",
   "metadata": {
    "vscode": {
     "languageId": "sql"
    }
   },
   "outputs": [],
   "source": [
    "SELECT c.id, c.name, o.product\n",
    "FROM customers c\n",
    "FULL OUTER JOIN orders o ON c.id = o.customer_id;"
   ]
  },
  {
   "cell_type": "markdown",
   "id": "fe4b0ec7",
   "metadata": {},
   "source": [
    "### 🔸 CROSS JOIN\n",
    "**All possible combinations of customers and orders**\n",
    "\n",
    "![Cross Join Diagram](images/cross.png)"
   ]
  },
  {
   "cell_type": "code",
   "execution_count": null,
   "id": "547823f1",
   "metadata": {
    "vscode": {
     "languageId": "sql"
    }
   },
   "outputs": [],
   "source": [
    "SELECT c.name, o.product\n",
    "FROM customers c\n",
    "CROSS JOIN orders o;"
   ]
  },
  {
   "cell_type": "markdown",
   "id": "2cf20f5d",
   "metadata": {},
   "source": [
    "## UNION and UNION ALL"
   ]
  },
  {
   "cell_type": "markdown",
   "id": "8e1065f7",
   "metadata": {},
   "source": [
    "### 🔸 What is UNION?\n",
    "Combines results of two SELECT queries and removes duplicates."
   ]
  },
  {
   "cell_type": "code",
   "execution_count": null,
   "id": "6ecb395b",
   "metadata": {
    "vscode": {
     "languageId": "sql"
    }
   },
   "outputs": [],
   "source": [
    "SELECT first_name FROM customer\n",
    "UNION\n",
    "SELECT name FROM staff;"
   ]
  },
  {
   "cell_type": "markdown",
   "id": "07748e8f",
   "metadata": {},
   "source": [
    "### 🔸 What is UNION ALL?\n",
    "Combines results and **includes duplicates**."
   ]
  },
  {
   "cell_type": "code",
   "execution_count": null,
   "id": "7baaf7ef",
   "metadata": {
    "vscode": {
     "languageId": "sql"
    }
   },
   "outputs": [],
   "source": [
    "SELECT first_name FROM customer\n",
    "UNION ALL\n",
    "SELECT name FROM staff;"
   ]
  },
  {
   "cell_type": "markdown",
   "id": "fc226696",
   "metadata": {},
   "source": [
    "### 📝 Rules for UNION and UNION ALL:\n",
    "- Number of columns must match\n",
    "- Data types should be compatible\n",
    "- `UNION` removes duplicates, `UNION ALL` is faster and keeps all rows"
   ]
  },
  {
   "cell_type": "markdown",
   "id": "5665c10b",
   "metadata": {},
   "source": [
    "## INSERT, UPDATE, DELETE"
   ]
  },
  {
   "cell_type": "markdown",
   "id": "4f43f7c8",
   "metadata": {},
   "source": [
    "### 🔸 INSERT"
   ]
  },
  {
   "cell_type": "code",
   "execution_count": null,
   "id": "0c87962a",
   "metadata": {
    "vscode": {
     "languageId": "sql"
    }
   },
   "outputs": [],
   "source": [
    "INSERT INTO customer (first_name, last_name) VALUES ('Ali', 'Rahimi');"
   ]
  },
  {
   "cell_type": "markdown",
   "id": "98708a7e",
   "metadata": {},
   "source": [
    "### 🔸 Multi-row INSERT"
   ]
  },
  {
   "cell_type": "code",
   "execution_count": null,
   "id": "a81fc0ae",
   "metadata": {
    "vscode": {
     "languageId": "sql"
    }
   },
   "outputs": [],
   "source": [
    "INSERT INTO staff (first_name, last_name)\n",
    "VALUES ('Sara', 'Miri'), ('Mehdi', 'Shahi');"
   ]
  },
  {
   "cell_type": "markdown",
   "id": "12c7e2b1",
   "metadata": {},
   "source": [
    "### 🔸 UPDATE"
   ]
  },
  {
   "cell_type": "code",
   "execution_count": null,
   "id": "f64ee1a9",
   "metadata": {
    "vscode": {
     "languageId": "sql"
    }
   },
   "outputs": [],
   "source": [
    "UPDATE customer SET email = 'x@x.com' WHERE customer_id = 1;"
   ]
  },
  {
   "cell_type": "markdown",
   "id": "6f9957e1",
   "metadata": {},
   "source": [
    "### 🔸 DELETE"
   ]
  },
  {
   "cell_type": "code",
   "execution_count": null,
   "id": "79e694e4",
   "metadata": {
    "vscode": {
     "languageId": "sql"
    }
   },
   "outputs": [],
   "source": [
    "DELETE FROM customer WHERE customer_id = 10;"
   ]
  },
  {
   "cell_type": "markdown",
   "id": "297aa326",
   "metadata": {},
   "source": [
    "## Table Management"
   ]
  },
  {
   "cell_type": "markdown",
   "id": "64d9d70e",
   "metadata": {},
   "source": [
    "### 🔸 PostgreSQL Data Types"
   ]
  },
  {
   "cell_type": "markdown",
   "id": "5eb1f0e3",
   "metadata": {},
   "source": [
    "| Type          | Description                                  | Example                         |\n",
    "|---------------|----------------------------------------------|----------------------------------|\n",
    "| `SMALLINT`    | Small integers (-32k to 32k)                 | `age SMALLINT`                  |\n",
    "| `INTEGER`     | Standard integers                            | `count INTEGER`                 |\n",
    "| `SERIAL`      | Auto-incrementing integer                    | `id SERIAL PRIMARY KEY`         |\n",
    "| `VARCHAR(n)`  | Variable-length string with limit            | `email VARCHAR(100)`            |\n",
    "| `CHAR(n)`     | Fixed-length string                          | `country_code CHAR(2)`          |\n",
    "| `TEXT`        | Unlimited-length string                      | `description TEXT`              |\n",
    "| `BOOLEAN`     | TRUE, FALSE, NULL                            | `is_active BOOLEAN`             |\n",
    "| `NUMERIC(p,s)`| Exact decimal (e.g. money)                   | `price NUMERIC(10, 2)`          |\n",
    "| `DATE`        | Calendar date                                | `birth_date DATE`               |\n",
    "| `TIMESTAMP`   | Date and time                                | `created_at TIMESTAMP`          |\n",
    "| `UUID`        | Unique identifier                            | `token UUID`                    |\n",
    "| `JSONB`       | Binary JSON storage                          | `settings JSONB`                |\n",
    "| `ARRAY`       | PostgreSQL arrays                            | `tags TEXT[]`                   |"
   ]
  },
  {
   "cell_type": "code",
   "execution_count": null,
   "id": "1e176c4e",
   "metadata": {
    "vscode": {
     "languageId": "sql"
    }
   },
   "outputs": [],
   "source": [
    "CREATE TYPE status AS ENUM ('active', 'inactive', 'banned');"
   ]
  },
  {
   "cell_type": "markdown",
   "id": "160d7d6a",
   "metadata": {},
   "source": [
    "### 🔸 Creating Tables with Constraints"
   ]
  },
  {
   "cell_type": "code",
   "execution_count": null,
   "id": "0c405d89",
   "metadata": {
    "vscode": {
     "languageId": "sql"
    }
   },
   "outputs": [],
   "source": [
    "CREATE TABLE employee (\n",
    "  id SERIAL PRIMARY KEY,\n",
    "  name VARCHAR(100) NOT NULL,\n",
    "  email TEXT UNIQUE,\n",
    "  department_id INT REFERENCES department(id)\n",
    ");"
   ]
  },
  {
   "cell_type": "markdown",
   "id": "c85cb9ba",
   "metadata": {},
   "source": [
    "### 🔸 NULL vs NOT NULL\n",
    "- `NOT NULL`: must be filled (e.g., critical fields like `email`).\n",
    "- `NULL`: optional (e.g., `comment`)."
   ]
  },
  {
   "cell_type": "markdown",
   "id": "2ffc2ca3",
   "metadata": {},
   "source": [
    "### 🔸 ALTER TABLE"
   ]
  },
  {
   "cell_type": "code",
   "execution_count": null,
   "id": "8b1c63fd",
   "metadata": {
    "vscode": {
     "languageId": "sql"
    }
   },
   "outputs": [],
   "source": [
    "ALTER TABLE employee ADD COLUMN salary NUMERIC;"
   ]
  },
  {
   "cell_type": "code",
   "execution_count": null,
   "id": "571bae66",
   "metadata": {
    "vscode": {
     "languageId": "sql"
    }
   },
   "outputs": [],
   "source": [
    "ALTER TABLE employee ALTER COLUMN salary TYPE INTEGER;"
   ]
  },
  {
   "cell_type": "code",
   "execution_count": null,
   "id": "b6f23c9a",
   "metadata": {
    "vscode": {
     "languageId": "sql"
    }
   },
   "outputs": [],
   "source": [
    "ALTER TABLE employee DROP COLUMN salary;"
   ]
  },
  {
   "cell_type": "markdown",
   "id": "5833d87a",
   "metadata": {},
   "source": [
    "### 🔸 RENAME TABLE / COLUMN"
   ]
  },
  {
   "cell_type": "code",
   "execution_count": null,
   "id": "1232612f",
   "metadata": {
    "vscode": {
     "languageId": "javascript"
    }
   },
   "outputs": [],
   "source": [
    "ALTER TABLE employee RENAME TO staff;"
   ]
  },
  {
   "cell_type": "code",
   "execution_count": null,
   "id": "290209fd",
   "metadata": {
    "vscode": {
     "languageId": "sql"
    }
   },
   "outputs": [],
   "source": [
    "ALTER TABLE staff RENAME COLUMN name TO full_name;"
   ]
  },
  {
   "cell_type": "markdown",
   "id": "48533001",
   "metadata": {},
   "source": [
    "## Views and Virtual Tables"
   ]
  },
  {
   "cell_type": "markdown",
   "id": "c9726c59",
   "metadata": {},
   "source": [
    "**Why use views?**\n",
    "- 🧩 Abstract complexity\n",
    "- 🔐 Enforce access control\n",
    "- 🔄 Reusability for reporting or repeated queries"
   ]
  },
  {
   "cell_type": "code",
   "execution_count": null,
   "id": "7ac1cb6c",
   "metadata": {
    "vscode": {
     "languageId": "sql"
    }
   },
   "outputs": [],
   "source": [
    "CREATE VIEW active_customers AS\n",
    "SELECT customer_id, first_name, last_name\n",
    "FROM customer\n",
    "WHERE active = TRUE;"
   ]
  },
  {
   "cell_type": "code",
   "execution_count": null,
   "id": "feb21b82",
   "metadata": {
    "vscode": {
     "languageId": "sql"
    }
   },
   "outputs": [],
   "source": [
    "SELECT * FROM active_customers;"
   ]
  },
  {
   "cell_type": "code",
   "execution_count": null,
   "id": "84cee5cf",
   "metadata": {
    "vscode": {
     "languageId": "sql"
    }
   },
   "outputs": [],
   "source": [
    "DROP VIEW active_customers;"
   ]
  },
  {
   "cell_type": "markdown",
   "id": "8c78c1dd",
   "metadata": {},
   "source": [
    "## Logical Delete (Soft Delete)\n",
    "Instead of physically removing data, mark it as deleted using a flag column like `is_deleted`."
   ]
  },
  {
   "cell_type": "code",
   "execution_count": null,
   "id": "b074995b",
   "metadata": {
    "vscode": {
     "languageId": "sql"
    }
   },
   "outputs": [],
   "source": [
    "ALTER TABLE customer ADD COLUMN is_deleted BOOLEAN DEFAULT FALSE;"
   ]
  },
  {
   "cell_type": "code",
   "execution_count": null,
   "id": "c5fc5fb5",
   "metadata": {
    "vscode": {
     "languageId": "sql"
    }
   },
   "outputs": [],
   "source": [
    "UPDATE customer SET is_deleted = TRUE WHERE customer_id = 12;"
   ]
  },
  {
   "cell_type": "markdown",
   "id": "6a2cb73c",
   "metadata": {},
   "source": [
    "## Self-Relations: Hierarchies and Recursion\n",
    "A self-relation is when a row relates to another row in the **same table**, like employees and their managers."
   ]
  },
  {
   "cell_type": "code",
   "execution_count": null,
   "id": "ee61d11b",
   "metadata": {
    "vscode": {
     "languageId": "sql"
    }
   },
   "outputs": [],
   "source": [
    "CREATE TABLE employee (\n",
    "  id SERIAL PRIMARY KEY,\n",
    "  name TEXT,\n",
    "  manager_id INT REFERENCES employee(id)\n",
    ");"
   ]
  },
  {
   "cell_type": "markdown",
   "id": "2af1d3b3",
   "metadata": {},
   "source": [
    "### 🔸 Recursive Query (WITH RECURSIVE)\n",
    "Query a chain of management hierarchy using Common Table Expressions."
   ]
  },
  {
   "cell_type": "code",
   "execution_count": null,
   "id": "93a6ca9c",
   "metadata": {
    "vscode": {
     "languageId": "sql"
    }
   },
   "outputs": [],
   "source": [
    "WITH RECURSIVE management_chain AS (\n",
    "  SELECT id, name, manager_id FROM employee WHERE manager_id IS NULL\n",
    "  UNION ALL\n",
    "  SELECT e.id, e.name, e.manager_id\n",
    "  FROM employee e\n",
    "  JOIN management_chain mc ON e.manager_id = mc.id\n",
    ")\n",
    "SELECT * FROM management_chain;"
   ]
  },
  {
   "cell_type": "markdown",
   "id": "2f71830f",
   "metadata": {},
   "source": [
    "## Indexes"
   ]
  },
  {
   "cell_type": "markdown",
   "id": "7dac9834",
   "metadata": {},
   "source": [
    "### 🔸 Why Use Indexes?\n",
    "- Speed up search & joins\n",
    "- Reduce full table scans"
   ]
  },
  {
   "cell_type": "code",
   "execution_count": null,
   "id": "27b51605",
   "metadata": {
    "vscode": {
     "languageId": "sql"
    }
   },
   "outputs": [],
   "source": [
    "CREATE INDEX idx_customer_email ON customer(email);"
   ]
  },
  {
   "cell_type": "code",
   "execution_count": null,
   "id": "3b5a5de7",
   "metadata": {
    "vscode": {
     "languageId": "sql"
    }
   },
   "outputs": [],
   "source": [
    "EXPLAIN ANALYZE SELECT * FROM customer WHERE email = 'x@x.com';"
   ]
  },
  {
   "cell_type": "markdown",
   "id": "a03e2283",
   "metadata": {},
   "source": [
    "## Normalization"
   ]
  },
  {
   "cell_type": "markdown",
   "id": "6b24c11a",
   "metadata": {},
   "source": [
    "### 🔸 Step-by-step Normalization Example\n",
    "**Unnormalized Table:**"
   ]
  },
  {
   "cell_type": "code",
   "execution_count": null,
   "id": "b42e1ee0",
   "metadata": {
    "vscode": {
     "languageId": "sql"
    }
   },
   "outputs": [],
   "source": [
    "CREATE TABLE orders (\n",
    "  order_id INT,\n",
    "  customer_name TEXT,\n",
    "  items TEXT -- 'pen, paper, notebook'\n",
    ");"
   ]
  },
  {
   "cell_type": "markdown",
   "id": "0cc5d169",
   "metadata": {},
   "source": [
    "**1NF:** Remove repeated items"
   ]
  },
  {
   "cell_type": "code",
   "execution_count": null,
   "id": "3baffb8c",
   "metadata": {
    "vscode": {
     "languageId": "sql"
    }
   },
   "outputs": [],
   "source": [
    "CREATE TABLE order_item (\n",
    "  order_id INT,\n",
    "  item TEXT\n",
    ");"
   ]
  },
  {
   "cell_type": "markdown",
   "id": "93b60eb1",
   "metadata": {},
   "source": [
    "**2NF:** Remove partial dependencies"
   ]
  },
  {
   "cell_type": "code",
   "execution_count": null,
   "id": "26244f09",
   "metadata": {
    "vscode": {
     "languageId": "sql"
    }
   },
   "outputs": [],
   "source": [
    "CREATE TABLE customer (\n",
    "  id SERIAL PRIMARY KEY,\n",
    "  name TEXT\n",
    ");\n",
    "ALTER TABLE orders ADD COLUMN customer_id INT REFERENCES customer(id);"
   ]
  },
  {
   "cell_type": "markdown",
   "id": "dca6cc5c",
   "metadata": {},
   "source": [
    "**3NF:** Remove transitive dependencies"
   ]
  },
  {
   "cell_type": "code",
   "execution_count": null,
   "id": "275e3d37",
   "metadata": {
    "vscode": {
     "languageId": "sql"
    }
   },
   "outputs": [],
   "source": [
    "CREATE TABLE item (\n",
    "  id SERIAL PRIMARY KEY,\n",
    "  name TEXT,\n",
    "  price NUMERIC\n",
    ");\n",
    "CREATE TABLE order_item (\n",
    "  order_id INT,\n",
    "  item_id INT REFERENCES item(id)\n",
    ");"
   ]
  },
  {
   "cell_type": "markdown",
   "id": "a4c243af",
   "metadata": {},
   "source": [
    "## Python psycopg2 and ORMs"
   ]
  },
  {
   "cell_type": "code",
   "execution_count": null,
   "id": "9a15d338",
   "metadata": {},
   "outputs": [],
   "source": [
    "import psycopg2\n",
    "conn = psycopg2.connect(\n",
    "  dbname='dvdrental', user='postgres', password='yourpass', host='localhost')\n",
    "cur = conn.cursor()\n",
    "cur.execute('SELECT * FROM customer LIMIT 5;')\n",
    "for row in cur.fetchall():\n",
    "    print(row)\n",
    "cur.close()\n",
    "conn.close()"
   ]
  }
 ],
 "metadata": {
  "kernelspec": {
   "display_name": ".venv",
   "language": "python",
   "name": "python3"
  },
  "language_info": {
   "codemirror_mode": {
    "name": "ipython",
    "version": 3
   },
   "file_extension": ".py",
   "mimetype": "text/x-python",
   "name": "python",
   "nbconvert_exporter": "python",
   "pygments_lexer": "ipython3",
   "version": "3.12.3"
  }
 },
 "nbformat": 4,
 "nbformat_minor": 5
}
