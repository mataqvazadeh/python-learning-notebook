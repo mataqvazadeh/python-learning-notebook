{
 "cells": [
  {
   "cell_type": "markdown",
   "id": "3328e72d",
   "metadata": {},
   "source": [
    "# Manipulating Data"
   ]
  },
  {
   "cell_type": "markdown",
   "id": "4f43f7c8",
   "metadata": {},
   "source": [
    "### 🔸 INSERT"
   ]
  },
  {
   "cell_type": "code",
   "execution_count": null,
   "id": "0c87962a",
   "metadata": {
    "vscode": {
     "languageId": "sql"
    }
   },
   "outputs": [],
   "source": [
    "INSERT INTO customer (first_name, last_name) VALUES ('Ali', 'Rahimi');"
   ]
  },
  {
   "cell_type": "markdown",
   "id": "98708a7e",
   "metadata": {},
   "source": [
    "### 🔸 Multi-row INSERT"
   ]
  },
  {
   "cell_type": "code",
   "execution_count": null,
   "id": "a81fc0ae",
   "metadata": {
    "vscode": {
     "languageId": "sql"
    }
   },
   "outputs": [],
   "source": [
    "INSERT INTO staff (first_name, last_name)\n",
    "VALUES ('Sara', 'Miri'), ('Mehdi', 'Shahi');"
   ]
  },
  {
   "cell_type": "markdown",
   "id": "12c7e2b1",
   "metadata": {},
   "source": [
    "### 🔸 UPDATE"
   ]
  },
  {
   "cell_type": "code",
   "execution_count": null,
   "id": "f64ee1a9",
   "metadata": {
    "vscode": {
     "languageId": "sql"
    }
   },
   "outputs": [],
   "source": [
    "UPDATE customer SET email = 'x@x.com' WHERE customer_id = 1;"
   ]
  },
  {
   "cell_type": "markdown",
   "id": "6f9957e1",
   "metadata": {},
   "source": [
    "### 🔸 DELETE"
   ]
  },
  {
   "cell_type": "code",
   "execution_count": null,
   "id": "79e694e4",
   "metadata": {
    "vscode": {
     "languageId": "sql"
    }
   },
   "outputs": [],
   "source": [
    "DELETE FROM customer WHERE customer_id = 10;"
   ]
  }
 ],
 "metadata": {
  "kernelspec": {
   "display_name": ".venv",
   "language": "python",
   "name": "python3"
  },
  "language_info": {
   "codemirror_mode": {
    "name": "ipython",
    "version": 3
   },
   "file_extension": ".py",
   "mimetype": "text/x-python",
   "name": "python",
   "nbconvert_exporter": "python",
   "pygments_lexer": "ipython3",
   "version": "3.12.3"
  }
 },
 "nbformat": 4,
 "nbformat_minor": 5
}
