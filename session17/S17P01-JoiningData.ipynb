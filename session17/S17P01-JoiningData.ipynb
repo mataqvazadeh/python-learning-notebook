{
 "cells": [
  {
   "cell_type": "markdown",
   "id": "3328e72d",
   "metadata": {},
   "source": [
    "# Joining Data"
   ]
  },
  {
   "cell_type": "markdown",
   "id": "e61d0851",
   "metadata": {},
   "source": [
    "## Table Relationships & Keys"
   ]
  },
  {
   "cell_type": "markdown",
   "id": "754b528e",
   "metadata": {},
   "source": [
    "### 🔸 What is a Primary Key?\n",
    "- Uniquely identifies each row.\n",
    "- Cannot be NULL.\n",
    "- Ensures each row is independently addressable."
   ]
  },
  {
   "cell_type": "code",
   "execution_count": null,
   "id": "9e6268a4",
   "metadata": {
    "vscode": {
     "languageId": "sql"
    }
   },
   "outputs": [],
   "source": [
    "CREATE TABLE customer (\n",
    "  customer_id SERIAL PRIMARY KEY,\n",
    "  name TEXT NOT NULL\n",
    ");"
   ]
  },
  {
   "cell_type": "markdown",
   "id": "ee37e432",
   "metadata": {},
   "source": [
    "### 🔸 What is a Foreign Key?\n",
    "- A column that references another table’s primary key.\n",
    "- Ensures relational integrity between tables."
   ]
  },
  {
   "cell_type": "code",
   "execution_count": null,
   "id": "bd20c470",
   "metadata": {
    "vscode": {
     "languageId": "sql"
    }
   },
   "outputs": [],
   "source": [
    "CREATE TABLE rental (\n",
    "  rental_id SERIAL PRIMARY KEY,\n",
    "  customer_id INT REFERENCES customer(customer_id)\n",
    ");"
   ]
  },
  {
   "cell_type": "markdown",
   "id": "92c91442",
   "metadata": {},
   "source": [
    "### 🔸 Types of Relationships\n",
    "| Type             | Example                                | Use Case                              |\n",
    "|------------------|----------------------------------------|----------------------------------------|\n",
    "| One-to-One       | user → profile                         | Each user has one profile              |\n",
    "| One-to-Many      | customer → rental                      | A customer can have many rentals       |\n",
    "| Many-to-Many     | film ↔ actor (via film_actor)          | A film has many actors, actors in many films |"
   ]
  },
  {
   "cell_type": "code",
   "execution_count": null,
   "id": "278450a6",
   "metadata": {
    "vscode": {
     "languageId": "sql"
    }
   },
   "outputs": [],
   "source": [
    "CREATE TABLE film_actor (\n",
    "  film_id INT REFERENCES film(film_id),\n",
    "  actor_id INT REFERENCES actor(actor_id),\n",
    "  PRIMARY KEY (film_id, actor_id)\n",
    ");"
   ]
  },
  {
   "cell_type": "markdown",
   "id": "99d3fbe3",
   "metadata": {},
   "source": [
    "## Joining Tables"
   ]
  },
  {
   "cell_type": "markdown",
   "id": "76851df3",
   "metadata": {},
   "source": [
    "### 🔸 Sample Tables"
   ]
  },
  {
   "cell_type": "markdown",
   "id": "73a96f3b",
   "metadata": {},
   "source": [
    "#### Table A: `customers`"
   ]
  },
  {
   "cell_type": "code",
   "execution_count": null,
   "id": "c4d85e61",
   "metadata": {
    "vscode": {
     "languageId": "sql"
    }
   },
   "outputs": [],
   "source": [
    "CREATE TABLE customers (\n",
    "  id INT,\n",
    "  name TEXT\n",
    ");\n",
    "\n",
    "INSERT INTO customers (id, name) VALUES\n",
    "(1, 'Alice'),\n",
    "(2, 'Bob'),\n",
    "(3, 'Charlie');"
   ]
  },
  {
   "cell_type": "markdown",
   "id": "f5347e33",
   "metadata": {},
   "source": [
    "#### Table B: `orders`"
   ]
  },
  {
   "cell_type": "code",
   "execution_count": null,
   "id": "017d5cd0",
   "metadata": {
    "vscode": {
     "languageId": "sql"
    }
   },
   "outputs": [],
   "source": [
    "CREATE TABLE orders (\n",
    "  id INT,\n",
    "  customer_id INT,\n",
    "  product TEXT\n",
    ");\n",
    "\n",
    "INSERT INTO orders (id, customer_id, product) VALUES\n",
    "(101, 1, 'Book'),\n",
    "(102, 2, 'Pen'),\n",
    "(103, 4, 'Notebook');"
   ]
  },
  {
   "cell_type": "markdown",
   "id": "fb1d8396",
   "metadata": {},
   "source": [
    "### 🔸 INNER JOIN\n",
    "**Only matching rows in both tables (customer exists and made order)**\n",
    "\n",
    "![Inner Join Diagram](images/inner.png)"
   ]
  },
  {
   "cell_type": "code",
   "execution_count": null,
   "id": "bac2fbba",
   "metadata": {
    "vscode": {
     "languageId": "sql"
    }
   },
   "outputs": [],
   "source": [
    "SELECT c.id, c.name, o.product\n",
    "FROM customers AS c\n",
    "INNER JOIN orders o ON c.id = o.customer_id;"
   ]
  },
  {
   "cell_type": "markdown",
   "id": "033b8eea",
   "metadata": {},
   "source": [
    "### 🔸 LEFT JOIN\n",
    "**All customers, with orders if they exist**\n",
    "\n",
    "![Left Join Diagram](images/left.png)"
   ]
  },
  {
   "cell_type": "code",
   "execution_count": null,
   "id": "7a7f026d",
   "metadata": {
    "vscode": {
     "languageId": "sql"
    }
   },
   "outputs": [],
   "source": [
    "SELECT c.id, c.name, o.product\n",
    "FROM customers c\n",
    "LEFT JOIN orders o ON c.id = o.customer_id;"
   ]
  },
  {
   "cell_type": "markdown",
   "id": "2f6ad047",
   "metadata": {},
   "source": [
    "### 🔸 RIGHT JOIN\n",
    "**All orders, with customers if they exist**\n",
    "\n",
    "![Right Join Diagram](images/right.png)"
   ]
  },
  {
   "cell_type": "code",
   "execution_count": null,
   "id": "18306f94",
   "metadata": {
    "vscode": {
     "languageId": "sql"
    }
   },
   "outputs": [],
   "source": [
    "SELECT c.id, c.name, o.product\n",
    "FROM customers c\n",
    "RIGHT JOIN orders o ON c.id = o.customer_id;"
   ]
  },
  {
   "cell_type": "markdown",
   "id": "d3fe1f9a",
   "metadata": {},
   "source": [
    "### 🔸 FULL OUTER JOIN\n",
    "**All customers and all orders, match when possible**\n",
    "\n",
    "![Full Outer Join Diagram](images/full.png)"
   ]
  },
  {
   "cell_type": "code",
   "execution_count": null,
   "id": "15e5091a",
   "metadata": {
    "vscode": {
     "languageId": "sql"
    }
   },
   "outputs": [],
   "source": [
    "SELECT c.id, c.name, o.product\n",
    "FROM customers c\n",
    "FULL OUTER JOIN orders o ON c.id = o.customer_id;"
   ]
  },
  {
   "cell_type": "markdown",
   "id": "fe4b0ec7",
   "metadata": {},
   "source": [
    "### 🔸 CROSS JOIN\n",
    "**All possible combinations of customers and orders**\n",
    "\n",
    "![Cross Join Diagram](images/cross.png)"
   ]
  },
  {
   "cell_type": "code",
   "execution_count": null,
   "id": "547823f1",
   "metadata": {
    "vscode": {
     "languageId": "sql"
    }
   },
   "outputs": [],
   "source": [
    "SELECT c.name, o.product\n",
    "FROM customers c\n",
    "CROSS JOIN orders o;"
   ]
  },
  {
   "cell_type": "markdown",
   "id": "2cf20f5d",
   "metadata": {},
   "source": [
    "## UNION and UNION ALL"
   ]
  },
  {
   "cell_type": "markdown",
   "id": "8e1065f7",
   "metadata": {},
   "source": [
    "### 🔸 What is UNION?\n",
    "Combines results of two SELECT queries and removes duplicates."
   ]
  },
  {
   "cell_type": "code",
   "execution_count": null,
   "id": "6ecb395b",
   "metadata": {
    "vscode": {
     "languageId": "sql"
    }
   },
   "outputs": [],
   "source": [
    "SELECT first_name FROM customer\n",
    "UNION\n",
    "SELECT name FROM staff;"
   ]
  },
  {
   "cell_type": "markdown",
   "id": "07748e8f",
   "metadata": {},
   "source": [
    "### 🔸 What is UNION ALL?\n",
    "Combines results and **includes duplicates**."
   ]
  },
  {
   "cell_type": "code",
   "execution_count": null,
   "id": "7baaf7ef",
   "metadata": {
    "vscode": {
     "languageId": "sql"
    }
   },
   "outputs": [],
   "source": [
    "SELECT first_name FROM customer\n",
    "UNION ALL\n",
    "SELECT name FROM staff;"
   ]
  },
  {
   "cell_type": "markdown",
   "id": "fc226696",
   "metadata": {},
   "source": [
    "### 📝 Rules for UNION and UNION ALL:\n",
    "- Number of columns must match\n",
    "- Data types should be compatible\n",
    "- `UNION` removes duplicates, `UNION ALL` is faster and keeps all rows"
   ]
  }
 ],
 "metadata": {
  "kernelspec": {
   "display_name": ".venv",
   "language": "python",
   "name": "python3"
  },
  "language_info": {
   "codemirror_mode": {
    "name": "ipython",
    "version": 3
   },
   "file_extension": ".py",
   "mimetype": "text/x-python",
   "name": "python",
   "nbconvert_exporter": "python",
   "pygments_lexer": "ipython3",
   "version": "3.12.3"
  }
 },
 "nbformat": 4,
 "nbformat_minor": 5
}
