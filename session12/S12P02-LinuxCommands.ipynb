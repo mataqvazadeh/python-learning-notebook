{
 "cells": [
  {
   "cell_type": "markdown",
   "id": "3cd7faca",
   "metadata": {},
   "source": [
    "# Linux Commands"
   ]
  },
  {
   "cell_type": "markdown",
   "id": "b57f2617",
   "metadata": {},
   "source": [
    "## Shell\n",
    "- We run our commands on Shell\n",
    "- Shell is a text-based user interface between us and OS\n",
    "- We have a lot of shell apps:\n",
    "    - bash (mostly default)\n",
    "    - zsh\n",
    "    - tsch"
   ]
  },
  {
   "cell_type": "markdown",
   "id": "b3664e50",
   "metadata": {},
   "source": [
    "## Who you are?\n",
    "```bash\n",
    "$ whoami\n",
    "```\n"
   ]
  },
  {
   "cell_type": "markdown",
   "id": "c4b729e8",
   "metadata": {},
   "source": [
    "## What time is it?\n",
    "```bash\n",
    "$ date\n",
    "```\n"
   ]
  },
  {
   "cell_type": "markdown",
   "id": "4b97d9b2",
   "metadata": {},
   "source": [
    "## Navigation\n",
    "```bash\n",
    "$ pwd # print working directory\n",
    "$ cd /home/maktab/projects # Absolute path\n",
    "$ cd ./projects # Relative path\n",
    "$ cd ../nobitex # Relative path\n",
    "$ cd ~ # Home Directory\n",
    "$ cd # Home Directory\n",
    "$ ls\n",
    "$ ls -a\n",
    "$ ls -la\n",
    "$ ls --help\n",
    "$ man ls\n",
    "```"
   ]
  },
  {
   "cell_type": "markdown",
   "id": "f62c3386",
   "metadata": {},
   "source": [
    "## Managing File and Directories\n",
    "```bash\n",
    "$ mkdir my-dir # make directory\n",
    "$ touch my-file # make a file & update file timestamp\n",
    "$ file my-file # get file type\n",
    "$ cp my-file ../projects # copy\n",
    "$ cp -r ../projects ./ # copy recursive\n",
    "$ cp -i my-file ../projects # copy interactive\n",
    "$ mv my-file MyFile # rename file (Linux is Case Sensitive)\n",
    "$ mv MyFile ../projects # move file\n",
    "$ mv my-dir MyDir\n",
    "$ rm MyFile # remove file\n",
    "$ rm -r MyDir # remove directory recursive\n",
    "$ rm -rf MyDir # force remove\n",
    "$ rmdir MyDir # remove directories\n",
    "\n",
    "```"
   ]
  },
  {
   "cell_type": "markdown",
   "id": "7d57645c",
   "metadata": {},
   "source": [
    "## Viewing File Content\n",
    "```bash\n",
    "$ cat MyFile    # show file content\n",
    "$ cat MyFile1 MyFile2 # combine files and show content\n",
    "$ tac MyFile # show file reverse\n",
    "$ nl MyFile # show content with line number\n",
    "$ head MyFile # show first 10 lines\n",
    "$ tail MyFile # show last 10 lines\n",
    "$ less MyFile # show file with some rich commands\n",
    "$ more MyFile # like less with another shortcuts\n",
    "```"
   ]
  },
  {
   "cell_type": "markdown",
   "id": "1d2171d2",
   "metadata": {},
   "source": [
    "## Utility Commands\n",
    "```bash\n",
    "$ clear # clear screen\n",
    "$ history # show commands history (You can search on it by Ctrl+R)\n",
    "$ !! # run last command\n",
    "$ whatis cat # one line description about command\n",
    "$ find ~/projects -name \"*.py\" # find files with this pattern\n",
    "$ grep \"deposit\" *.py # match pattern inside file\n",
    "$ exit # exit from shell\n",
    "```"
   ]
  },
  {
   "cell_type": "markdown",
   "id": "6b6f4d26",
   "metadata": {},
   "source": [
    "## Some Practice\n",
    "- What is **df** command?\n",
    "- What is **du** command?\n",
    "- Create a directory inside your home\n",
    "- Go to that directory\n",
    "- Create a python file in it\n",
    "- Edit file and import this\n",
    "- Rename file\n",
    "- Run file"
   ]
  },
  {
   "cell_type": "markdown",
   "id": "c8cba7d3",
   "metadata": {},
   "source": [
    "## Linux Package Manager\n",
    "- It is a tool that you can install, update and remove your linux apps\n",
    "- Popular Package Managers:\n",
    "    - apt (apt-get) for Debian-based distributions (**.deb** packages)\n",
    "    - yum for RedHat-based distributions (**.rpm** packages)\n",
    "    - pacman for Arch-based distributions (**.pkg.tar.zst**\tpackages)\n",
    "```bash\n",
    "$ sudo apt update # update package lists.\n",
    "$ sudo apt upgrade # upgrade installed packages\n",
    "$ sudo apt search jalali calendar # search for a package\n",
    "$ sudo apt install jcal # install special package\n",
    "$ sudo apt remove jcal # uninstall a package.\n",
    "$ sudo apt list --installed\n",
    "$ cat /etc/apt/sources.list.d/ubuntu.sources\n",
    "```"
   ]
  },
  {
   "cell_type": "markdown",
   "id": "835a0f36",
   "metadata": {},
   "source": [
    "## Practice Time\n",
    "- Install curl\n",
    "- Use curl"
   ]
  }
 ],
 "metadata": {
  "language_info": {
   "name": "python"
  }
 },
 "nbformat": 4,
 "nbformat_minor": 5
}
