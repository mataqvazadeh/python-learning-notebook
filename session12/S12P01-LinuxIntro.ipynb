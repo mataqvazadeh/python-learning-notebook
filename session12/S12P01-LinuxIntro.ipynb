{
 "cells": [
  {
   "cell_type": "markdown",
   "id": "bbdf3c53",
   "metadata": {
    "slideshow": {
     "slide_type": "slide"
    }
   },
   "source": [
    "# Introduction to GNU Linux"
   ]
  },
  {
   "cell_type": "markdown",
   "id": "8fd55a92",
   "metadata": {
    "slideshow": {
     "slide_type": "slide"
    }
   },
   "source": [
    "## What is OS (Operating System)?\n",
    "- OS is an user interface that manages resources, run apps and etc\n",
    "- OS manages that which app can use CPU, RAM and Hard\n",
    "- We have a lot of OSs:\n",
    "    - MS DOS\n",
    "    - MS Windows\n",
    "    - Unix\n",
    "    - GNU Linux\n",
    "    - macOS\n",
    "    - iOS\n",
    "    - Android\n",
    "    - ChromiumOS\n",
    "    - Symbian"
   ]
  },
  {
   "cell_type": "markdown",
   "id": "b21a8bcf",
   "metadata": {
    "slideshow": {
     "slide_type": "slide"
    }
   },
   "source": [
    "## Why Linux?\n",
    "- It is Open-Source (See [Revolution OS Documentary](https://en.wikipedia.org/wiki/Revolution_OS))\n",
    "- It has a lot of free distribution\n",
    "- It can run with minimum resource (We have a lot of device with linux os like Routers)\n",
    "- It is customizable\n",
    "- It has big community\n",
    "- It is more secure than others\n",
    "- It manages resources better than others\n",
    "- Docker is based on linux kernel"
   ]
  },
  {
   "cell_type": "markdown",
   "id": "610d0b4e",
   "metadata": {
    "slideshow": {
     "slide_type": "slide"
    }
   },
   "source": [
    "## GNU, Kernel, Distribution"
   ]
  },
  {
   "cell_type": "markdown",
   "id": "65f9c45a",
   "metadata": {
    "slideshow": {
     "slide_type": "subslide"
    }
   },
   "source": [
    "### GNU\n",
    "- GNU is an project or movement into free software community\n",
    "- Most of linux basic tools and commands are created by GNU community\n",
    "- GNU founded by [Richard Stallman](https://www.stallman.org/)\n",
    "\n",
    "<img src=\"images/stallman.png\" alt=\"Richard Stallman\" style=\"height: 200px; margin: auto; display: block;\">"
   ]
  },
  {
   "cell_type": "markdown",
   "id": "5f25ef82",
   "metadata": {
    "slideshow": {
     "slide_type": "subslide"
    }
   },
   "source": [
    "### Linux Kernel\n",
    "- Linux kernel created by [Linus Torvalds](https://en.wikipedia.org/wiki/Linus_Torvalds)\n",
    "- Kernel is a base of OS\n",
    "- Kernel communicate with hardwares and manage resource and give service to high level apps\n",
    "\n",
    "<img src=\"images/torvalds.png\" alt=\"Linus Torvalds\" style=\"height: 200px; margin: auto; display: block;\">"
   ]
  },
  {
   "cell_type": "markdown",
   "id": "07db3bdd",
   "metadata": {
    "slideshow": {
     "slide_type": "subslide"
    }
   },
   "source": [
    "### Linux Distributions (Distro)\n",
    "- Linux Kernel + GNU Tools + etc\n",
    "- We have some distributions from scratch:\n",
    "    - Red Hat\n",
    "    - Debian\n",
    "    - SUSE\n",
    "    - Arch\n",
    "- We have some distributions from other distributions:\n",
    "    - Fedora (Red Hat)\n",
    "    - CentOS (Red Hat)\n",
    "    - Ubuntu (Debian)\n",
    "    - Xubuntu (Ubuntu)\n",
    "    - Kubuntu (Ubuntu)\n",
    "    - Mint (Ubuntu)\n",
    "    - Kali (Ubuntu)\n",
    "- You can follow distribution tree [here](https://upload.wikimedia.org/wikipedia/commons/1/1b/Linux_Distribution_Timeline.svg)"
   ]
  },
  {
   "cell_type": "markdown",
   "id": "5b6cbfbc",
   "metadata": {
    "slideshow": {
     "slide_type": "slide"
    }
   },
   "source": [
    "## File Systems\n",
    "- File systems manages that how file and data save physically on hard drives\n",
    "- Windows famous file systems:\n",
    "    - NTFS\n",
    "    - FAT32\n",
    "- Linux famous file systems:\n",
    "    - ext4\n",
    "    - Btrfs\n",
    "    - XFS\n",
    "    - FAT32"
   ]
  },
  {
   "cell_type": "markdown",
   "id": "dae3cf6b",
   "metadata": {
    "slideshow": {
     "slide_type": "slide"
    }
   },
   "source": [
    "## Linux Filesystem Hierarchy\n",
    "<img src=\"images/fhs.png\" alt=\"FHS\" style=\"height: 500px; margin: auto; display: block;\">\n"
   ]
  },
  {
   "cell_type": "markdown",
   "id": "4df6ce12",
   "metadata": {
    "slideshow": {
     "slide_type": "slide"
    }
   },
   "source": [
    "## Resources\n",
    "- [Linux Journey](https://linuxjourney.com/)"
   ]
  }
 ],
 "metadata": {
  "language_info": {
   "name": "python"
  }
 },
 "nbformat": 4,
 "nbformat_minor": 5
}
