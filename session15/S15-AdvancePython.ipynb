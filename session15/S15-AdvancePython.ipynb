{
 "cells": [
  {
   "cell_type": "markdown",
   "id": "d3499232",
   "metadata": {},
   "source": [
    "# Advance Python"
   ]
  },
  {
   "cell_type": "markdown",
   "id": "0f819948",
   "metadata": {},
   "source": [
    "## Context Managers (`with` Statement)"
   ]
  },
  {
   "cell_type": "markdown",
   "id": "881242f0",
   "metadata": {},
   "source": [
    "### Principles of resource management using the `with` statement."
   ]
  },
  {
   "cell_type": "code",
   "execution_count": null,
   "id": "e87a1a2e",
   "metadata": {},
   "outputs": [],
   "source": [
    "with open(\"example.txt\", \"w\") as file:\n",
    "    file.write(\"Resource is managed automatically.\")"
   ]
  },
  {
   "cell_type": "markdown",
   "id": "09259126",
   "metadata": {},
   "source": [
    "### Writing custom context managers with `__enter__` and `__exit__`."
   ]
  },
  {
   "cell_type": "code",
   "execution_count": null,
   "id": "6e1497f9",
   "metadata": {},
   "outputs": [],
   "source": [
    "class SimpleContext:\n",
    "    def __enter__(self):\n",
    "        print(\"Entering context\")\n",
    "        return self\n",
    "\n",
    "    def __exit__(self, exc_type, exc_val, exc_tb):\n",
    "        print(\"Exiting context\")\n",
    "\n",
    "with SimpleContext():\n",
    "    print(\"Inside context\")"
   ]
  },
  {
   "cell_type": "markdown",
   "id": "f0507d22",
   "metadata": {},
   "source": [
    "### Using built-in context managers – suppressing exceptions."
   ]
  },
  {
   "cell_type": "code",
   "execution_count": null,
   "id": "9f32ce40",
   "metadata": {},
   "outputs": [],
   "source": [
    "from contextlib import suppress\n",
    "\n",
    "with suppress(ZeroDivisionError, ValueError):\n",
    "    print(\"Trying to divide by zero\")\n",
    "    result = 1 / 0  # ZeroDivisionError suppressed\n",
    "    print(\"This won't run\")\n",
    "\n",
    "with suppress(KeyError):\n",
    "    print(\"Accessing dictionary key\")\n",
    "    d = {}\n",
    "    print(d['missing'])  # KeyError suppressed"
   ]
  },
  {
   "cell_type": "markdown",
   "id": "60804b29",
   "metadata": {},
   "source": [
    "### Adding a method to a class temporarily with a context manager (`__enter__`/`__exit__`)."
   ]
  },
  {
   "cell_type": "code",
   "execution_count": null,
   "id": "336c4431",
   "metadata": {},
   "outputs": [],
   "source": [
    "class AddMethodContext:\n",
    "    def __init__(self, cls, method_name, method):\n",
    "        self.cls = cls\n",
    "        self.method_name = method_name\n",
    "        self.method = method\n",
    "        self.original = None\n",
    "\n",
    "    def __enter__(self):\n",
    "        if hasattr(self.cls, self.method_name):\n",
    "            self.original = getattr(self.cls, self.method_name)\n",
    "        setattr(self.cls, self.method_name, self.method)\n",
    "\n",
    "    def __exit__(self, exc_type, exc_val, exc_tb):\n",
    "        if self.original:\n",
    "            setattr(self.cls, self.method_name, self.original)\n",
    "        else:\n",
    "            delattr(self.cls, self.method_name)\n",
    "\n",
    "class MyClass:\n",
    "    def original(self):\n",
    "        print(\"Original\")\n",
    "\n",
    "def new_method(self):\n",
    "    print(\"New method added temporarily\")\n",
    "\n",
    "obj = MyClass()\n",
    "\n",
    "with AddMethodContext(MyClass, \"temporary\", new_method):\n",
    "    obj.temporary()"
   ]
  },
  {
   "cell_type": "markdown",
   "id": "0314ba2a",
   "metadata": {},
   "source": [
    "## Iterators and Iterables"
   ]
  },
  {
   "cell_type": "markdown",
   "id": "ddd1db2c",
   "metadata": {},
   "source": [
    "### Difference between iterables and iterators.\n",
    "- **Iterable**: An object capable of returning its elements one at a time, which supports iteration (e.g., lists, tuples, dictionaries, sets).\n",
    "- **Iterator**: An object representing a stream of data; implements __next__() and __iter__() methods."
   ]
  },
  {
   "cell_type": "markdown",
   "id": "e3ef04ed",
   "metadata": {},
   "source": [
    "### Creating custom iterators using `__iter__` and `__next__`."
   ]
  },
  {
   "cell_type": "code",
   "execution_count": null,
   "id": "93ec0960",
   "metadata": {},
   "outputs": [],
   "source": [
    "class CounterIterator:\n",
    "    def __init__(self, max_count):\n",
    "        self.count = 0\n",
    "        self.max_count = max_count\n",
    "\n",
    "    def __iter__(self):\n",
    "        return self\n",
    "\n",
    "    def __next__(self):\n",
    "        if self.count < self.max_count:\n",
    "            self.count += 1\n",
    "            return self.count\n",
    "        else:\n",
    "            raise StopIteration\n",
    "\n",
    "for number in CounterIterator(3):\n",
    "    print(number)"
   ]
  },
  {
   "cell_type": "markdown",
   "id": "1dc98a50",
   "metadata": {},
   "source": [
    "### Using `iter()` and `next()` with custom iterator."
   ]
  },
  {
   "cell_type": "code",
   "execution_count": null,
   "id": "dd07ce87",
   "metadata": {},
   "outputs": [],
   "source": [
    "counter = CounterIterator(2)\n",
    "iterator = iter(counter)\n",
    "\n",
    "print(next(iterator))  # 1\n",
    "print(next(iterator))  # 2"
   ]
  },
  {
   "cell_type": "markdown",
   "id": "c7bf9cc2",
   "metadata": {},
   "source": [
    "### Custom iterator class vs. generator function."
   ]
  },
  {
   "cell_type": "code",
   "execution_count": null,
   "id": "d38e256a",
   "metadata": {},
   "outputs": [],
   "source": [
    "class EvenNumbers:\n",
    "    def __init__(self, limit):\n",
    "        self.current = 0\n",
    "        self.limit = limit\n",
    "\n",
    "    def __iter__(self):\n",
    "        return self\n",
    "\n",
    "    def __next__(self):\n",
    "        if self.current <= self.limit:\n",
    "            result = self.current\n",
    "            self.current += 2\n",
    "            return result\n",
    "        else:\n",
    "            raise StopIteration\n",
    "\n",
    "for num in EvenNumbers(6):\n",
    "    print(num)"
   ]
  },
  {
   "cell_type": "code",
   "execution_count": null,
   "id": "0fce8fab",
   "metadata": {},
   "outputs": [],
   "source": [
    "def even_numbers(limit):\n",
    "    current = 0\n",
    "    while current <= limit:\n",
    "        yield current\n",
    "        current += 2\n",
    "\n",
    "for num in even_numbers(6):\n",
    "    print(num)"
   ]
  },
  {
   "cell_type": "markdown",
   "id": "6a68c122",
   "metadata": {},
   "source": [
    "## Variable Scopes"
   ]
  },
  {
   "cell_type": "markdown",
   "id": "0a8ce85f",
   "metadata": {},
   "source": [
    "### Python's LEGB (Local, Enclosing, Global, Built-in) rule explained.\n",
    "Python searches variables in the following order:\n",
    "\n",
    "- **Local**: Defined within the current function.\n",
    "- **Enclosing**: Defined in enclosing functions.\n",
    "- **Global**: Defined at the module level.\n",
    "- **Built-in**: Built-in Python variables and functions."
   ]
  },
  {
   "cell_type": "markdown",
   "id": "0439f99a",
   "metadata": {},
   "source": [
    "### Using `global` and `nonlocal` keywords effectively."
   ]
  },
  {
   "cell_type": "code",
   "execution_count": null,
   "id": "e078682b",
   "metadata": {},
   "outputs": [],
   "source": [
    "count = 0  # Global variable\n",
    "\n",
    "def outer():\n",
    "    count = 5  # Enclosing variable\n",
    "\n",
    "    def inner():\n",
    "        nonlocal count\n",
    "        count += 1\n",
    "        print(\"Inner count:\", count)\n",
    "\n",
    "    inner()\n",
    "    print(\"Outer count:\", count)\n",
    "\n",
    "outer()\n",
    "print(\"Global count:\", count)"
   ]
  },
  {
   "cell_type": "markdown",
   "id": "24630a61",
   "metadata": {},
   "source": [
    "## Logging in Python"
   ]
  },
  {
   "cell_type": "markdown",
   "id": "926b9d11",
   "metadata": {},
   "source": [
    "### Why use logging instead of `print()`?\n",
    "- Structured messages with severity levels.\n",
    "- Configurable output formats and destinations.\n",
    "- Useful for debugging and operational purposes."
   ]
  },
  {
   "cell_type": "markdown",
   "id": "a94a924d",
   "metadata": {},
   "source": [
    "### Logging levels."
   ]
  },
  {
   "cell_type": "code",
   "execution_count": null,
   "id": "bdfbdcd4",
   "metadata": {},
   "outputs": [],
   "source": [
    "import logging\n",
    "\n",
    "logging.basicConfig(level=logging.DEBUG)\n",
    "\n",
    "logging.debug(\"Debug message\")\n",
    "logging.info(\"Info message\")\n",
    "logging.warning(\"Warning message\")\n",
    "logging.error(\"Error message\")\n",
    "logging.critical(\"Critical message\")"
   ]
  },
  {
   "cell_type": "markdown",
   "id": "8db5f1be",
   "metadata": {},
   "source": [
    "### Customizing log format.\n",
    "- We can use [LogRecord attributes](https://docs.python.org/3/library/logging.html#logrecord-attributes) in log format string"
   ]
  },
  {
   "cell_type": "code",
   "execution_count": null,
   "id": "52e990e6",
   "metadata": {},
   "outputs": [],
   "source": [
    "import logging\n",
    "\n",
    "logging.basicConfig(\n",
    "    format=\"%(asctime)s - %(name)s - %(levelname)s - %(message)s\",\n",
    "    level=logging.INFO\n",
    ")\n",
    "\n",
    "logging.info(\"This is a formatted info message.\")"
   ]
  },
  {
   "cell_type": "markdown",
   "id": "0f195490",
   "metadata": {},
   "source": [
    "### Writing logs to a file."
   ]
  },
  {
   "cell_type": "code",
   "execution_count": null,
   "id": "9d261321",
   "metadata": {},
   "outputs": [],
   "source": [
    "import logging\n",
    "\n",
    "logging.basicConfig(filename='app.log', level=logging.ERROR, format='%(asctime)s - %(levelname)s - %(message)s')\n",
    "\n",
    "logging.error(\"Error written to file.\")"
   ]
  },
  {
   "cell_type": "markdown",
   "id": "1c604777",
   "metadata": {},
   "source": [
    "### Logging exceptions."
   ]
  },
  {
   "cell_type": "code",
   "execution_count": 2,
   "id": "af373929",
   "metadata": {},
   "outputs": [],
   "source": [
    "import logging\n",
    "\n",
    "logging.basicConfig(filename='errors.log', level=logging.ERROR)\n",
    "\n",
    "try:\n",
    "    1 / 0\n",
    "except ZeroDivisionError:\n",
    "    logging.exception(\"Division by zero occurred\")"
   ]
  },
  {
   "cell_type": "markdown",
   "id": "b3257cd3",
   "metadata": {},
   "source": [
    "### What is \"root\" in logs, and can we change it?"
   ]
  },
  {
   "cell_type": "code",
   "execution_count": null,
   "id": "22c20d1e",
   "metadata": {},
   "outputs": [],
   "source": [
    "import logging\n",
    "\n",
    "logger = logging.getLogger(\"CustomLogger\")\n",
    "# logger = logging.getLogger(__name__)\n",
    "logging.basicConfig(format='%(levelname)s:%(name)s:%(message)s', level=logging.INFO)\n",
    "\n",
    "logger.info(\"This message uses a named logger\")"
   ]
  }
 ],
 "metadata": {
  "kernelspec": {
   "display_name": ".venv",
   "language": "python",
   "name": "python3"
  },
  "language_info": {
   "codemirror_mode": {
    "name": "ipython",
    "version": 3
   },
   "file_extension": ".py",
   "mimetype": "text/x-python",
   "name": "python",
   "nbconvert_exporter": "python",
   "pygments_lexer": "ipython3",
   "version": "3.12.3"
  }
 },
 "nbformat": 4,
 "nbformat_minor": 5
}
