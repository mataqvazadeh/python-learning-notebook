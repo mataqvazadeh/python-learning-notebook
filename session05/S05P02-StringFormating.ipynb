{
 "cells": [
  {
   "cell_type": "markdown",
   "metadata": {},
   "source": [
    "# String Formatting"
   ]
  },
  {
   "cell_type": "markdown",
   "metadata": {},
   "source": [
    "- Using %"
   ]
  },
  {
   "cell_type": "code",
   "execution_count": null,
   "metadata": {},
   "outputs": [
    {
     "name": "stdout",
     "output_type": "stream",
     "text": [
      "Hello Ali\n",
      "Hello Ali\n"
     ]
    }
   ],
   "source": [
    "name = 'Ali'\n",
    "print(f'Hello {name}')\n",
    "print('Hello %s' % name)"
   ]
  },
  {
   "cell_type": "code",
   "execution_count": 8,
   "metadata": {},
   "outputs": [
    {
     "name": "stdout",
     "output_type": "stream",
     "text": [
      "Hi Malihe, You are 50 years old.\n",
      "Hi Malihe, You are 50 years old.\n"
     ]
    }
   ],
   "source": [
    "name = 'Malihe'\n",
    "age = 50\n",
    "print(f'Hi {name}, You are {age} years old.')\n",
    "print('Hi %s, You are %d years old.' % (name, age))"
   ]
  },
  {
   "cell_type": "markdown",
   "metadata": {},
   "source": [
    "- Using **format**"
   ]
  },
  {
   "cell_type": "code",
   "execution_count": 9,
   "metadata": {},
   "outputs": [
    {
     "name": "stdout",
     "output_type": "stream",
     "text": [
      "Hello Ali\n",
      "Hello Ali\n"
     ]
    }
   ],
   "source": [
    "name = 'Ali'\n",
    "print(f'Hello {name}')\n",
    "print('Hello {}'.format(name))"
   ]
  },
  {
   "cell_type": "code",
   "execution_count": 13,
   "metadata": {},
   "outputs": [
    {
     "name": "stdout",
     "output_type": "stream",
     "text": [
      "Hi Malihe, You are 50 years old.\n",
      "Hi Malihe, You are 50 years old.\n",
      "Hi Malihe, How are you Malihe? You are 50 years old.\n",
      "Hi Malihe, How are you Malihe? You are 50 years old.\n"
     ]
    }
   ],
   "source": [
    "name = 'Malihe'\n",
    "age = 50\n",
    "print(f'Hi {name}, You are {age} years old.')\n",
    "print('Hi {0}, You are {1} years old.'.format(name, age))\n",
    "print('Hi {0}, How are you {0}? You are {1} years old.'.format(name, age))\n",
    "print('Hi {n}, How are you {n}? You are {a} years old.'.format(n=name, a=age))"
   ]
  },
  {
   "cell_type": "markdown",
   "metadata": {},
   "source": [
    "## Python's Format Mini-Language for Tidy Strings\n",
    "- You can read more about it [here](https://realpython.com/python-format-mini-language/)"
   ]
  },
  {
   "cell_type": "markdown",
   "metadata": {},
   "source": [
    "- Alignment and padding"
   ]
  },
  {
   "cell_type": "code",
   "execution_count": 14,
   "metadata": {},
   "outputs": [
    {
     "name": "stdout",
     "output_type": "stream",
     "text": [
      "==============================\n",
      "Hello World                   \n",
      "==============================\n",
      "                   Hello World\n",
      "==============================\n",
      "Hello World                   \n",
      "==============================\n",
      "         Hello World          \n",
      "==============================\n",
      "*********Hello World**********\n"
     ]
    }
   ],
   "source": [
    "my_text = 'Hello World'\n",
    "print('=' * 30)\n",
    "print(f'{my_text:30}')\n",
    "print('=' * 30)\n",
    "print(f'{my_text:>30}')\n",
    "print('=' * 30)\n",
    "print(f'{my_text:<30}')\n",
    "print('=' * 30)\n",
    "print(f'{my_text:^30}')\n",
    "print('=' * 30)\n",
    "print(f'{my_text:*^30}')"
   ]
  },
  {
   "cell_type": "markdown",
   "metadata": {},
   "source": [
    "- Converting type presentation"
   ]
  },
  {
   "cell_type": "code",
   "execution_count": 17,
   "metadata": {},
   "outputs": [
    {
     "name": "stdout",
     "output_type": "stream",
     "text": [
      "int: 42,  hex: 2A,  oct: 52,  bin: 101010\n"
     ]
    }
   ],
   "source": [
    "number = 42\n",
    "print(f'int: {number:d},  hex: {number:X},  oct: {number:o},  bin: {number:b}')"
   ]
  },
  {
   "cell_type": "code",
   "execution_count": 18,
   "metadata": {},
   "outputs": [
    {
     "name": "stdout",
     "output_type": "stream",
     "text": [
      "1.236598E+07\n"
     ]
    }
   ],
   "source": [
    "large_number = 12365975\n",
    "print(f'{large_number:E}')"
   ]
  },
  {
   "cell_type": "markdown",
   "metadata": {},
   "source": [
    "- Decimal point precision"
   ]
  },
  {
   "cell_type": "code",
   "execution_count": 26,
   "metadata": {},
   "outputs": [
    {
     "name": "stdout",
     "output_type": "stream",
     "text": [
      "3.141592653589793\n",
      "3.142\n",
      "3.14159\n",
      "###############\n",
      "    3.14159    \n"
     ]
    }
   ],
   "source": [
    "from math import pi\n",
    "print(pi)\n",
    "print(f'{pi:.3f}')\n",
    "print(f'{pi:.5f}')\n",
    "print('#' * 15)\n",
    "print(f'{pi:^15.5f}')"
   ]
  },
  {
   "cell_type": "markdown",
   "metadata": {},
   "source": [
    "- Thousands separators"
   ]
  },
  {
   "cell_type": "code",
   "execution_count": 31,
   "metadata": {},
   "outputs": [
    {
     "name": "stdout",
     "output_type": "stream",
     "text": [
      "1236594526\n",
      "1,236,594,526\n",
      "1_236_594_526\n",
      "1,236,594,526.00\n",
      "******************************\n",
      "       1,236,594,526.00       \n"
     ]
    }
   ],
   "source": [
    "number = 1236594526\n",
    "print(number)\n",
    "print(f'{number:,}')\n",
    "print(f'{number:_}')\n",
    "print(f'{number:,.2f}')\n",
    "print('*' * 30)\n",
    "print(f'{number:^30,.2f}')"
   ]
  },
  {
   "cell_type": "markdown",
   "metadata": {},
   "source": [
    "- Dates formats ([formats](https://docs.python.org/3/library/datetime.html#strftime-and-strptime-format-codes))"
   ]
  },
  {
   "cell_type": "code",
   "execution_count": 32,
   "metadata": {},
   "outputs": [
    {
     "name": "stdout",
     "output_type": "stream",
     "text": [
      "2025-03-07 00:33:14.316786\n",
      "2025-03-07\n"
     ]
    }
   ],
   "source": [
    "from datetime import datetime\n",
    "now = datetime.now()\n",
    "print(now)\n",
    "print(f'{now:%Y-%m-%d}')"
   ]
  }
 ],
 "metadata": {
  "kernelspec": {
   "display_name": ".venv",
   "language": "python",
   "name": "python3"
  },
  "language_info": {
   "codemirror_mode": {
    "name": "ipython",
    "version": 3
   },
   "file_extension": ".py",
   "mimetype": "text/x-python",
   "name": "python",
   "nbconvert_exporter": "python",
   "pygments_lexer": "ipython3",
   "version": "3.12.3"
  }
 },
 "nbformat": 4,
 "nbformat_minor": 2
}
