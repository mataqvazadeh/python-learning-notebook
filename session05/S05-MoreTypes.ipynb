{
 "cells": [
  {
   "cell_type": "markdown",
   "metadata": {},
   "source": [
    "# More Types"
   ]
  },
  {
   "cell_type": "markdown",
   "metadata": {},
   "source": [
    "## None\n",
    "- As a placeholder\n",
    "- For functions without return"
   ]
  },
  {
   "cell_type": "code",
   "execution_count": 2,
   "metadata": {},
   "outputs": [
    {
     "name": "stdout",
     "output_type": "stream",
     "text": [
      "None\n",
      "<class 'NoneType'>\n",
      "==========\n",
      "1\n",
      "<class 'int'>\n",
      "==========\n",
      "my_name\n",
      "<class 'str'>\n",
      "==========\n"
     ]
    }
   ],
   "source": [
    "placeholder = None\n",
    "print(placeholder)\n",
    "print(type(placeholder))\n",
    "print('=' * 10)\n",
    "\n",
    "placeholder = 1\n",
    "print(placeholder)\n",
    "print(type(placeholder))\n",
    "print('=' * 10)\n",
    "\n",
    "placeholder = 'my_name'\n",
    "print(placeholder)\n",
    "print(type(placeholder))\n",
    "print('=' * 10)"
   ]
  },
  {
   "cell_type": "markdown",
   "metadata": {},
   "source": [
    "## Lists (more about lists)\n",
    "- List Slices"
   ]
  },
  {
   "cell_type": "code",
   "execution_count": 4,
   "metadata": {},
   "outputs": [],
   "source": [
    "my_list = [1, 4, 5, 10, 'ali', 10.56, 'hello', -1]"
   ]
  },
  {
   "cell_type": "code",
   "execution_count": 5,
   "metadata": {},
   "outputs": [
    {
     "data": {
      "text/plain": [
       "[5, 10, 'ali']"
      ]
     },
     "execution_count": 5,
     "metadata": {},
     "output_type": "execute_result"
    }
   ],
   "source": [
    "my_list[2:5]"
   ]
  },
  {
   "cell_type": "code",
   "execution_count": 7,
   "metadata": {},
   "outputs": [],
   "source": [
    "my_sublist = my_list[3: -2]"
   ]
  },
  {
   "cell_type": "code",
   "execution_count": 12,
   "metadata": {},
   "outputs": [
    {
     "data": {
      "text/plain": [
       "[5, 10, 'ali', 10.56, 'hello', -1]"
      ]
     },
     "execution_count": 12,
     "metadata": {},
     "output_type": "execute_result"
    }
   ],
   "source": [
    "my_list[2:]"
   ]
  },
  {
   "cell_type": "code",
   "execution_count": 13,
   "metadata": {},
   "outputs": [
    {
     "data": {
      "text/plain": [
       "[1, 4, 5, 10]"
      ]
     },
     "execution_count": 13,
     "metadata": {},
     "output_type": "execute_result"
    }
   ],
   "source": [
    "my_list[:4]"
   ]
  },
  {
   "cell_type": "code",
   "execution_count": 19,
   "metadata": {},
   "outputs": [
    {
     "data": {
      "text/plain": [
       "[4, 10, 10.56]"
      ]
     },
     "execution_count": 19,
     "metadata": {},
     "output_type": "execute_result"
    }
   ],
   "source": [
    "my_list[1:-1:2]"
   ]
  },
  {
   "cell_type": "code",
   "execution_count": 20,
   "metadata": {},
   "outputs": [
    {
     "data": {
      "text/plain": [
       "[1, 10, 'hello']"
      ]
     },
     "execution_count": 20,
     "metadata": {},
     "output_type": "execute_result"
    }
   ],
   "source": [
    "my_list[::3]"
   ]
  },
  {
   "cell_type": "markdown",
   "metadata": {},
   "source": [
    "- Nested List"
   ]
  },
  {
   "cell_type": "code",
   "execution_count": 7,
   "metadata": {},
   "outputs": [],
   "source": [
    "matrix = [[1,2,3],\n",
    "          [4,5,6],\n",
    "          [7,8,9]]"
   ]
  },
  {
   "cell_type": "markdown",
   "metadata": {},
   "source": [
    "- List Comprehension"
   ]
  },
  {
   "cell_type": "code",
   "execution_count": null,
   "metadata": {},
   "outputs": [],
   "source": [
    "numbers = [x for x in range(1, 11)]\n",
    "odds = [x for x in range(1,11) if x % 2 == 1]\n",
    "cubes = [x ** 3 for x in numbers]\n",
    "transposed_matrix = [[row[i] for row in matrix] for i in range(3)]\n"
   ]
  },
  {
   "cell_type": "markdown",
   "metadata": {},
   "source": [
    "## Tuples"
   ]
  },
  {
   "cell_type": "markdown",
   "metadata": {},
   "source": [
    "- Tuples are immutable lists\n",
    "    - Index\n",
    "    - Slicing\n",
    "- immutable vs mutable\n",
    "    - string is immutable"
   ]
  },
  {
   "cell_type": "code",
   "execution_count": 28,
   "metadata": {},
   "outputs": [
    {
     "data": {
      "text/plain": [
       "tuple"
      ]
     },
     "execution_count": 28,
     "metadata": {},
     "output_type": "execute_result"
    }
   ],
   "source": [
    "my_tuple = ()\n",
    "type(my_tuple)"
   ]
  },
  {
   "cell_type": "markdown",
   "metadata": {},
   "source": [
    "- Tuple unpacking"
   ]
  },
  {
   "cell_type": "code",
   "execution_count": 2,
   "metadata": {},
   "outputs": [],
   "source": [
    "a, b = 1, 2\n",
    "(a, b) = (1, 2)\n",
    "a, b = (1, 2)\n",
    "(a, b) = 1, 2\n",
    "\n",
    "my_tuple = (1, 2, 3)\n",
    "a, b, c = my_tuple\n",
    "a, *others = my_tuple"
   ]
  },
  {
   "cell_type": "markdown",
   "metadata": {},
   "source": [
    "- Tuple with size one"
   ]
  },
  {
   "cell_type": "code",
   "execution_count": 30,
   "metadata": {},
   "outputs": [],
   "source": [
    "size_one_tuple = ('ali',)"
   ]
  },
  {
   "cell_type": "markdown",
   "metadata": {},
   "source": [
    "- Some functionalities\n",
    "    - **count**\n",
    "    - **index**\n",
    "    - **len**\n",
    "    - **for**\n",
    "    - **in**\n",
    "    - **sorted**\n",
    "    - concat with **+**\n",
    "    - repetition with **\\***\n",
    "- Why tuples?\n",
    "    - They are faster\n",
    "    - Can be used as dictionary *key*\n",
    "    - They are write protected\n",
    "- tuple comparison\n",
    "    - **==**\n",
    "    - **!=**\n",
    "- tuple Comprehension"
   ]
  },
  {
   "cell_type": "code",
   "execution_count": 6,
   "metadata": {},
   "outputs": [],
   "source": [
    "numbers = tuple(x for x in range(1, 11))\n",
    "odds = tuple(x for x in numbers if x % 2 == 1)"
   ]
  },
  {
   "cell_type": "markdown",
   "metadata": {},
   "source": [
    "## Dictionaries\n",
    "- Dictionary is a key-value pair list\n",
    "- Dictionary is mutable\n",
    "- Keys should be immutable (hashable)\n",
    "- Keys should be unique\n",
    "- Keys can be heterogeneous"
   ]
  },
  {
   "cell_type": "code",
   "execution_count": 10,
   "metadata": {},
   "outputs": [
    {
     "name": "stdout",
     "output_type": "stream",
     "text": [
      "<class 'dict'>\n"
     ]
    }
   ],
   "source": [
    "empty_dict = {}\n",
    "print(type(empty_dict))"
   ]
  },
  {
   "cell_type": "code",
   "execution_count": null,
   "metadata": {},
   "outputs": [],
   "source": [
    "my_dict = {\n",
    "    'first_name': 'MohammadAli',\n",
    "    'last_name': 'Taqvazadeh',\n",
    "    'age': 36,\n",
    "    ('first_name', 'last_name'): 'MohammadAli Taqvazadeh'\n",
    "}"
   ]
  },
  {
   "cell_type": "markdown",
   "metadata": {},
   "source": [
    "- Working with dictionaries\n",
    "    - Use keys as index (Get and Set)\n",
    "        - Get value of unavailable key raise Error\n",
    "    - **get** method\n",
    "        - **get** with default value\n",
    "    - **keys** method\n",
    "    - **values** method\n",
    "    - **items** method\n",
    "    - **pop** method\n",
    "    - **clear** method to clear all items\n",
    "    - **in** for checking key membership\n",
    "    - **del** for deleting a key-value pair\n",
    "    - **len** function to finding size of dictionary"
   ]
  },
  {
   "cell_type": "markdown",
   "metadata": {},
   "source": [
    "- Loop on dictionaries\n",
    "    - default loop on keys\n",
    "    - loop only on values\n",
    "    - loop on items"
   ]
  },
  {
   "cell_type": "markdown",
   "metadata": {},
   "source": [
    "- Nested Dictionaries\n",
    "    - It is useful for hierarchical data"
   ]
  },
  {
   "cell_type": "markdown",
   "metadata": {},
   "source": [
    "- Usage:\n",
    "    - Saving Configs\n",
    "    - Saving real world data.\n",
    "    - It is similar to json, useful in sending data to client or receiving from it"
   ]
  },
  {
   "cell_type": "markdown",
   "metadata": {},
   "source": [
    "- Dictionaries Comprehension"
   ]
  },
  {
   "cell_type": "code",
   "execution_count": 11,
   "metadata": {},
   "outputs": [
    {
     "data": {
      "text/plain": [
       "{0: (0, 0),\n",
       " 1: (1, 1),\n",
       " 2: (4, 8),\n",
       " 3: (9, 27),\n",
       " 4: (16, 64),\n",
       " 5: (25, 125),\n",
       " 6: (36, 216),\n",
       " 7: (49, 343),\n",
       " 8: (64, 512),\n",
       " 9: (81, 729),\n",
       " 10: (100, 1000)}"
      ]
     },
     "execution_count": 11,
     "metadata": {},
     "output_type": "execute_result"
    }
   ],
   "source": [
    "{x : (x**2, x**3) for x in range(0, 11)}"
   ]
  },
  {
   "cell_type": "markdown",
   "metadata": {},
   "source": [
    "- What is Hash Table (the behind of dictionaries) \\[**Advance Topic**\\]"
   ]
  },
  {
   "cell_type": "markdown",
   "metadata": {},
   "source": [
    "## Reference Copy vs Shallow Copy vs Deep Copy"
   ]
  },
  {
   "cell_type": "markdown",
   "metadata": {},
   "source": [
    "![Shallow Copy vs Deep Copy](images/shallow-vs-deep.png)"
   ]
  },
  {
   "cell_type": "markdown",
   "metadata": {},
   "source": [
    "- What is the difference between each one?\n",
    "- Using **copy** module\n",
    "- Give some samples"
   ]
  },
  {
   "cell_type": "markdown",
   "metadata": {},
   "source": [
    "## Sets\n",
    "- It a set of unique items\n",
    "- Items should be immutable\n",
    "- We have mathematical set operators here:\n",
    "    - Union by **|**\n",
    "    - Intersect by **&**\n",
    "    - Difference by **-**\n",
    "    - Symmetric Difference (Delta) by **^**\n",
    "    - Membership by **in**"
   ]
  },
  {
   "cell_type": "code",
   "execution_count": 15,
   "metadata": {},
   "outputs": [],
   "source": [
    "empty_set = set()\n",
    "empty_set.add('ali')\n",
    "another_set = {1, 1, 2}"
   ]
  },
  {
   "cell_type": "markdown",
   "metadata": {},
   "source": [
    "- Set Comprehension"
   ]
  },
  {
   "cell_type": "code",
   "execution_count": 16,
   "metadata": {},
   "outputs": [
    {
     "data": {
      "text/plain": [
       "{0, 1, 4, 9, 16, 25, 36, 49, 64, 81}"
      ]
     },
     "execution_count": 16,
     "metadata": {},
     "output_type": "execute_result"
    }
   ],
   "source": [
    "{ x ** 2 for x in range(0,10)}"
   ]
  }
 ],
 "metadata": {
  "kernelspec": {
   "display_name": ".venv",
   "language": "python",
   "name": "python3"
  },
  "language_info": {
   "codemirror_mode": {
    "name": "ipython",
    "version": 3
   },
   "file_extension": ".py",
   "mimetype": "text/x-python",
   "name": "python",
   "nbconvert_exporter": "python",
   "pygments_lexer": "ipython3",
   "version": "3.12.3"
  }
 },
 "nbformat": 4,
 "nbformat_minor": 2
}
