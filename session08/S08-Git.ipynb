{
 "cells": [
  {
   "cell_type": "markdown",
   "metadata": {},
   "source": [
    "# Git & Github"
   ]
  },
  {
   "cell_type": "markdown",
   "metadata": {},
   "source": [
    "## Version‌ Control System\n",
    "- What is Version Control System (Source Code Management)?\n",
    "    - History of changes\n",
    "    - Backup\n",
    "    - TeamWork\n",
    "    - Google Sheet, Microsoft Word, ... has their version control system \n",
    "- What type of VCS (SCM) does exist?\n",
    "    - Central (Client-Server)\n",
    "        - SVN (Apache Subversion)\n",
    "        - TFVC (Microsoft Team Foundation Version Control)\n",
    "    - Distributed\n",
    "        - Mercurial\n",
    "        - Git"
   ]
  },
  {
   "cell_type": "markdown",
   "metadata": {},
   "source": [
    "## Getting start with Git\n",
    "- Install Git ([Download](https://git-scm.com/downloads))\n",
    "- Check if installed\n",
    "    - _git --version_\n",
    "- Set Username and Email\n",
    "    - _git config --global user.name_\n",
    "    - _git config --global user.email_\n",
    "- Create first local repository\n",
    "    - _git init_\n",
    "- Check for changes\n",
    "    - _git status_\n",
    "- Create your first commit\n",
    "    - _git add_\n",
    "        - specific file\n",
    "        - all files\n",
    "    - _git commit_\n",
    "        - message in editor\n",
    "        - inline message with _-m_\n",
    "        - **Advance** Write good commit message. Read [this article](https://cbea.ms/git-commit/)\n",
    "- See your history\n",
    "    - _git log_\n",
    "- You can do all of this with other tools\n",
    "    - [GUI Clients](https://git-scm.com/downloads/guis)\n",
    "    - Extension inside IDEs\n",
    "- For more information read [Pro Git book](https://git-scm.com/book/en/v2)\n",
    "- **Advance** _.gitignore_ file"
   ]
  },
  {
   "cell_type": "markdown",
   "metadata": {},
   "source": [
    "## Github\n",
    "- What is Github?\n",
    "    - Online Repo\n",
    "    - CI/CD\n",
    "    - Issue Tracking\n",
    "- Similars?\n",
    "    - Gitlab\n",
    "    - Microsoft Azure\n",
    "    - Atlasian\n",
    "- Let's create account\n",
    "- Let's create first repository\n",
    "- Add remote repository (ssh)\n",
    "    - _git remote add origin_\n",
    "    - _git push -u origin main_\n",
    "- Do another change, another commit and push\n",
    "- Work on a remote git repository\n",
    "    - _git clone_\n",
    "    - _git fetch_\n",
    "    - _git pull_"
   ]
  },
  {
   "cell_type": "markdown",
   "metadata": {},
   "source": [
    "## Class Work\n",
    "- In break rooms:\n",
    "    - Everybody install git\n",
    "    - Everybody make Github account\n",
    "    - One of members create a public repository\n",
    "    - Others Clone it, make a file with their name and push to server"
   ]
  }
 ],
 "metadata": {
  "language_info": {
   "name": "python"
  }
 },
 "nbformat": 4,
 "nbformat_minor": 2
}
