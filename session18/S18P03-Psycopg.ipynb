{
 "cells": [
  {
   "cell_type": "markdown",
   "id": "a4c243af",
   "metadata": {},
   "source": [
    "# Python psycopg2"
   ]
  },
  {
   "cell_type": "code",
   "execution_count": null,
   "id": "9a15d338",
   "metadata": {},
   "outputs": [],
   "source": [
    "import psycopg2\n",
    "conn = psycopg2.connect(\n",
    "  dbname='dvdrental', user='postgres', password='yourpass', host='localhost')\n",
    "cur = conn.cursor()\n",
    "cur.execute('SELECT * FROM customer LIMIT 5;')\n",
    "for row in cur.fetchall():\n",
    "    print(row)\n",
    "cur.close()\n",
    "conn.close()"
   ]
  }
 ],
 "metadata": {
  "kernelspec": {
   "display_name": ".venv",
   "language": "python",
   "name": "python3"
  },
  "language_info": {
   "codemirror_mode": {
    "name": "ipython",
    "version": 3
   },
   "file_extension": ".py",
   "mimetype": "text/x-python",
   "name": "python",
   "nbconvert_exporter": "python",
   "pygments_lexer": "ipython3",
   "version": "3.12.3"
  }
 },
 "nbformat": 4,
 "nbformat_minor": 5
}
