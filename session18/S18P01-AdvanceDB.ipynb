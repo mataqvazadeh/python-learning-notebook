{
 "cells": [
  {
   "cell_type": "markdown",
   "id": "3328e72d",
   "metadata": {},
   "source": [
    "# Advance DB"
   ]
  },
  {
   "cell_type": "markdown",
   "id": "8c78c1dd",
   "metadata": {},
   "source": [
    "## Logical Delete (Soft Delete)\n",
    "Instead of physically removing data, mark it as deleted using a flag column like `is_deleted`."
   ]
  },
  {
   "cell_type": "code",
   "execution_count": null,
   "id": "b074995b",
   "metadata": {
    "vscode": {
     "languageId": "sql"
    }
   },
   "outputs": [],
   "source": [
    "ALTER TABLE customer ADD COLUMN is_deleted BOOLEAN DEFAULT FALSE;"
   ]
  },
  {
   "cell_type": "code",
   "execution_count": null,
   "id": "c5fc5fb5",
   "metadata": {
    "vscode": {
     "languageId": "sql"
    }
   },
   "outputs": [],
   "source": [
    "UPDATE customer SET is_deleted = TRUE WHERE customer_id = 12;"
   ]
  },
  {
   "cell_type": "markdown",
   "id": "6a2cb73c",
   "metadata": {},
   "source": [
    "## Self-Relations: Hierarchies and Recursion\n",
    "A self-relation is when a row relates to another row in the **same table**, like employees and their managers."
   ]
  },
  {
   "cell_type": "code",
   "execution_count": null,
   "id": "ee61d11b",
   "metadata": {
    "vscode": {
     "languageId": "sql"
    }
   },
   "outputs": [],
   "source": [
    "CREATE TABLE employee (\n",
    "  id SERIAL PRIMARY KEY,\n",
    "  name TEXT,\n",
    "  manager_id INT REFERENCES employee(id)\n",
    ");"
   ]
  },
  {
   "cell_type": "markdown",
   "id": "2af1d3b3",
   "metadata": {},
   "source": [
    "### 🔸 Recursive Query (WITH RECURSIVE)\n",
    "Query a chain of management hierarchy using Common Table Expressions."
   ]
  },
  {
   "cell_type": "code",
   "execution_count": null,
   "id": "93a6ca9c",
   "metadata": {
    "vscode": {
     "languageId": "sql"
    }
   },
   "outputs": [],
   "source": [
    "WITH RECURSIVE management_chain AS (\n",
    "  SELECT id, name, manager_id FROM employee WHERE manager_id IS NULL\n",
    "  UNION ALL\n",
    "  SELECT e.id, e.name, e.manager_id\n",
    "  FROM employee e\n",
    "  JOIN management_chain mc ON e.manager_id = mc.id\n",
    ")\n",
    "SELECT * FROM management_chain;"
   ]
  },
  {
   "cell_type": "markdown",
   "id": "2f71830f",
   "metadata": {},
   "source": [
    "## Indexes"
   ]
  },
  {
   "cell_type": "markdown",
   "id": "7dac9834",
   "metadata": {},
   "source": [
    "### 🔸 Why Use Indexes?\n",
    "- Speed up search & joins\n",
    "- Reduce full table scans"
   ]
  },
  {
   "cell_type": "code",
   "execution_count": null,
   "id": "27b51605",
   "metadata": {
    "vscode": {
     "languageId": "sql"
    }
   },
   "outputs": [],
   "source": [
    "CREATE INDEX idx_customer_email ON customer(email);"
   ]
  },
  {
   "cell_type": "code",
   "execution_count": null,
   "id": "3b5a5de7",
   "metadata": {
    "vscode": {
     "languageId": "sql"
    }
   },
   "outputs": [],
   "source": [
    "EXPLAIN ANALYZE SELECT * FROM customer WHERE email = 'x@x.com';"
   ]
  },
  {
   "cell_type": "markdown",
   "id": "0770e81c",
   "metadata": {},
   "source": [
    "## Function: Reusable SQL logic that returns a result"
   ]
  },
  {
   "cell_type": "markdown",
   "id": "c2bdf121",
   "metadata": {},
   "source": [
    "Create a function that counts the films whose length between the 'len_from' and 'len_to' parameters"
   ]
  },
  {
   "cell_type": "code",
   "execution_count": null,
   "id": "5af96c5d",
   "metadata": {
    "vscode": {
     "languageId": "sql"
    }
   },
   "outputs": [],
   "source": [
    "CREATE FUNCTION get_film_count(len_from INT, len_to INT)\n",
    "RETURNS INT\n",
    "LANGUAGE plpgsql\n",
    "AS\n",
    "$$\n",
    "DECLARE\n",
    "   film_count INTEGER;\n",
    "BEGIN\n",
    "   SELECT COUNT(*) \n",
    "   INTO film_count\n",
    "   FROM film\n",
    "   WHERE length BETWEEN len_from AND len_to;\n",
    "   \n",
    "   RETURN film_count;\n",
    "END;\n",
    "$$;\n",
    "\n",
    "SELECT get_film_count(40, 90);"
   ]
  },
  {
   "cell_type": "markdown",
   "id": "4359c0af",
   "metadata": {},
   "source": [
    "## Procedure: Executes a sequence of steps, often without returning a value"
   ]
  },
  {
   "cell_type": "code",
   "execution_count": null,
   "id": "7f7d0136",
   "metadata": {
    "vscode": {
     "languageId": "sql"
    }
   },
   "outputs": [],
   "source": [
    "CREATE PROCEDURE cleanup_logs()\n",
    "LANGUAGE SQL\n",
    "AS $$\n",
    "  DELETE FROM logs WHERE created_at < NOW() - INTERVAL '30 days';\n",
    "$$;\n",
    "\n",
    "CALL cleanup_logs();"
   ]
  },
  {
   "cell_type": "markdown",
   "id": "031dbb9e",
   "metadata": {},
   "source": [
    "## Trigger: Run logic automatically when data changes"
   ]
  },
  {
   "cell_type": "code",
   "execution_count": null,
   "id": "a1510231",
   "metadata": {
    "vscode": {
     "languageId": "sql"
    }
   },
   "outputs": [],
   "source": [
    "CREATE OR REPLACE FUNCTION update_timestamp()\n",
    "RETURNS TRIGGER AS $$\n",
    "BEGIN\n",
    "  NEW.updated_at = NOW();\n",
    "  RETURN NEW;\n",
    "END;\n",
    "$$ LANGUAGE plpgsql;\n",
    "\n",
    "CREATE TRIGGER set_updated_at\n",
    "BEFORE UPDATE ON customer\n",
    "FOR EACH ROW\n",
    "EXECUTE FUNCTION update_timestamp();"
   ]
  },
  {
   "cell_type": "markdown",
   "id": "4ce59c43",
   "metadata": {},
   "source": [
    "### Comparison Table\n",
    "| Feature     | Trigger                         | Function                      | Procedure                     |\n",
    "|-------------|----------------------------------|-------------------------------|-------------------------------|\n",
    "| **When**    | Auto-run on INSERT/UPDATE/DELETE| Called in SQL (`SELECT`)     | Called with `CALL`            |\n",
    "| **Returns** | VOID or `NEW`/`OLD` row         | Scalar or Table               | Usually VOID                  |\n",
    "| **Use case**| Auto-maintenance                | Calculations, reuse logic     | Batch updates, cleanup jobs   |"
   ]
  },
  {
   "cell_type": "markdown",
   "id": "29c8704f",
   "metadata": {},
   "source": [
    "## Transactions\n",
    "Transactions should be ACID, ACID stands for:\n",
    "- **Atomicity**: A transaction is treated as a single, indivisible unit. Either all operations within the transaction succeed, or none of them do.\n",
    "- **Consistency**: A transaction only makes changes to the database that maintain its integrity and adherence to defined rules.\n",
    "- **Isolation**: Transactions operate independently of each other, preventing interference and ensuring that each transaction sees a consistent view of the database.\n",
    "- **Durability**: Once a transaction is completed successfully, its changes are permanently stored and remain persistent, even in the event of system failures."
   ]
  },
  {
   "cell_type": "code",
   "execution_count": null,
   "id": "1f9fca72",
   "metadata": {
    "vscode": {
     "languageId": "sql"
    }
   },
   "outputs": [],
   "source": [
    "BEGIN;\n",
    "UPDATE accounts SET balance = balance - 100.00\n",
    "    WHERE name = 'Alice';\n",
    "UPDATE accounts SET balance = balance + 100.00\n",
    "    WHERE name = 'Bob';\n",
    "COMMIT;"
   ]
  }
 ],
 "metadata": {
  "kernelspec": {
   "display_name": ".venv",
   "language": "python",
   "name": "python3"
  },
  "language_info": {
   "codemirror_mode": {
    "name": "ipython",
    "version": 3
   },
   "file_extension": ".py",
   "mimetype": "text/x-python",
   "name": "python",
   "nbconvert_exporter": "python",
   "pygments_lexer": "ipython3",
   "version": "3.12.3"
  }
 },
 "nbformat": 4,
 "nbformat_minor": 5
}
