{
 "cells": [
  {
   "cell_type": "markdown",
   "id": "9023cb1f",
   "metadata": {},
   "source": [
    "# ERD Design and Database Modeling"
   ]
  },
  {
   "cell_type": "markdown",
   "id": "279db617",
   "metadata": {},
   "source": [
    "## 🔹 What is an ERD?\n",
    "An Entity-Relationship Diagram (ERD) is a visual blueprint for designing relational databases. It helps to:\n",
    "- Identify real-world objects (entities)\n",
    "- Define relationships between entities\n",
    "- Model data structure before implementation"
   ]
  },
  {
   "cell_type": "markdown",
   "id": "e7e1d581",
   "metadata": {},
   "source": [
    "## 🔹 Key Components of an ERD\n",
    "### 🔸 Entities\n",
    "Entities represent real-world objects or concepts. Example: `Customer`, `Order`, `Product`.\n",
    "\n",
    "### 🔸 Attributes\n",
    "Attributes are details or properties of an entity. Example: `Customer` has `name`, `email`, `phone`.\n",
    "\n",
    "### 🔸 Relationships\n",
    "Define how entities are connected. Example: A `Customer` places an `Order`.\n",
    "\n",
    "### 🔸 ERD Notations\n",
    "- **Chen** (uses ovals and diamonds)\n",
    "- **Crow’s Foot** (uses forks and lines)\n",
    "- **UML** (Unified Modeling Language - uses classes and associations)"
   ]
  },
  {
   "cell_type": "markdown",
   "id": "ddf3be17",
   "metadata": {},
   "source": [
    "### 🔸 Example: Representing a `Customer` Entity with Attributes"
   ]
  },
  {
   "cell_type": "code",
   "execution_count": null,
   "id": "16468d9b",
   "metadata": {
    "vscode": {
     "languageId": "sql"
    }
   },
   "outputs": [],
   "source": [
    "CREATE TABLE customer (\n",
    "  id SERIAL PRIMARY KEY,\n",
    "  name TEXT,\n",
    "  email TEXT,\n",
    "  phone TEXT\n",
    ");"
   ]
  },
  {
   "cell_type": "markdown",
   "id": "6b2f0dbe",
   "metadata": {},
   "source": [
    "## 🔹 Defining Relationships"
   ]
  },
  {
   "cell_type": "markdown",
   "id": "07acf863",
   "metadata": {},
   "source": [
    "### 🔸 One-to-Many Relationship Example\n",
    "Each `Customer` can place multiple `Orders`. Each order is linked to exactly one customer."
   ]
  },
  {
   "cell_type": "code",
   "execution_count": null,
   "id": "56c2c1a0",
   "metadata": {
    "vscode": {
     "languageId": "sql"
    }
   },
   "outputs": [],
   "source": [
    "CREATE TABLE orders (\n",
    "  id SERIAL PRIMARY KEY,\n",
    "  customer_id INT REFERENCES customer(id),\n",
    "  total NUMERIC\n",
    ");"
   ]
  },
  {
   "cell_type": "markdown",
   "id": "0dbe631a",
   "metadata": {},
   "source": [
    "### 🔸 Many-to-Many Relationship Example: `Student` ↔ `Course`\n",
    "Use a join table `enrollment` to model this."
   ]
  },
  {
   "cell_type": "code",
   "execution_count": null,
   "id": "c4801c75",
   "metadata": {
    "vscode": {
     "languageId": "sql"
    }
   },
   "outputs": [],
   "source": [
    "CREATE TABLE student (\n",
    "  id SERIAL PRIMARY KEY,\n",
    "  name TEXT\n",
    ");\n",
    "\n",
    "CREATE TABLE course (\n",
    "  id SERIAL PRIMARY KEY,\n",
    "  title TEXT\n",
    ");\n",
    "\n",
    "CREATE TABLE enrollment (\n",
    "  student_id INT REFERENCES student(id),\n",
    "  course_id INT REFERENCES course(id),\n",
    "  PRIMARY KEY (student_id, course_id)\n",
    ");"
   ]
  },
  {
   "cell_type": "markdown",
   "id": "beffe046",
   "metadata": {},
   "source": [
    "## 🔹 Cardinality and Participation"
   ]
  },
  {
   "cell_type": "markdown",
   "id": "50b17a9a",
   "metadata": {},
   "source": [
    "Cardinality defines how many instances of one entity relate to another. Participation defines if those relationships are optional or required."
   ]
  },
  {
   "cell_type": "markdown",
   "id": "1bff8ff5",
   "metadata": {},
   "source": [
    "| Symbol  | Meaning                          |\n",
    "|---------|----------------------------------|\n",
    "| `1`     | Exactly one                      |\n",
    "| `N`     | Many                             |\n",
    "| `0..1`  | Zero or one (optional)           |\n",
    "| `1..*`  | One or more (mandatory)          |\n",
    "| `0..*`  | Zero or more (optional many)     |"
   ]
  },
  {
   "cell_type": "markdown",
   "id": "29ab095d",
   "metadata": {},
   "source": [
    "### 🔸 1 — One\n",
    "A **passport** is issued to exactly **one person**, and each person can only have **one valid passport** at a time."
   ]
  },
  {
   "cell_type": "markdown",
   "id": "7a63fa33",
   "metadata": {},
   "source": [
    "### 🔸 N — Many\n",
    "A **teacher** can teach **many students**, but each student has one primary teacher."
   ]
  },
  {
   "cell_type": "markdown",
   "id": "68254392",
   "metadata": {},
   "source": [
    "### 🔸 0..1 — Zero or One (Optional)\n",
    "An **employee** may have **one parking spot**, or none at all."
   ]
  },
  {
   "cell_type": "markdown",
   "id": "054475fc",
   "metadata": {},
   "source": [
    "### 🔸 1..* — One or More (Mandatory Many)\n",
    "Every **invoice** must have **at least one line item** — otherwise, it’s not valid."
   ]
  },
  {
   "cell_type": "markdown",
   "id": "4bb3fabf",
   "metadata": {},
   "source": [
    "### 🔸 0..* — Zero or More (Optional Many)\n",
    "A **customer** may place **many orders**, or **none at all** (they registered but haven’t bought anything)."
   ]
  },
  {
   "cell_type": "code",
   "execution_count": null,
   "id": "6a44b52e",
   "metadata": {
    "vscode": {
     "languageId": "sql"
    }
   },
   "outputs": [],
   "source": [
    "CREATE TABLE department (\n",
    "  id SERIAL PRIMARY KEY,\n",
    "  name TEXT\n",
    ");\n",
    "\n",
    "CREATE TABLE employee (\n",
    "  id SERIAL PRIMARY KEY,\n",
    "  department_id INT NOT NULL REFERENCES department(id)\n",
    ");\n",
    "\n",
    "CREATE TABLE parking_spot (\n",
    "  id SERIAL PRIMARY KEY,\n",
    "  employee_id INT UNIQUE REFERENCES employee(id)\n",
    ");"
   ]
  },
  {
   "cell_type": "markdown",
   "id": "2a3eb3d6",
   "metadata": {},
   "source": [
    "`Crow’s Foot Notation shows this with forks and lines on relationships.`"
   ]
  },
  {
   "cell_type": "markdown",
   "id": "c9a61388",
   "metadata": {},
   "source": [
    "## 🔹 Designing an ERD"
   ]
  },
  {
   "cell_type": "markdown",
   "id": "959fa48e",
   "metadata": {},
   "source": [
    "### 🔸 Step-by-step:\n",
    "1. Identify entities (e.g., Customer, Order)\n",
    "2. Define attributes (e.g., Customer.name, Order.total)\n",
    "3. Determine relationships (Customer places Order)\n",
    "4. Assign keys (Customer.id is PK, Order.customer_id is FK)"
   ]
  },
  {
   "cell_type": "markdown",
   "id": "72376fa2",
   "metadata": {},
   "source": [
    "## Normalization"
   ]
  },
  {
   "cell_type": "markdown",
   "id": "3b0ef198",
   "metadata": {},
   "source": [
    "### 🔸 Step-by-step Normalization Example\n",
    "**Unnormalized Table:**"
   ]
  },
  {
   "cell_type": "code",
   "execution_count": null,
   "id": "edc3eca9",
   "metadata": {
    "vscode": {
     "languageId": "sql"
    }
   },
   "outputs": [],
   "source": [
    "CREATE TABLE orders (\n",
    "  order_id INT,\n",
    "  customer_name TEXT,\n",
    "  items TEXT -- 'pen, paper, notebook'\n",
    ");"
   ]
  },
  {
   "cell_type": "markdown",
   "id": "d8781a82",
   "metadata": {},
   "source": [
    "**1NF:** Remove repeated items"
   ]
  },
  {
   "cell_type": "code",
   "execution_count": null,
   "id": "b43e4c64",
   "metadata": {
    "vscode": {
     "languageId": "sql"
    }
   },
   "outputs": [],
   "source": [
    "CREATE TABLE order_item (\n",
    "  order_id INT,\n",
    "  item TEXT\n",
    ");"
   ]
  },
  {
   "cell_type": "markdown",
   "id": "9cab9bd5",
   "metadata": {},
   "source": [
    "**2NF:** Remove partial dependencies"
   ]
  },
  {
   "cell_type": "code",
   "execution_count": null,
   "id": "8c51acbe",
   "metadata": {
    "vscode": {
     "languageId": "sql"
    }
   },
   "outputs": [],
   "source": [
    "CREATE TABLE customer (\n",
    "  id SERIAL PRIMARY KEY,\n",
    "  name TEXT\n",
    ");\n",
    "ALTER TABLE orders ADD COLUMN customer_id INT REFERENCES customer(id);"
   ]
  },
  {
   "cell_type": "markdown",
   "id": "01699a2d",
   "metadata": {},
   "source": [
    "**3NF:** Remove transitive dependencies"
   ]
  },
  {
   "cell_type": "code",
   "execution_count": null,
   "id": "0ad91f9e",
   "metadata": {
    "vscode": {
     "languageId": "sql"
    }
   },
   "outputs": [],
   "source": [
    "CREATE TABLE item (\n",
    "  id SERIAL PRIMARY KEY,\n",
    "  name TEXT,\n",
    "  price NUMERIC\n",
    ");\n",
    "CREATE TABLE order_item (\n",
    "  order_id INT,\n",
    "  item_id INT REFERENCES item(id)\n",
    ");"
   ]
  },
  {
   "cell_type": "markdown",
   "id": "5a3bb574",
   "metadata": {},
   "source": [
    "## 🔹 Common Challenges in ERD Design"
   ]
  },
  {
   "cell_type": "markdown",
   "id": "b74b4d6d",
   "metadata": {},
   "source": [
    "### 🔸 Ambiguous Relationships\n",
    "- Sometimes it's unclear which entity owns the relationship.\n",
    "- Example: `Employee` manages `Project` — but is it one manager per project, or multiple?"
   ]
  },
  {
   "cell_type": "markdown",
   "id": "3ff9194c",
   "metadata": {},
   "source": [
    "### 🔸 Common Pitfalls\n",
    "- Missing foreign keys\n",
    "- Unconnected entities\n",
    "- Failing to normalize data\n",
    "- Ignoring optional vs mandatory participation"
   ]
  }
 ],
 "metadata": {
  "language_info": {
   "name": "python"
  }
 },
 "nbformat": 4,
 "nbformat_minor": 5
}
