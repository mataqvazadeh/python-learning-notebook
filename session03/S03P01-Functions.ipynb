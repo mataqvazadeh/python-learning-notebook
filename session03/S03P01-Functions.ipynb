{
 "cells": [
  {
   "cell_type": "markdown",
   "metadata": {},
   "source": [
    "# Functions"
   ]
  },
  {
   "cell_type": "markdown",
   "metadata": {},
   "source": [
    "## Function Introduction\n",
    "- Why we need functions? (define a new function in [sample](samples/print_list.py))\n",
    "- How define a simple function?\n",
    "\n",
    "<img src=\"images/simple_function_defination.png\" alt=\"fCreate a function\" style=\"background-color: #ffffff;\">\n",
    "\n",
    "- **pass** keyword\n",
    "- Call function"
   ]
  },
  {
   "cell_type": "markdown",
   "metadata": {},
   "source": [
    "## Function Arguments\n",
    "- Positional Arguments (add positional argument to [sample](samples/print_list.py))\n",
    "- Keyword Arguments\n",
    "    - print_full_name\n",
    "- Default Arguments\n",
    "    - add default for our print_list function\n",
    "- Variable-Length Arguments\n",
    "    - *args\n",
    "        - my_sum\n",
    "    - **kwargs\n",
    "        - print kwargs"
   ]
  },
  {
   "cell_type": "markdown",
   "metadata": {},
   "source": [
    "## Returning from Functions\n",
    "- We can return results\n",
    "\n",
    "<img src=\"images/function_definition.png\" alt=\"function definition with parameter and return\" style=\"width: 500px\">\n",
    "\n",
    "- Single and Multiple return values\n",
    "    - my_max function\n",
    "    - my_divider (return quotient and remainder)\n",
    "    - is_odd"
   ]
  }
 ],
 "metadata": {
  "language_info": {
   "name": "python"
  }
 },
 "nbformat": 4,
 "nbformat_minor": 2
}
