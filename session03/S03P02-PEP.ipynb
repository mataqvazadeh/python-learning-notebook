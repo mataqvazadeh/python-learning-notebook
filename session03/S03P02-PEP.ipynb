{
 "cells": [
  {
   "cell_type": "markdown",
   "metadata": {},
   "source": [
    "# Python Enhancement Proposal (PEP)\n",
    "- These are proposals to improve python. [HERE](https://peps.python.org/)\n",
    "- In [PEP 1](https://peps.python.org/pep-0001/), you can read more about this system."
   ]
  },
  {
   "cell_type": "markdown",
   "metadata": {},
   "source": [
    "## PEP 8 (Style Guide for Python Code)\n",
    "- [Link](https://peps.python.org/pep-0008/)\n",
    "- It contains conventions for writing codes and naming variable\n",
    "- Use 4 spaces per indentation level.\n",
    "- Spaces are the preferred indentation method.\n",
    "- Limit all lines to a maximum of 79 characters.\n",
    "- Surround top-level function and class definitions with two blank lines.\n",
    "- In Python, single-quoted strings and double-quoted strings are the same. This PEP does not make a recommendation for this. Pick a rule and stick to it. When a string contains single or double quote characters, however, use the other one to avoid backslashes in the string. It improves readability.\n",
    "\n",
    "\n",
    "\n"
   ]
  },
  {
   "cell_type": "markdown",
   "metadata": {},
   "source": [
    "## PEP 257 (Docstring Conventions)\n",
    "- [Link](https://peps.python.org/pep-0257/)\n",
    "- What is comment?\n",
    "- What is docstring\n",
    "- For consistency, always use \"\"\"triple double quotes\"\"\" around docstrings.\n",
    "- **\\_\\_doc\\_\\_**"
   ]
  },
  {
   "cell_type": "code",
   "execution_count": 7,
   "metadata": {},
   "outputs": [
    {
     "name": "stdout",
     "output_type": "stream",
     "text": [
      "Prints the values to a stream, or to sys.stdout by default.\n",
      "\n",
      "  sep\n",
      "    string inserted between values, default a space.\n",
      "  end\n",
      "    string appended after the last value, default a newline.\n",
      "  file\n",
      "    a file-like object (stream); defaults to the current sys.stdout.\n",
      "  flush\n",
      "    whether to forcibly flush the stream.\n"
     ]
    }
   ],
   "source": [
    "print(print.__doc__)"
   ]
  },
  {
   "cell_type": "code",
   "execution_count": 8,
   "metadata": {},
   "outputs": [
    {
     "name": "stdout",
     "output_type": "stream",
     "text": [
      "Help on built-in function print in module builtins:\n",
      "\n",
      "print(*args, sep=' ', end='\\n', file=None, flush=False)\n",
      "    Prints the values to a stream, or to sys.stdout by default.\n",
      "\n",
      "    sep\n",
      "      string inserted between values, default a space.\n",
      "    end\n",
      "      string appended after the last value, default a newline.\n",
      "    file\n",
      "      a file-like object (stream); defaults to the current sys.stdout.\n",
      "    flush\n",
      "      whether to forcibly flush the stream.\n",
      "\n"
     ]
    }
   ],
   "source": [
    "help(print)"
   ]
  },
  {
   "cell_type": "code",
   "execution_count": 9,
   "metadata": {},
   "outputs": [
    {
     "name": "stdout",
     "output_type": "stream",
     "text": [
      "\n",
      "    Adds two integers and returns the result.\n",
      "\n",
      "    :param a: The first integer.\n",
      "    :type a: int\n",
      "    :param b: The second integer.\n",
      "    :type b: int\n",
      "    :return: The sum of the two integers.\n",
      "    :rtype: int\n",
      "\n",
      "    :Example:\n",
      "    >>> add_numbers(3, 4)\n",
      "    7\n",
      "    \n",
      "====================\n",
      "Help on function add_numbers in module __main__:\n",
      "\n",
      "add_numbers(a: int, b: int) -> int\n",
      "    Adds two integers and returns the result.\n",
      "\n",
      "    :param a: The first integer.\n",
      "    :type a: int\n",
      "    :param b: The second integer.\n",
      "    :type b: int\n",
      "    :return: The sum of the two integers.\n",
      "    :rtype: int\n",
      "\n",
      "    :Example:\n",
      "    >>> add_numbers(3, 4)\n",
      "    7\n",
      "\n"
     ]
    }
   ],
   "source": [
    "def add_numbers(a: int, b: int) -> int:\n",
    "    \"\"\"\n",
    "    Adds two integers and returns the result.\n",
    "\n",
    "    :param a: The first integer.\n",
    "    :type a: int\n",
    "    :param b: The second integer.\n",
    "    :type b: int\n",
    "    :return: The sum of the two integers.\n",
    "    :rtype: int\n",
    "\n",
    "    :Example:\n",
    "    >>> add_numbers(3, 4)\n",
    "    7\n",
    "    \"\"\"\n",
    "    return a + b\n",
    "\n",
    "print(add_numbers.__doc__)\n",
    "print('=' * 20)\n",
    "help(add_numbers)"
   ]
  },
  {
   "cell_type": "markdown",
   "metadata": {},
   "source": [
    "## PEP 484 (Type Hints)\n",
    "- [Link](https://peps.python.org/pep-0484/)\n",
    "- It improve code readability and maintainability\n",
    "- We should use other tool like **[mypy](https://pypi.org/project/mypy/)** too check types"
   ]
  }
 ],
 "metadata": {
  "kernelspec": {
   "display_name": ".venv",
   "language": "python",
   "name": "python3"
  },
  "language_info": {
   "codemirror_mode": {
    "name": "ipython",
    "version": 3
   },
   "file_extension": ".py",
   "mimetype": "text/x-python",
   "name": "python",
   "nbconvert_exporter": "python",
   "pygments_lexer": "ipython3",
   "version": "3.12.3"
  }
 },
 "nbformat": 4,
 "nbformat_minor": 2
}
